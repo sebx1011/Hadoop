{
  "nbformat": 4,
  "nbformat_minor": 0,
  "metadata": {
    "colab": {
      "provenance": []
    },
    "kernelspec": {
      "name": "python3",
      "display_name": "Python 3"
    }
  },
  "cells": [
    {
      "cell_type": "markdown",
      "metadata": {
        "id": "9NnHUnYdCC2k"
      },
      "source": [
        "# Mini-Tarea 1: Análisis de datos de preferencias musicales\n",
        "\n",
        "La presente actividad debe ser realizada de forma individual. El formato de entregar es el archivo .ipynb con todas las celdas ejecutadas. Las secciones donde se planteen preguntas de forma explícita, deben ser respondida en celdas de texto, y no se aceptará solo el output de una celda de código como respuesta.\n",
        "\n",
        "**Fecha de entrega:** martes 09 de abril de 2024, 09:00 hrs.\n",
        "\n",
        "**Nombre alumno:** Sebastian Navea Aguirre\n"
      ]
    },
    {
      "cell_type": "markdown",
      "metadata": {
        "id": "VveixMBZM7SL"
      },
      "source": [
        "# Apache Hive"
      ]
    },
    {
      "cell_type": "markdown",
      "metadata": {
        "id": "rirmIh6RM-yQ"
      },
      "source": [
        "## Instalación de ambiente"
      ]
    },
    {
      "cell_type": "code",
      "source": [
        "from google.colab import drive\n",
        "drive.mount('/content/drive')"
      ],
      "metadata": {
        "id": "6QfU0kHDQl6T",
        "colab": {
          "base_uri": "https://localhost:8080/"
        },
        "outputId": "d5149228-cfce-4ec0-965d-d5824bc32a54"
      },
      "execution_count": null,
      "outputs": [
        {
          "output_type": "stream",
          "name": "stdout",
          "text": [
            "Mounted at /content/drive\n"
          ]
        }
      ]
    },
    {
      "cell_type": "code",
      "metadata": {
        "id": "vO73ol-jNCdc",
        "colab": {
          "base_uri": "https://localhost:8080/"
        },
        "outputId": "210ded01-ee91-4cfd-d9dd-a4583b20c3e7"
      },
      "source": [
        "exec(open('/content/drive/MyDrive/BigDataSw/hadoop_colab_installer.py').read())"
      ],
      "execution_count": null,
      "outputs": [
        {
          "output_type": "stream",
          "name": "stdout",
          "text": [
            "Active services:\n",
            "2432 JobHistoryServer\n",
            "2146 ResourceManager\n",
            "2485 Jps\n",
            "2293 DataNode\n",
            "2377 NodeManager\n",
            "2220 NameNode\n",
            "\n"
          ]
        }
      ]
    },
    {
      "cell_type": "markdown",
      "metadata": {
        "id": "G7HaKsAfQvK0"
      },
      "source": [
        "## Descarga de dataset"
      ]
    },
    {
      "cell_type": "code",
      "metadata": {
        "id": "lhwOW-7i2xQv"
      },
      "source": [
        "!cp /content/drive/MyDrive/BigDataSw/lastfm-dataset-1K.tar.gz .\n",
        "!tar xzf lastfm-dataset-1K.tar.gz"
      ],
      "execution_count": null,
      "outputs": []
    },
    {
      "cell_type": "markdown",
      "metadata": {
        "id": "2qwA_neHOb18"
      },
      "source": [
        "## Actividad 0"
      ]
    },
    {
      "cell_type": "code",
      "metadata": {
        "id": "vLmOMb6TZfPU"
      },
      "source": [
        "# Inserte su código para copia de datos en HDFS y creación de tablas en metastore\n",
        "\n",
        "#primero, creacion de directorio destinatario para archivo 1 userid-profile\n",
        "!hdfs dfs -mkdir user_profile\n",
        "#creacion directorio destinatario para archivo 2  userid-timestamp-artid\n",
        "!hdfs dfs -mkdir user_timestamp\n",
        "\n",
        "#copiar datos user_profile a carpeta recien creada\n",
        "!hdfs dfs -put lastfm-dataset-1K/userid-profile.tsv user_profile\n",
        "#copiar datos userid_timestamp a carpeta recien creada\n",
        "!hdfs dfs -put lastfm-dataset-1K/userid-timestamp-artid-artname-traid-traname.tsv user_timestamp\n",
        "\n"
      ],
      "execution_count": null,
      "outputs": []
    },
    {
      "cell_type": "code",
      "source": [
        "#creacion base de datos, user, pass, nombre bd\n",
        "!mysql -u root --password=password -e \"CREATE DATABASE db_lastfm;\"\n",
        "#Uso de base de datos recien creada\n",
        "!mysql -u root --password=password db_lastfm"
      ],
      "metadata": {
        "colab": {
          "base_uri": "https://localhost:8080/"
        },
        "id": "1GPFXMghd4HU",
        "outputId": "e3db2339-df17-468f-da3c-c9285bd55d98"
      },
      "execution_count": null,
      "outputs": [
        {
          "output_type": "stream",
          "name": "stdout",
          "text": [
            "mysql: [Warning] Using a password on the command line interface can be insecure.\n",
            "mysql: [Warning] Using a password on the command line interface can be insecure.\n",
            "Welcome to the MySQL monitor.  Commands end with ; or \\g.\n",
            "Your MySQL connection id is 14\n",
            "Server version: 8.0.36-0ubuntu0.22.04.1 (Ubuntu)\n",
            "\n",
            "Copyright (c) 2000, 2024, Oracle and/or its affiliates.\n",
            "\n",
            "Oracle is a registered trademark of Oracle Corporation and/or its\n",
            "affiliates. Other names may be trademarks of their respective\n",
            "owners.\n",
            "\n",
            "Type 'help;' or '\\h' for help. Type '\\c' to clear the current input statement.\n",
            "\n",
            "mysql> show databases;\n",
            "+--------------------+\n",
            "| Database           |\n",
            "+--------------------+\n",
            "| db_lastfm          |\n",
            "| information_schema |\n",
            "| mysql              |\n",
            "| performance_schema |\n",
            "| sys                |\n",
            "| testdb             |\n",
            "+--------------------+\n",
            "6 rows in set (0.00 sec)\n",
            "\n",
            "mysql> show tables;\n",
            "Empty set (0.00 sec)\n",
            "\n",
            "mysql> use db_lastfm;\n",
            "Database changed\n",
            "mysql> exit;\n",
            "Bye\n"
          ]
        }
      ]
    },
    {
      "cell_type": "code",
      "source": [
        "#Creacion de tabla externa dentro del metastore para datos alojados en HDFS\n",
        "#en tabla user_timestamp, se cambio el nombre de columna timestamp a ts, ya que timestamp es una\n",
        "#reservada en hive\n",
        "%%writefile create_tables.sql\n",
        "\n",
        "CREATE EXTERNAL TABLE user_profile (\n",
        "    userid STRING,\n",
        "    gender STRING,\n",
        "    age INT,\n",
        "    country STRING,\n",
        "    signup STRING\n",
        ")\n",
        "ROW FORMAT DELIMITED FIELDS TERMINATED BY '\\t'\n",
        "STORED AS TEXTFILE\n",
        "LOCATION 'hdfs://localhost:9000/user/root/user_profile';\n",
        "\n",
        "CREATE EXTERNAL TABLE user_timestamp (\n",
        "    userid STRING,\n",
        "    ts STRING,\n",
        "    musicbrainz_artist_id STRING,\n",
        "    artist_name STRING,\n",
        "    musicbrainz_track_id STRING,\n",
        "    track_name STRING\n",
        ")\n",
        "ROW FORMAT DELIMITED FIELDS TERMINATED BY '\\t'\n",
        "STORED AS TEXTFILE\n",
        "LOCATION 'hdfs://localhost:9000/user/root/user_timestamp';"
      ],
      "metadata": {
        "colab": {
          "base_uri": "https://localhost:8080/"
        },
        "id": "NaSMiE5yd9oH",
        "outputId": "e784d84e-fdfe-4dc1-f204-f5fa77c1e75d"
      },
      "execution_count": null,
      "outputs": [
        {
          "output_type": "stream",
          "name": "stdout",
          "text": [
            "Writing create_tables.sql\n"
          ]
        }
      ]
    },
    {
      "cell_type": "code",
      "source": [
        "!hive -f create_tables.sql"
      ],
      "metadata": {
        "colab": {
          "base_uri": "https://localhost:8080/"
        },
        "id": "fKgCEPoUcDkq",
        "outputId": "facebed9-6ae5-4bb7-f808-c69d48c604ec"
      },
      "execution_count": null,
      "outputs": [
        {
          "output_type": "stream",
          "name": "stdout",
          "text": [
            "SLF4J: Class path contains multiple SLF4J bindings.\n",
            "SLF4J: Found binding in [jar:file:/content/apache-hive-2.3.9-bin/lib/log4j-slf4j-impl-2.6.2.jar!/org/slf4j/impl/StaticLoggerBinder.class]\n",
            "SLF4J: Found binding in [jar:file:/content/hadoop-2.10.1/share/hadoop/common/lib/slf4j-log4j12-1.7.25.jar!/org/slf4j/impl/StaticLoggerBinder.class]\n",
            "SLF4J: See http://www.slf4j.org/codes.html#multiple_bindings for an explanation.\n",
            "SLF4J: Actual binding is of type [org.apache.logging.slf4j.Log4jLoggerFactory]\n",
            "\n",
            "Logging initialized using configuration in jar:file:/content/apache-hive-2.3.9-bin/lib/hive-common-2.3.9.jar!/hive-log4j2.properties Async: true\n",
            "OK\n",
            "Time taken: 14.654 seconds\n",
            "OK\n",
            "Time taken: 0.334 seconds\n"
          ]
        }
      ]
    },
    {
      "cell_type": "markdown",
      "metadata": {
        "id": "ew-qZSCxOgZ0"
      },
      "source": [
        "## Actividad 1"
      ]
    },
    {
      "cell_type": "code",
      "metadata": {
        "id": "AgEMO9aLZnuq",
        "colab": {
          "base_uri": "https://localhost:8080/"
        },
        "outputId": "33f35b89-c854-4a8d-af24-c5ff20313de1"
      },
      "source": [
        "# Inserte su código\n",
        "%%writefile select_top10_artist.sql\n",
        "select artist_name, COUNT(*) AS play_count FROM user_timestamp\n",
        "GROUP BY artist_name ORDER BY play_count DESC\n",
        "LIMIT 10;"
      ],
      "execution_count": null,
      "outputs": [
        {
          "output_type": "stream",
          "name": "stdout",
          "text": [
            "Writing select_top10_artist.sql\n"
          ]
        }
      ]
    },
    {
      "cell_type": "code",
      "source": [
        "!hive -f select_top10_artist.sql"
      ],
      "metadata": {
        "colab": {
          "base_uri": "https://localhost:8080/"
        },
        "id": "SZWN_BGBcTHD",
        "outputId": "294fb4a6-1bfb-4892-9fde-cb59ed507f3e"
      },
      "execution_count": null,
      "outputs": [
        {
          "output_type": "stream",
          "name": "stdout",
          "text": [
            "SLF4J: Class path contains multiple SLF4J bindings.\n",
            "SLF4J: Found binding in [jar:file:/content/apache-hive-2.3.9-bin/lib/log4j-slf4j-impl-2.6.2.jar!/org/slf4j/impl/StaticLoggerBinder.class]\n",
            "SLF4J: Found binding in [jar:file:/content/hadoop-2.10.1/share/hadoop/common/lib/slf4j-log4j12-1.7.25.jar!/org/slf4j/impl/StaticLoggerBinder.class]\n",
            "SLF4J: See http://www.slf4j.org/codes.html#multiple_bindings for an explanation.\n",
            "SLF4J: Actual binding is of type [org.apache.logging.slf4j.Log4jLoggerFactory]\n",
            "\n",
            "Logging initialized using configuration in jar:file:/content/apache-hive-2.3.9-bin/lib/hive-common-2.3.9.jar!/hive-log4j2.properties Async: true\n",
            "WARNING: Hive-on-MR is deprecated in Hive 2 and may not be available in the future versions. Consider using a different execution engine (i.e. spark, tez) or using Hive 1.X releases.\n",
            "Query ID = root_20240408205136_201a5105-249f-44da-bce8-96b90c323906\n",
            "Total jobs = 2\n",
            "Launching Job 1 out of 2\n",
            "Number of reduce tasks not specified. Estimated from input data size: 10\n",
            "In order to change the average load for a reducer (in bytes):\n",
            "  set hive.exec.reducers.bytes.per.reducer=<number>\n",
            "In order to limit the maximum number of reducers:\n",
            "  set hive.exec.reducers.max=<number>\n",
            "In order to set a constant number of reducers:\n",
            "  set mapreduce.job.reduces=<number>\n",
            "Starting Job = job_1712609098572_0001, Tracking URL = http://debbec0f9995:8088/proxy/application_1712609098572_0001/\n",
            "Kill Command = /content/hadoop/bin/hadoop job  -kill job_1712609098572_0001\n",
            "Hadoop job information for Stage-1: number of mappers: 10; number of reducers: 10\n",
            "2024-04-08 20:52:12,529 Stage-1 map = 0%,  reduce = 0%\n",
            "2024-04-08 20:53:13,723 Stage-1 map = 0%,  reduce = 0%, Cumulative CPU 27.7 sec\n",
            "2024-04-08 20:53:22,709 Stage-1 map = 3%,  reduce = 0%, Cumulative CPU 38.87 sec\n",
            "2024-04-08 20:53:25,310 Stage-1 map = 7%,  reduce = 0%, Cumulative CPU 39.8 sec\n",
            "2024-04-08 20:53:26,624 Stage-1 map = 10%,  reduce = 0%, Cumulative CPU 40.56 sec\n",
            "2024-04-08 20:53:27,833 Stage-1 map = 13%,  reduce = 0%, Cumulative CPU 42.29 sec\n",
            "2024-04-08 20:53:29,158 Stage-1 map = 20%,  reduce = 0%, Cumulative CPU 44.16 sec\n",
            "2024-04-08 20:53:37,697 Stage-1 map = 23%,  reduce = 0%, Cumulative CPU 50.12 sec\n",
            "2024-04-08 20:53:40,299 Stage-1 map = 27%,  reduce = 0%, Cumulative CPU 52.52 sec\n",
            "2024-04-08 20:53:41,562 Stage-1 map = 33%,  reduce = 0%, Cumulative CPU 54.05 sec\n",
            "2024-04-08 20:53:43,800 Stage-1 map = 50%,  reduce = 0%, Cumulative CPU 57.45 sec\n",
            "2024-04-08 20:53:44,829 Stage-1 map = 60%,  reduce = 0%, Cumulative CPU 59.88 sec\n",
            "2024-04-08 20:54:29,546 Stage-1 map = 60%,  reduce = 2%, Cumulative CPU 60.24 sec\n",
            "2024-04-08 20:54:30,632 Stage-1 map = 60%,  reduce = 4%, Cumulative CPU 60.8 sec\n",
            "2024-04-08 20:54:32,969 Stage-1 map = 70%,  reduce = 4%, Cumulative CPU 76.75 sec\n",
            "2024-04-08 20:54:36,548 Stage-1 map = 70%,  reduce = 5%, Cumulative CPU 82.44 sec\n",
            "2024-04-08 20:54:37,665 Stage-1 map = 73%,  reduce = 5%, Cumulative CPU 83.89 sec\n",
            "2024-04-08 20:54:38,828 Stage-1 map = 77%,  reduce = 5%, Cumulative CPU 85.36 sec\n",
            "2024-04-08 20:54:40,042 Stage-1 map = 80%,  reduce = 5%, Cumulative CPU 86.74 sec\n",
            "2024-04-08 20:54:43,501 Stage-1 map = 83%,  reduce = 5%, Cumulative CPU 88.07 sec\n",
            "2024-04-08 20:54:44,647 Stage-1 map = 87%,  reduce = 5%, Cumulative CPU 89.17 sec\n",
            "2024-04-08 20:54:47,025 Stage-1 map = 93%,  reduce = 5%, Cumulative CPU 91.28 sec\n",
            "2024-04-08 20:54:48,299 Stage-1 map = 97%,  reduce = 6%, Cumulative CPU 92.32 sec\n",
            "2024-04-08 20:54:49,499 Stage-1 map = 100%,  reduce = 6%, Cumulative CPU 93.09 sec\n",
            "2024-04-08 20:54:54,477 Stage-1 map = 100%,  reduce = 13%, Cumulative CPU 94.72 sec\n",
            "2024-04-08 20:55:05,124 Stage-1 map = 100%,  reduce = 20%, Cumulative CPU 99.8 sec\n",
            "2024-04-08 20:55:12,204 Stage-1 map = 100%,  reduce = 29%, Cumulative CPU 103.34 sec\n",
            "2024-04-08 20:55:13,410 Stage-1 map = 100%,  reduce = 30%, Cumulative CPU 103.6 sec\n",
            "2024-04-08 20:55:29,680 Stage-1 map = 100%,  reduce = 43%, Cumulative CPU 107.16 sec\n",
            "2024-04-08 20:55:30,950 Stage-1 map = 100%,  reduce = 50%, Cumulative CPU 108.97 sec\n",
            "2024-04-08 20:55:38,251 Stage-1 map = 100%,  reduce = 53%, Cumulative CPU 110.73 sec\n",
            "2024-04-08 20:55:39,394 Stage-1 map = 100%,  reduce = 60%, Cumulative CPU 114.57 sec\n",
            "2024-04-08 20:55:47,359 Stage-1 map = 100%,  reduce = 70%, Cumulative CPU 117.95 sec\n",
            "2024-04-08 20:55:48,416 Stage-1 map = 100%,  reduce = 80%, Cumulative CPU 120.86 sec\n",
            "2024-04-08 20:55:51,701 Stage-1 map = 100%,  reduce = 90%, Cumulative CPU 124.22 sec\n",
            "2024-04-08 20:55:57,145 Stage-1 map = 100%,  reduce = 100%, Cumulative CPU 127.32 sec\n",
            "MapReduce Total cumulative CPU time: 2 minutes 7 seconds 320 msec\n",
            "Ended Job = job_1712609098572_0001\n",
            "Launching Job 2 out of 2\n",
            "Number of reduce tasks determined at compile time: 1\n",
            "In order to change the average load for a reducer (in bytes):\n",
            "  set hive.exec.reducers.bytes.per.reducer=<number>\n",
            "In order to limit the maximum number of reducers:\n",
            "  set hive.exec.reducers.max=<number>\n",
            "In order to set a constant number of reducers:\n",
            "  set mapreduce.job.reduces=<number>\n",
            "Starting Job = job_1712609098572_0002, Tracking URL = http://debbec0f9995:8088/proxy/application_1712609098572_0002/\n",
            "Kill Command = /content/hadoop/bin/hadoop job  -kill job_1712609098572_0002\n",
            "Hadoop job information for Stage-2: number of mappers: 1; number of reducers: 1\n",
            "2024-04-08 20:56:15,527 Stage-2 map = 0%,  reduce = 0%\n",
            "2024-04-08 20:56:24,138 Stage-2 map = 100%,  reduce = 0%, Cumulative CPU 4.65 sec\n",
            "2024-04-08 20:56:35,928 Stage-2 map = 100%,  reduce = 100%, Cumulative CPU 6.96 sec\n",
            "MapReduce Total cumulative CPU time: 6 seconds 960 msec\n",
            "Ended Job = job_1712609098572_0002\n",
            "MapReduce Jobs Launched: \n",
            "Stage-Stage-1: Map: 10  Reduce: 10   Cumulative CPU: 127.32 sec   HDFS Read: 2529347551 HDFS Write: 6290492 SUCCESS\n",
            "Stage-Stage-2: Map: 1  Reduce: 1   Cumulative CPU: 6.96 sec   HDFS Read: 6298389 HDFS Write: 387 SUCCESS\n",
            "Total MapReduce CPU Time Spent: 2 minutes 14 seconds 280 msec\n",
            "OK\n",
            "artist_name\tplay_count\n",
            "Radiohead\t115209\n",
            "The Beatles\t100338\n",
            "Nine Inch Nails\t84421\n",
            "Muse\t63351\n",
            "Coldplay\t62251\n",
            "Depeche Mode\t59910\n",
            "Pink Floyd\t58561\n",
            "Death Cab For Cutie\t58083\n",
            "Placebo\t53543\n",
            "Elliott Smith\t50278\n",
            "Time taken: 301.964 seconds, Fetched: 10 row(s)\n"
          ]
        }
      ]
    },
    {
      "cell_type": "markdown",
      "metadata": {
        "id": "etiQ4ivuZphe"
      },
      "source": [
        "Responda la siguiente pregunta:\n",
        "\n",
        "¿ Cuál es el artista más popular y el menos popular dele ranking top-10 ?\n",
        "\n",
        "El artista mas popular es Radiohead, con 115209 reproduccion, y el menos popuular es Elliott Smith, con 50278 reproducciones."
      ]
    },
    {
      "cell_type": "markdown",
      "metadata": {
        "id": "dMUgQZPHOjP6"
      },
      "source": [
        "## Actividad 2"
      ]
    },
    {
      "cell_type": "code",
      "metadata": {
        "id": "j2k1V-LcZt3N",
        "colab": {
          "base_uri": "https://localhost:8080/"
        },
        "outputId": "fed48ae5-57bf-4b9d-c1d1-0481a8e620cb"
      },
      "source": [
        "# Inserte su código\n",
        "#desarrollo de select considerando el artista mas escuchado, obtener la\n",
        "#distribucion de sus oyentes segun el genero\n",
        "%%writefile select_most_played_by_gender.sql\n",
        "\n",
        "select p.gender, COUNT(*) as listener_count\n",
        "FROM user_profile p JOIN user_timestamp t ON p.userid = t.userid\n",
        "WHERE t.artist_name = 'Radiohead' AND p.gender IS NOT NULL\n",
        "GROUP BY p.gender;"
      ],
      "execution_count": null,
      "outputs": [
        {
          "output_type": "stream",
          "name": "stdout",
          "text": [
            "Writing select_most_played_by_gender.sql\n"
          ]
        }
      ]
    },
    {
      "cell_type": "code",
      "source": [
        "!hive -f select_most_played_by_gender.sql"
      ],
      "metadata": {
        "colab": {
          "base_uri": "https://localhost:8080/"
        },
        "id": "O7OtTyzvcatK",
        "outputId": "3447f720-a3be-4a85-fd13-15a2eaa5ff78"
      },
      "execution_count": null,
      "outputs": [
        {
          "output_type": "stream",
          "name": "stdout",
          "text": [
            "SLF4J: Class path contains multiple SLF4J bindings.\n",
            "SLF4J: Found binding in [jar:file:/content/apache-hive-2.3.9-bin/lib/log4j-slf4j-impl-2.6.2.jar!/org/slf4j/impl/StaticLoggerBinder.class]\n",
            "SLF4J: Found binding in [jar:file:/content/hadoop-2.10.1/share/hadoop/common/lib/slf4j-log4j12-1.7.25.jar!/org/slf4j/impl/StaticLoggerBinder.class]\n",
            "SLF4J: See http://www.slf4j.org/codes.html#multiple_bindings for an explanation.\n",
            "SLF4J: Actual binding is of type [org.apache.logging.slf4j.Log4jLoggerFactory]\n",
            "\n",
            "Logging initialized using configuration in jar:file:/content/apache-hive-2.3.9-bin/lib/hive-common-2.3.9.jar!/hive-log4j2.properties Async: true\n",
            "WARNING: Hive-on-MR is deprecated in Hive 2 and may not be available in the future versions. Consider using a different execution engine (i.e. spark, tez) or using Hive 1.X releases.\n",
            "Query ID = root_20240408205857_39932d0b-e150-4db0-8674-398b0a46dbe1\n",
            "Total jobs = 1\n",
            "SLF4J: Class path contains multiple SLF4J bindings.\n",
            "SLF4J: Found binding in [jar:file:/content/apache-hive-2.3.9-bin/lib/log4j-slf4j-impl-2.6.2.jar!/org/slf4j/impl/StaticLoggerBinder.class]\n",
            "SLF4J: Found binding in [jar:file:/content/hadoop-2.10.1/share/hadoop/common/lib/slf4j-log4j12-1.7.25.jar!/org/slf4j/impl/StaticLoggerBinder.class]\n",
            "SLF4J: See http://www.slf4j.org/codes.html#multiple_bindings for an explanation.\n",
            "SLF4J: Actual binding is of type [org.apache.logging.slf4j.Log4jLoggerFactory]\n",
            "2024-04-08 20:59:28\tStarting to launch local task to process map join;\tmaximum memory = 477626368\n",
            "2024-04-08 20:59:31\tDump the side-table for tag: 0 with group count: 993 into file: file:/tmp/root/571a713c-dc48-4247-9432-4d9524821af7/hive_2024-04-08_20-58-57_174_8297869269448168140-1/-local-10005/HashTable-Stage-2/MapJoin-mapfile00--.hashtable\n",
            "2024-04-08 20:59:31\tUploaded 1 File to: file:/tmp/root/571a713c-dc48-4247-9432-4d9524821af7/hive_2024-04-08_20-58-57_174_8297869269448168140-1/-local-10005/HashTable-Stage-2/MapJoin-mapfile00--.hashtable (32078 bytes)\n",
            "2024-04-08 20:59:31\tEnd of local task; Time Taken: 2.44 sec.\n",
            "Execution completed successfully\n",
            "MapredLocal task succeeded\n",
            "Launching Job 1 out of 1\n",
            "Number of reduce tasks not specified. Estimated from input data size: 10\n",
            "In order to change the average load for a reducer (in bytes):\n",
            "  set hive.exec.reducers.bytes.per.reducer=<number>\n",
            "In order to limit the maximum number of reducers:\n",
            "  set hive.exec.reducers.max=<number>\n",
            "In order to set a constant number of reducers:\n",
            "  set mapreduce.job.reduces=<number>\n",
            "Starting Job = job_1712609098572_0003, Tracking URL = http://debbec0f9995:8088/proxy/application_1712609098572_0003/\n",
            "Kill Command = /content/hadoop/bin/hadoop job  -kill job_1712609098572_0003\n",
            "Hadoop job information for Stage-2: number of mappers: 10; number of reducers: 10\n",
            "2024-04-08 20:59:52,247 Stage-2 map = 0%,  reduce = 0%\n",
            "2024-04-08 21:00:53,092 Stage-2 map = 0%,  reduce = 0%, Cumulative CPU 33.97 sec\n",
            "2024-04-08 21:00:59,760 Stage-2 map = 3%,  reduce = 0%, Cumulative CPU 40.26 sec\n",
            "2024-04-08 21:01:01,066 Stage-2 map = 7%,  reduce = 0%, Cumulative CPU 41.76 sec\n",
            "2024-04-08 21:01:05,109 Stage-2 map = 13%,  reduce = 0%, Cumulative CPU 44.46 sec\n",
            "2024-04-08 21:01:06,408 Stage-2 map = 17%,  reduce = 0%, Cumulative CPU 47.19 sec\n",
            "2024-04-08 21:01:11,282 Stage-2 map = 20%,  reduce = 0%, Cumulative CPU 50.24 sec\n",
            "2024-04-08 21:01:13,476 Stage-2 map = 53%,  reduce = 0%, Cumulative CPU 55.72 sec\n",
            "2024-04-08 21:01:15,741 Stage-2 map = 60%,  reduce = 0%, Cumulative CPU 57.46 sec\n",
            "2024-04-08 21:02:02,037 Stage-2 map = 60%,  reduce = 4%, Cumulative CPU 66.85 sec\n",
            "2024-04-08 21:02:06,671 Stage-2 map = 70%,  reduce = 4%, Cumulative CPU 81.47 sec\n",
            "2024-04-08 21:02:07,836 Stage-2 map = 70%,  reduce = 5%, Cumulative CPU 81.63 sec\n",
            "2024-04-08 21:02:09,002 Stage-2 map = 77%,  reduce = 5%, Cumulative CPU 84.3 sec\n",
            "2024-04-08 21:02:12,546 Stage-2 map = 80%,  reduce = 5%, Cumulative CPU 85.65 sec\n",
            "2024-04-08 21:02:22,064 Stage-2 map = 93%,  reduce = 5%, Cumulative CPU 91.63 sec\n",
            "2024-04-08 21:02:23,436 Stage-2 map = 100%,  reduce = 5%, Cumulative CPU 92.06 sec\n",
            "2024-04-08 21:02:26,207 Stage-2 map = 100%,  reduce = 13%, Cumulative CPU 92.92 sec\n",
            "2024-04-08 21:02:38,257 Stage-2 map = 100%,  reduce = 17%, Cumulative CPU 96.62 sec\n",
            "2024-04-08 21:02:39,430 Stage-2 map = 100%,  reduce = 20%, Cumulative CPU 98.49 sec\n",
            "2024-04-08 21:02:51,824 Stage-2 map = 100%,  reduce = 27%, Cumulative CPU 100.66 sec\n",
            "2024-04-08 21:02:57,042 Stage-2 map = 100%,  reduce = 30%, Cumulative CPU 101.68 sec\n",
            "2024-04-08 21:03:05,777 Stage-2 map = 100%,  reduce = 43%, Cumulative CPU 105.36 sec\n",
            "2024-04-08 21:03:07,006 Stage-2 map = 100%,  reduce = 50%, Cumulative CPU 107.32 sec\n",
            "2024-04-08 21:03:11,734 Stage-2 map = 100%,  reduce = 53%, Cumulative CPU 108.41 sec\n",
            "2024-04-08 21:03:12,834 Stage-2 map = 100%,  reduce = 60%, Cumulative CPU 111.05 sec\n",
            "2024-04-08 21:03:20,744 Stage-2 map = 100%,  reduce = 80%, Cumulative CPU 116.74 sec\n",
            "2024-04-08 21:03:27,314 Stage-2 map = 100%,  reduce = 90%, Cumulative CPU 119.3 sec\n",
            "2024-04-08 21:03:30,472 Stage-2 map = 100%,  reduce = 100%, Cumulative CPU 122.0 sec\n",
            "MapReduce Total cumulative CPU time: 2 minutes 2 seconds 0 msec\n",
            "Ended Job = job_1712609098572_0003\n",
            "MapReduce Jobs Launched: \n",
            "Stage-Stage-2: Map: 10  Reduce: 10   Cumulative CPU: 122.0 sec   HDFS Read: 2529391441 HDFS Write: 928 SUCCESS\n",
            "Total MapReduce CPU Time Spent: 2 minutes 2 seconds 0 msec\n",
            "OK\n",
            "p.gender\tlistener_count\n",
            "\t7677\n",
            "f\t43748\n",
            "m\t63784\n",
            "Time taken: 275.732 seconds, Fetched: 3 row(s)\n"
          ]
        }
      ]
    },
    {
      "cell_type": "markdown",
      "metadata": {
        "id": "hGYLdDpLZwJA"
      },
      "source": [
        "Responda la siguiente pregunta:\n",
        "\n",
        "¿ Cuál es la cantidad de hombres y mujeres que han escuchado alguna canción del artista más popular ?\n",
        "\n",
        "La cantidad de mujeres que han escuchado alguna cancion del artista polular son 43748.\n",
        "\n",
        "La cantidad de hombres que han esuchado alguna cancion del artista popular son de 63784\n"
      ]
    },
    {
      "cell_type": "markdown",
      "metadata": {
        "id": "oCpp3dzyOmPh"
      },
      "source": [
        "## Actividad 3"
      ]
    },
    {
      "cell_type": "code",
      "metadata": {
        "id": "KvEaO0txZ0xR",
        "colab": {
          "base_uri": "https://localhost:8080/"
        },
        "outputId": "89cb62e7-d110-4b09-cdb5-151ac6a6f875"
      },
      "source": [
        "# Inserte su código\n",
        "#desarrollo de select considerando el artista mas escuchado, obtener\n",
        "#la distribucion de los auditores por su edad, ordenado ascendente por edad\n",
        "\n",
        "%%writefile select_most_played_by_age.sql\n",
        "\n",
        "select p.age, COUNT(*) as listener_count\n",
        "FROM user_profile p JOIN user_timestamp t ON p.userid = t.userid\n",
        "WHERE t.artist_name = 'Radiohead' AND p.age IS NOT NULL\n",
        "GROUP BY p.age\n",
        "ORDER BY p.age ASC;"
      ],
      "execution_count": null,
      "outputs": [
        {
          "output_type": "stream",
          "name": "stdout",
          "text": [
            "Writing select_most_played_by_age.sql\n"
          ]
        }
      ]
    },
    {
      "cell_type": "code",
      "source": [
        "!hive -f select_most_played_by_age.sql"
      ],
      "metadata": {
        "colab": {
          "base_uri": "https://localhost:8080/"
        },
        "id": "mEUjXJOecjBP",
        "outputId": "40a4ffe3-a612-4be5-ed33-77aa2469dff0"
      },
      "execution_count": null,
      "outputs": [
        {
          "output_type": "stream",
          "name": "stdout",
          "text": [
            "SLF4J: Class path contains multiple SLF4J bindings.\n",
            "SLF4J: Found binding in [jar:file:/content/apache-hive-2.3.9-bin/lib/log4j-slf4j-impl-2.6.2.jar!/org/slf4j/impl/StaticLoggerBinder.class]\n",
            "SLF4J: Found binding in [jar:file:/content/hadoop-2.10.1/share/hadoop/common/lib/slf4j-log4j12-1.7.25.jar!/org/slf4j/impl/StaticLoggerBinder.class]\n",
            "SLF4J: See http://www.slf4j.org/codes.html#multiple_bindings for an explanation.\n",
            "SLF4J: Actual binding is of type [org.apache.logging.slf4j.Log4jLoggerFactory]\n",
            "\n",
            "Logging initialized using configuration in jar:file:/content/apache-hive-2.3.9-bin/lib/hive-common-2.3.9.jar!/hive-log4j2.properties Async: true\n",
            "WARNING: Hive-on-MR is deprecated in Hive 2 and may not be available in the future versions. Consider using a different execution engine (i.e. spark, tez) or using Hive 1.X releases.\n",
            "Query ID = root_20240408211854_ce63cfec-5631-40f8-bde9-9b13f3898059\n",
            "Total jobs = 2\n",
            "SLF4J: Class path contains multiple SLF4J bindings.\n",
            "SLF4J: Found binding in [jar:file:/content/apache-hive-2.3.9-bin/lib/log4j-slf4j-impl-2.6.2.jar!/org/slf4j/impl/StaticLoggerBinder.class]\n",
            "SLF4J: Found binding in [jar:file:/content/hadoop-2.10.1/share/hadoop/common/lib/slf4j-log4j12-1.7.25.jar!/org/slf4j/impl/StaticLoggerBinder.class]\n",
            "SLF4J: See http://www.slf4j.org/codes.html#multiple_bindings for an explanation.\n",
            "SLF4J: Actual binding is of type [org.apache.logging.slf4j.Log4jLoggerFactory]\n",
            "2024-04-08 21:19:27\tStarting to launch local task to process map join;\tmaximum memory = 477626368\n",
            "2024-04-08 21:19:29\tDump the side-table for tag: 0 with group count: 286 into file: file:/tmp/root/17f6981d-9be1-4043-9c3d-657541260b99/hive_2024-04-08_21-18-54_187_4113548042293784138-1/-local-10006/HashTable-Stage-2/MapJoin-mapfile00--.hashtable\n",
            "2024-04-08 21:19:29\tUploaded 1 File to: file:/tmp/root/17f6981d-9be1-4043-9c3d-657541260b99/hive_2024-04-08_21-18-54_187_4113548042293784138-1/-local-10006/HashTable-Stage-2/MapJoin-mapfile00--.hashtable (9169 bytes)\n",
            "2024-04-08 21:19:29\tEnd of local task; Time Taken: 1.924 sec.\n",
            "Execution completed successfully\n",
            "MapredLocal task succeeded\n",
            "Launching Job 1 out of 2\n",
            "Number of reduce tasks not specified. Estimated from input data size: 10\n",
            "In order to change the average load for a reducer (in bytes):\n",
            "  set hive.exec.reducers.bytes.per.reducer=<number>\n",
            "In order to limit the maximum number of reducers:\n",
            "  set hive.exec.reducers.max=<number>\n",
            "In order to set a constant number of reducers:\n",
            "  set mapreduce.job.reduces=<number>\n",
            "Starting Job = job_1712609098572_0004, Tracking URL = http://debbec0f9995:8088/proxy/application_1712609098572_0004/\n",
            "Kill Command = /content/hadoop/bin/hadoop job  -kill job_1712609098572_0004\n",
            "Hadoop job information for Stage-2: number of mappers: 10; number of reducers: 10\n",
            "2024-04-08 21:19:49,672 Stage-2 map = 0%,  reduce = 0%\n",
            "2024-04-08 21:20:50,776 Stage-2 map = 0%,  reduce = 0%, Cumulative CPU 32.94 sec\n",
            "2024-04-08 21:20:57,305 Stage-2 map = 7%,  reduce = 0%, Cumulative CPU 38.7 sec\n",
            "2024-04-08 21:21:05,064 Stage-2 map = 17%,  reduce = 0%, Cumulative CPU 47.18 sec\n",
            "2024-04-08 21:21:11,340 Stage-2 map = 20%,  reduce = 0%, Cumulative CPU 52.28 sec\n",
            "2024-04-08 21:21:13,665 Stage-2 map = 33%,  reduce = 0%, Cumulative CPU 53.71 sec\n",
            "2024-04-08 21:21:14,707 Stage-2 map = 53%,  reduce = 0%, Cumulative CPU 56.23 sec\n",
            "2024-04-08 21:21:15,794 Stage-2 map = 60%,  reduce = 0%, Cumulative CPU 57.7 sec\n",
            "2024-04-08 21:21:59,014 Stage-2 map = 60%,  reduce = 4%, Cumulative CPU 58.41 sec\n",
            "2024-04-08 21:22:08,479 Stage-2 map = 77%,  reduce = 4%, Cumulative CPU 87.03 sec\n",
            "2024-04-08 21:22:10,846 Stage-2 map = 77%,  reduce = 5%, Cumulative CPU 87.21 sec\n",
            "2024-04-08 21:22:14,331 Stage-2 map = 87%,  reduce = 5%, Cumulative CPU 90.98 sec\n",
            "2024-04-08 21:22:15,499 Stage-2 map = 93%,  reduce = 5%, Cumulative CPU 91.17 sec\n",
            "2024-04-08 21:22:16,670 Stage-2 map = 93%,  reduce = 6%, Cumulative CPU 91.36 sec\n",
            "2024-04-08 21:22:19,033 Stage-2 map = 100%,  reduce = 6%, Cumulative CPU 92.31 sec\n",
            "2024-04-08 21:22:22,803 Stage-2 map = 100%,  reduce = 13%, Cumulative CPU 93.71 sec\n",
            "2024-04-08 21:22:31,068 Stage-2 map = 100%,  reduce = 20%, Cumulative CPU 97.23 sec\n",
            "2024-04-08 21:22:46,381 Stage-2 map = 100%,  reduce = 27%, Cumulative CPU 99.77 sec\n",
            "2024-04-08 21:22:51,510 Stage-2 map = 100%,  reduce = 30%, Cumulative CPU 100.61 sec\n",
            "2024-04-08 21:22:57,785 Stage-2 map = 100%,  reduce = 43%, Cumulative CPU 104.13 sec\n",
            "2024-04-08 21:23:03,934 Stage-2 map = 100%,  reduce = 50%, Cumulative CPU 106.05 sec\n",
            "2024-04-08 21:23:07,670 Stage-2 map = 100%,  reduce = 57%, Cumulative CPU 109.02 sec\n",
            "2024-04-08 21:23:10,030 Stage-2 map = 100%,  reduce = 60%, Cumulative CPU 109.98 sec\n",
            "2024-04-08 21:23:15,660 Stage-2 map = 100%,  reduce = 70%, Cumulative CPU 112.52 sec\n",
            "2024-04-08 21:23:16,733 Stage-2 map = 100%,  reduce = 80%, Cumulative CPU 114.86 sec\n",
            "2024-04-08 21:23:20,985 Stage-2 map = 100%,  reduce = 90%, Cumulative CPU 117.04 sec\n",
            "2024-04-08 21:23:23,116 Stage-2 map = 100%,  reduce = 100%, Cumulative CPU 119.47 sec\n",
            "MapReduce Total cumulative CPU time: 1 minutes 59 seconds 470 msec\n",
            "Ended Job = job_1712609098572_0004\n",
            "Launching Job 2 out of 2\n",
            "Number of reduce tasks determined at compile time: 1\n",
            "In order to change the average load for a reducer (in bytes):\n",
            "  set hive.exec.reducers.bytes.per.reducer=<number>\n",
            "In order to limit the maximum number of reducers:\n",
            "  set hive.exec.reducers.max=<number>\n",
            "In order to set a constant number of reducers:\n",
            "  set mapreduce.job.reduces=<number>\n",
            "Starting Job = job_1712609098572_0005, Tracking URL = http://debbec0f9995:8088/proxy/application_1712609098572_0005/\n",
            "Kill Command = /content/hadoop/bin/hadoop job  -kill job_1712609098572_0005\n",
            "Hadoop job information for Stage-3: number of mappers: 1; number of reducers: 1\n",
            "2024-04-08 21:23:43,892 Stage-3 map = 0%,  reduce = 0%\n",
            "2024-04-08 21:23:50,207 Stage-3 map = 100%,  reduce = 0%, Cumulative CPU 1.77 sec\n",
            "2024-04-08 21:23:58,860 Stage-3 map = 100%,  reduce = 100%, Cumulative CPU 3.93 sec\n",
            "MapReduce Total cumulative CPU time: 3 seconds 930 msec\n",
            "Ended Job = job_1712609098572_0005\n",
            "MapReduce Jobs Launched: \n",
            "Stage-Stage-2: Map: 10  Reduce: 10   Cumulative CPU: 119.47 sec   HDFS Read: 2529383291 HDFS Write: 1589 SUCCESS\n",
            "Stage-Stage-3: Map: 1  Reduce: 1   Cumulative CPU: 3.93 sec   HDFS Read: 9310 HDFS Write: 675 SUCCESS\n",
            "Total MapReduce CPU Time Spent: 2 minutes 3 seconds 400 msec\n",
            "OK\n",
            "p.age\tlistener_count\n",
            "3\t2\n",
            "4\t14\n",
            "7\t2\n",
            "15\t2\n",
            "16\t122\n",
            "17\t444\n",
            "18\t65\n",
            "19\t4514\n",
            "20\t5760\n",
            "21\t1589\n",
            "22\t7038\n",
            "23\t2552\n",
            "24\t1313\n",
            "25\t1289\n",
            "26\t2527\n",
            "27\t2360\n",
            "28\t1330\n",
            "29\t359\n",
            "30\t617\n",
            "31\t146\n",
            "32\t433\n",
            "33\t1441\n",
            "34\t404\n",
            "35\t1543\n",
            "36\t1962\n",
            "38\t422\n",
            "39\t213\n",
            "42\t13\n",
            "48\t35\n",
            "75\t109\n",
            "103\t1\n",
            "Time taken: 307.048 seconds, Fetched: 31 row(s)\n"
          ]
        }
      ]
    },
    {
      "cell_type": "markdown",
      "metadata": {
        "id": "oRS4jTvWZ2Us"
      },
      "source": [
        "Responda la siguiente pregunta:\n",
        "\n",
        "¿ Cuántos usuarios de 35 años han escuchado al artista más popular ?\n",
        "\n",
        "Dentro de los usuarios de 35 años, 1543 de ellos han escuchado al artista mas popular."
      ]
    },
    {
      "cell_type": "code",
      "source": [],
      "metadata": {
        "id": "cu-ehQHMpMx1"
      },
      "execution_count": null,
      "outputs": []
    }
  ]
}