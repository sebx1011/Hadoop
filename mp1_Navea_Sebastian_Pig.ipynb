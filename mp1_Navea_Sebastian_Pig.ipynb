{
  "nbformat": 4,
  "nbformat_minor": 0,
  "metadata": {
    "colab": {
      "provenance": []
    },
    "kernelspec": {
      "name": "python3",
      "display_name": "Python 3"
    }
  },
  "cells": [
    {
      "cell_type": "markdown",
      "metadata": {
        "id": "e-pLm7X5EStF"
      },
      "source": [
        "# Mini-Tarea 1: Análisis de datos de preferencias musicales\n",
        "\n",
        "La presente actividad debe ser realizada de forma individual. El formato de entregar es el archivo .ipynb con todas las celdas ejecutadas. Las secciones donde se planteen preguntas de forma explícita, deben ser respondida en celdas de texto, y no se aceptará solo el output de una celda de código como respuesta.\n",
        "\n",
        "**Fecha de entrega:** martes 09 de abril de 2024, 09:00 hrs.\n",
        "\n",
        "**Nombre alumno:** Sebastian Navea Aguirre"
      ]
    },
    {
      "cell_type": "markdown",
      "metadata": {
        "id": "pDAr1bLidyCd"
      },
      "source": [
        "# Apache Pig"
      ]
    },
    {
      "cell_type": "markdown",
      "metadata": {
        "id": "v6VB_YXe0IRz"
      },
      "source": [
        "## Instalación de ambiente"
      ]
    },
    {
      "cell_type": "code",
      "source": [
        "from google.colab import drive\n",
        "drive.mount('/content/drive')"
      ],
      "metadata": {
        "id": "3PbeUdlfR-El",
        "colab": {
          "base_uri": "https://localhost:8080/"
        },
        "outputId": "e1b033b8-af44-49ce-c5c8-7e64e99e4d8c"
      },
      "execution_count": null,
      "outputs": [
        {
          "output_type": "stream",
          "name": "stdout",
          "text": [
            "Mounted at /content/drive\n"
          ]
        }
      ]
    },
    {
      "cell_type": "code",
      "metadata": {
        "id": "_Ht3M3cube6D",
        "colab": {
          "base_uri": "https://localhost:8080/"
        },
        "outputId": "bb0d7db2-9ec3-4d41-ae0b-4c864d6911ff"
      },
      "source": [
        "exec(open('/content/drive/MyDrive/BigDataSw/hadoop_colab_installer.py').read())"
      ],
      "execution_count": null,
      "outputs": [
        {
          "output_type": "stream",
          "name": "stdout",
          "text": [
            "Active services:\n",
            "2545 Jps\n",
            "2322 NodeManager\n",
            "2165 NameNode\n",
            "2426 JobHistoryServer\n",
            "2095 ResourceManager\n",
            "2239 DataNode\n",
            "\n"
          ]
        }
      ]
    },
    {
      "cell_type": "markdown",
      "metadata": {
        "id": "T8wlxMdqQr0k"
      },
      "source": [
        "## Descarga de dataset"
      ]
    },
    {
      "cell_type": "code",
      "metadata": {
        "id": "Ils_GWEngBZh"
      },
      "source": [
        "!cp /content/drive/MyDrive/BigDataSw/lastfm-dataset-1K.tar.gz .\n",
        "!tar xzf lastfm-dataset-1K.tar.gz"
      ],
      "execution_count": null,
      "outputs": []
    },
    {
      "cell_type": "markdown",
      "metadata": {
        "id": "pcMmQMNgzurL"
      },
      "source": [
        "## Actividad 0"
      ]
    },
    {
      "cell_type": "code",
      "metadata": {
        "id": "B5jJ3ZFoY8_f"
      },
      "source": [
        "# Inserte su código para copia de datos en HDFS y definición de UDFs\n",
        "\n",
        "#primero, creacion de directorio destinatario para archivo 1 userid-profile\n",
        "!hdfs dfs -mkdir user_profile\n",
        "#creacion directorio destinatario para archivo 2  userid-timestamp-artid\n",
        "!hdfs dfs -mkdir user_timestamp\n",
        "\n",
        "#copiar datos user_profile a carpeta recien creada\n",
        "!hdfs dfs -put lastfm-dataset-1K/userid-profile.tsv user_profile\n",
        "#copiar datos userid_timestamp a carpeta recien creada\n",
        "!hdfs dfs -put lastfm-dataset-1K/userid-timestamp-artid-artname-traid-traname.tsv user_timestamp"
      ],
      "execution_count": null,
      "outputs": []
    },
    {
      "cell_type": "code",
      "source": [
        "#definicion de UDF para detectar campos vacios\n",
        "%%writefile my_pig_udfs.py\n",
        "\n",
        "from pig_util import outputSchema\n",
        "import re\n",
        "import array\n",
        "\n",
        "@outputSchema('detected:boolean')\n",
        "def empty_detector( query ):\n",
        "  if query is None:\n",
        "    return True\n",
        "  query = query.tostring() # 'array' to 'str'\n",
        "  if len( query ) == 0:\n",
        "    return True\n",
        "  return False"
      ],
      "metadata": {
        "id": "KIiGGbZn9HX6",
        "colab": {
          "base_uri": "https://localhost:8080/"
        },
        "outputId": "6b4b04d7-25a3-4feb-a91e-8b61ea4030bf"
      },
      "execution_count": null,
      "outputs": [
        {
          "output_type": "stream",
          "name": "stdout",
          "text": [
            "Writing my_pig_udfs.py\n"
          ]
        }
      ]
    },
    {
      "cell_type": "markdown",
      "metadata": {
        "id": "5ouzg41_O-r3"
      },
      "source": [
        "## Actividad 1"
      ]
    },
    {
      "cell_type": "code",
      "metadata": {
        "id": "DVUI_wUvY3Gd",
        "colab": {
          "base_uri": "https://localhost:8080/"
        },
        "outputId": "72eda789-9690-44d8-8d03-4be7ab1af650"
      },
      "source": [
        "# Inserte su código\n",
        "#Register permite cargar los udf creados recientemente, indicando el lenguaje a usar\n",
        "#data permite cargar los datos desde la ubicacion, senalando separador y tipo de dato\n",
        "#grouped_data agrupa el resultado de data segun el nombre de los artistas\n",
        "#artist_count recorre el grouped_data y genera un nuevo grupo\n",
        "#ordered_data ordena el artist_count de manera descendiente\n",
        "#top_artist limita la respuesta a solo los 10 artistas\n",
        "#la consulta final se almacena en el directorio top_artist\n",
        "%%writefile top_artists.pig\n",
        "\n",
        "REGISTER 'my_pig_udfs.py' USING jython AS my_pig_udfs;\n",
        "\n",
        "data = LOAD 'user_timestamp' USING PigStorage('\\t') AS (userid:chararray, ts:chararray, musicbrainz_artist_id:chararray, artist_name:chararray, musicbrainz_track_id:chararray, track_name:chararray);\n",
        "\n",
        "grouped_data = GROUP data BY artist_name;\n",
        "artist_counts = FOREACH grouped_data GENERATE group AS artist_name, COUNT(data) AS count;\n",
        "\n",
        "ordered_data = ORDER artist_counts BY count DESC;\n",
        "top_artists = LIMIT ordered_data 10;\n",
        "\n",
        "STORE top_artists INTO 'top_artists';\n"
      ],
      "execution_count": null,
      "outputs": [
        {
          "output_type": "stream",
          "name": "stdout",
          "text": [
            "Writing top_artists.pig\n"
          ]
        }
      ]
    },
    {
      "cell_type": "code",
      "source": [
        "!pig -f top_artists.pig\n"
      ],
      "metadata": {
        "id": "rOWwshG4AIA4",
        "colab": {
          "base_uri": "https://localhost:8080/"
        },
        "outputId": "e1da6058-f22b-4ecf-acea-bf2a5de0c13b"
      },
      "execution_count": null,
      "outputs": [
        {
          "output_type": "stream",
          "name": "stdout",
          "text": [
            "24/04/09 04:29:54 INFO pig.ExecTypeProvider: Trying ExecType : LOCAL\n",
            "24/04/09 04:29:54 INFO pig.ExecTypeProvider: Trying ExecType : MAPREDUCE\n",
            "24/04/09 04:29:54 INFO pig.ExecTypeProvider: Picked MAPREDUCE as the ExecType\n",
            "2024-04-09 04:29:55,038 [main] INFO  org.apache.pig.Main - Apache Pig version 0.17.0 (r1797386) compiled Jun 02 2017, 15:41:58\n",
            "2024-04-09 04:29:55,038 [main] INFO  org.apache.pig.Main - Logging error messages to: /content/pig_1712636995034.log\n",
            "2024-04-09 04:29:56,267 [main] INFO  org.apache.pig.impl.util.Utils - Default bootup file /root/.pigbootup not found\n",
            "2024-04-09 04:29:56,436 [main] INFO  org.apache.hadoop.conf.Configuration.deprecation - mapred.job.tracker is deprecated. Instead, use mapreduce.jobtracker.address\n",
            "2024-04-09 04:29:56,437 [main] INFO  org.apache.pig.backend.hadoop.executionengine.HExecutionEngine - Connecting to hadoop file system at: hdfs://localhost:9000\n",
            "2024-04-09 04:29:57,573 [main] INFO  org.apache.pig.PigServer - Pig Script ID for the session: PIG-top_artists.pig-29365d1f-34c1-4633-aec7-2771152c9fb2\n",
            "2024-04-09 04:29:57,574 [main] WARN  org.apache.pig.PigServer - ATS is disabled since yarn.timeline-service.enabled set to false\n",
            "2024-04-09 04:29:57,770 [main] INFO  org.apache.pig.scripting.jython.JythonScriptEngine - created tmp python.cachedir=/tmp/pig_jython_4934652691112439013\n",
            "2024-04-09 04:30:10,652 [main] WARN  org.apache.pig.scripting.jython.JythonScriptEngine - pig.cmd.args.remainders is empty. This is not expected unless on testing.\n",
            "2024-04-09 04:30:12,153 [MainThread] INFO  org.apache.pig.scripting.jython.JythonScriptEngine - Register scripting UDF: my_pig_udfs.empty_detector\n",
            "2024-04-09 04:30:14,029 [MainThread] INFO  org.apache.hadoop.conf.Configuration.deprecation - mapred.textoutputformat.separator is deprecated. Instead, use mapreduce.output.textoutputformat.separator\n",
            "2024-04-09 04:30:14,120 [MainThread] INFO  org.apache.pig.tools.pigstats.ScriptState - Pig features used in the script: GROUP_BY,ORDER_BY,LIMIT\n",
            "2024-04-09 04:30:14,211 [MainThread] INFO  org.apache.pig.data.SchemaTupleBackend - Key [pig.schematuple] was not set... will not generate code.\n",
            "2024-04-09 04:30:14,323 [MainThread] INFO  org.apache.pig.newplan.logical.optimizer.LogicalPlanOptimizer - {RULES_ENABLED=[AddForEach, ColumnMapKeyPrune, ConstantCalculator, GroupByConstParallelSetter, LimitOptimizer, LoadTypeCastInserter, MergeFilter, MergeForEach, NestedLimitOptimizer, PartitionFilterOptimizer, PredicatePushdownOptimizer, PushDownForEachFlatten, PushUpFilter, SplitFilter, StreamTypeCastInserter]}\n",
            "2024-04-09 04:30:14,539 [MainThread] INFO  org.apache.pig.impl.util.SpillableMemoryManager - Selected heap (PS Old Gen) of size 699400192 to monitor. collectionUsageThreshold = 489580128, usageThreshold = 489580128\n",
            "2024-04-09 04:30:14,824 [MainThread] INFO  org.apache.pig.backend.hadoop.executionengine.mapReduceLayer.MRCompiler - File concatenation threshold: 100 optimistic? false\n",
            "2024-04-09 04:30:14,978 [MainThread] INFO  org.apache.pig.backend.hadoop.executionengine.util.CombinerOptimizerUtil - Choosing to move algebraic foreach to combiner\n",
            "2024-04-09 04:30:15,073 [MainThread] INFO  org.apache.pig.backend.hadoop.executionengine.mapReduceLayer.SecondaryKeyOptimizerMR - Using Secondary Key Optimization for MapReduce node scope-36\n",
            "2024-04-09 04:30:15,117 [MainThread] INFO  org.apache.pig.backend.hadoop.executionengine.mapReduceLayer.MultiQueryOptimizer - MR plan size before optimization: 4\n",
            "2024-04-09 04:30:15,118 [MainThread] INFO  org.apache.pig.backend.hadoop.executionengine.mapReduceLayer.MultiQueryOptimizer - MR plan size after optimization: 4\n",
            "2024-04-09 04:30:15,415 [MainThread] INFO  org.apache.hadoop.yarn.client.RMProxy - Connecting to ResourceManager at /0.0.0.0:8032\n",
            "2024-04-09 04:30:16,033 [MainThread] INFO  org.apache.hadoop.conf.Configuration.deprecation - yarn.resourcemanager.system-metrics-publisher.enabled is deprecated. Instead, use yarn.system-metrics-publisher.enabled\n",
            "2024-04-09 04:30:16,105 [MainThread] INFO  org.apache.pig.tools.pigstats.mapreduce.MRScriptState - Pig script settings are added to the job\n",
            "2024-04-09 04:30:16,132 [MainThread] INFO  org.apache.hadoop.conf.Configuration.deprecation - mapred.job.reduce.markreset.buffer.percent is deprecated. Instead, use mapreduce.reduce.markreset.buffer.percent\n",
            "2024-04-09 04:30:16,132 [MainThread] INFO  org.apache.pig.backend.hadoop.executionengine.mapReduceLayer.JobControlCompiler - mapred.job.reduce.markreset.buffer.percent is not set, set to default 0.3\n",
            "2024-04-09 04:30:16,136 [MainThread] INFO  org.apache.hadoop.conf.Configuration.deprecation - mapred.output.compress is deprecated. Instead, use mapreduce.output.fileoutputformat.compress\n",
            "2024-04-09 04:30:16,149 [MainThread] INFO  org.apache.pig.backend.hadoop.executionengine.mapReduceLayer.JobControlCompiler - Reduce phase detected, estimating # of required reducers.\n",
            "2024-04-09 04:30:16,150 [MainThread] INFO  org.apache.pig.backend.hadoop.executionengine.mapReduceLayer.JobControlCompiler - Using reducer estimator: org.apache.pig.backend.hadoop.executionengine.mapReduceLayer.InputSizeReducerEstimator\n",
            "2024-04-09 04:30:16,210 [MainThread] INFO  org.apache.pig.backend.hadoop.executionengine.mapReduceLayer.InputSizeReducerEstimator - BytesPerReducer=1000000000 maxReducers=999 totalInputFileSize=2529193595\n",
            "2024-04-09 04:30:16,217 [MainThread] INFO  org.apache.pig.backend.hadoop.executionengine.mapReduceLayer.JobControlCompiler - Setting Parallelism to 3\n",
            "2024-04-09 04:30:16,218 [MainThread] INFO  org.apache.hadoop.conf.Configuration.deprecation - mapred.reduce.tasks is deprecated. Instead, use mapreduce.job.reduces\n",
            "2024-04-09 04:30:16,218 [MainThread] INFO  org.apache.pig.backend.hadoop.executionengine.mapReduceLayer.JobControlCompiler - This job cannot be converted run in-process\n",
            "2024-04-09 04:30:16,259 [MainThread] INFO  org.apache.hadoop.conf.Configuration.deprecation - mapred.submit.replication is deprecated. Instead, use mapreduce.client.submit.file.replication\n",
            "2024-04-09 04:30:17,339 [MainThread] INFO  org.apache.pig.backend.hadoop.executionengine.mapReduceLayer.JobControlCompiler - Added jar file:/content/pig-0.17.0/pig-0.17.0-core-h2.jar to DistributedCache through /tmp/temp117478455/tmp1686969520/pig-0.17.0-core-h2.jar\n",
            "2024-04-09 04:30:18,191 [MainThread] INFO  org.apache.pig.backend.hadoop.executionengine.mapReduceLayer.JobControlCompiler - Added jar file:/content/pig-0.17.0/lib/jython-standalone-2.7.0.jar to DistributedCache through /tmp/temp117478455/tmp180975893/jython-standalone-2.7.0.jar\n",
            "2024-04-09 04:30:18,310 [MainThread] INFO  org.apache.pig.backend.hadoop.executionengine.mapReduceLayer.JobControlCompiler - Added jar file:/content/pig-0.17.0/lib/automaton-1.11-8.jar to DistributedCache through /tmp/temp117478455/tmp-44466809/automaton-1.11-8.jar\n",
            "2024-04-09 04:30:18,452 [MainThread] INFO  org.apache.pig.backend.hadoop.executionengine.mapReduceLayer.JobControlCompiler - Added jar file:/content/pig-0.17.0/lib/antlr-runtime-3.4.jar to DistributedCache through /tmp/temp117478455/tmp1339423971/antlr-runtime-3.4.jar\n",
            "2024-04-09 04:30:18,548 [MainThread] INFO  org.apache.pig.backend.hadoop.executionengine.mapReduceLayer.JobControlCompiler - Added jar file:/content/pig-0.17.0/lib/joda-time-2.9.3.jar to DistributedCache through /tmp/temp117478455/tmp1950046557/joda-time-2.9.3.jar\n",
            "2024-04-09 04:30:19,058 [MainThread] INFO  org.apache.pig.backend.hadoop.executionengine.mapReduceLayer.JobControlCompiler - Added jar file:/tmp/PigScriptUDF-6720865e24fcd5b73362fd1378cc9a22.jar to DistributedCache through /tmp/temp117478455/tmp-916180421/PigScriptUDF-6720865e24fcd5b73362fd1378cc9a22.jar\n",
            "2024-04-09 04:30:19,134 [MainThread] INFO  org.apache.pig.backend.hadoop.executionengine.mapReduceLayer.JobControlCompiler - Setting up single store job\n",
            "2024-04-09 04:30:19,159 [MainThread] INFO  org.apache.pig.data.SchemaTupleFrontend - Key [pig.schematuple] is false, will not generate code.\n",
            "2024-04-09 04:30:19,160 [MainThread] INFO  org.apache.pig.data.SchemaTupleFrontend - Starting process to move generated code to distributed cacche\n",
            "2024-04-09 04:30:19,160 [MainThread] INFO  org.apache.pig.data.SchemaTupleFrontend - Setting key [pig.schematuple.classes] with classes to deserialize []\n",
            "2024-04-09 04:30:19,514 [MainThread] INFO  org.apache.pig.backend.hadoop.executionengine.mapReduceLayer.MapReduceLauncher - 1 map-reduce job(s) waiting for submission.\n",
            "2024-04-09 04:30:19,522 [MainThread] INFO  org.apache.hadoop.conf.Configuration.deprecation - mapred.job.tracker.http.address is deprecated. Instead, use mapreduce.jobtracker.http.address\n",
            "2024-04-09 04:30:19,559 [JobControl] INFO  org.apache.hadoop.yarn.client.RMProxy - Connecting to ResourceManager at /0.0.0.0:8032\n",
            "2024-04-09 04:30:19,636 [JobControl] INFO  org.apache.hadoop.conf.Configuration.deprecation - mapred.task.id is deprecated. Instead, use mapreduce.task.attempt.id\n",
            "2024-04-09 04:30:20,296 [JobControl] WARN  org.apache.hadoop.mapreduce.JobResourceUploader - No job jar file set.  User classes may not be found. See Job or Job#setJar(String).\n",
            "2024-04-09 04:30:20,422 [JobControl] INFO  org.apache.pig.builtin.PigStorage - Using PigTextInputFormat\n",
            "2024-04-09 04:30:20,501 [JobControl] INFO  org.apache.hadoop.mapreduce.lib.input.FileInputFormat - Total input files to process : 1\n",
            "2024-04-09 04:30:20,501 [JobControl] INFO  org.apache.pig.backend.hadoop.executionengine.util.MapRedUtil - Total input paths to process : 1\n",
            "2024-04-09 04:30:20,587 [JobControl] INFO  org.apache.pig.backend.hadoop.executionengine.util.MapRedUtil - Total input paths (combined) to process : 19\n",
            "2024-04-09 04:30:20,953 [JobControl] INFO  org.apache.hadoop.mapreduce.JobSubmitter - number of splits:19\n",
            "2024-04-09 04:30:21,277 [JobControl] INFO  org.apache.hadoop.conf.Configuration.deprecation - yarn.resourcemanager.system-metrics-publisher.enabled is deprecated. Instead, use yarn.system-metrics-publisher.enabled\n",
            "2024-04-09 04:30:21,741 [JobControl] INFO  org.apache.hadoop.mapreduce.JobSubmitter - Submitting tokens for job: job_1712636677341_0001\n",
            "2024-04-09 04:30:22,271 [JobControl] INFO  org.apache.hadoop.mapred.YARNRunner - Job jar is not present. Not adding any jar to the list of resources.\n",
            "2024-04-09 04:30:22,614 [JobControl] INFO  org.apache.hadoop.conf.Configuration - resource-types.xml not found\n",
            "2024-04-09 04:30:22,620 [JobControl] INFO  org.apache.hadoop.yarn.util.resource.ResourceUtils - Unable to find 'resource-types.xml'.\n",
            "2024-04-09 04:30:22,634 [JobControl] INFO  org.apache.hadoop.yarn.util.resource.ResourceUtils - Adding resource type - name = memory-mb, units = Mi, type = COUNTABLE\n",
            "2024-04-09 04:30:22,639 [JobControl] INFO  org.apache.hadoop.yarn.util.resource.ResourceUtils - Adding resource type - name = vcores, units = , type = COUNTABLE\n",
            "2024-04-09 04:30:24,764 [JobControl] INFO  org.apache.hadoop.yarn.client.api.impl.YarnClientImpl - Submitted application application_1712636677341_0001\n",
            "2024-04-09 04:30:25,160 [JobControl] INFO  org.apache.hadoop.mapreduce.Job - The url to track the job: http://49bab7c0f679:8088/proxy/application_1712636677341_0001/\n",
            "2024-04-09 04:30:25,169 [MainThread] INFO  org.apache.pig.backend.hadoop.executionengine.mapReduceLayer.MapReduceLauncher - HadoopJobId: job_1712636677341_0001\n",
            "2024-04-09 04:30:25,170 [MainThread] INFO  org.apache.pig.backend.hadoop.executionengine.mapReduceLayer.MapReduceLauncher - Processing aliases artist_counts,data,grouped_data\n",
            "2024-04-09 04:30:25,170 [MainThread] INFO  org.apache.pig.backend.hadoop.executionengine.mapReduceLayer.MapReduceLauncher - detailed locations: M: data[4,7],data[-1,-1],artist_counts[7,16],grouped_data[6,15] C: artist_counts[7,16],grouped_data[6,15] R: artist_counts[7,16]\n",
            "2024-04-09 04:30:25,223 [MainThread] INFO  org.apache.pig.backend.hadoop.executionengine.mapReduceLayer.MapReduceLauncher - 0% complete\n",
            "2024-04-09 04:30:25,223 [MainThread] INFO  org.apache.pig.backend.hadoop.executionengine.mapReduceLayer.MapReduceLauncher - Running jobs are [job_1712636677341_0001]\n",
            "2024-04-09 04:34:07,936 [MainThread] INFO  org.apache.pig.backend.hadoop.executionengine.mapReduceLayer.MapReduceLauncher - 4% complete\n",
            "2024-04-09 04:34:07,942 [MainThread] INFO  org.apache.pig.backend.hadoop.executionengine.mapReduceLayer.MapReduceLauncher - Running jobs are [job_1712636677341_0001]\n",
            "2024-04-09 04:36:12,931 [MainThread] INFO  org.apache.pig.backend.hadoop.executionengine.mapReduceLayer.MapReduceLauncher - 8% complete\n",
            "2024-04-09 04:36:12,931 [MainThread] INFO  org.apache.pig.backend.hadoop.executionengine.mapReduceLayer.MapReduceLauncher - Running jobs are [job_1712636677341_0001]\n",
            "2024-04-09 04:38:13,382 [MainThread] INFO  org.apache.pig.backend.hadoop.executionengine.mapReduceLayer.MapReduceLauncher - 13% complete\n",
            "2024-04-09 04:38:13,382 [MainThread] INFO  org.apache.pig.backend.hadoop.executionengine.mapReduceLayer.MapReduceLauncher - Running jobs are [job_1712636677341_0001]\n",
            "2024-04-09 04:39:48,249 [MainThread] INFO  org.apache.pig.backend.hadoop.executionengine.mapReduceLayer.MapReduceLauncher - 18% complete\n",
            "2024-04-09 04:39:48,250 [MainThread] INFO  org.apache.pig.backend.hadoop.executionengine.mapReduceLayer.MapReduceLauncher - Running jobs are [job_1712636677341_0001]\n",
            "2024-04-09 04:39:55,275 [MainThread] INFO  org.apache.pig.backend.hadoop.executionengine.mapReduceLayer.MapReduceLauncher - 25% complete\n",
            "2024-04-09 04:39:55,275 [MainThread] INFO  org.apache.pig.backend.hadoop.executionengine.mapReduceLayer.MapReduceLauncher - Running jobs are [job_1712636677341_0001]\n",
            "2024-04-09 04:40:01,322 [MainThread] INFO  org.apache.hadoop.yarn.client.RMProxy - Connecting to ResourceManager at /0.0.0.0:8032\n",
            "2024-04-09 04:40:01,355 [MainThread] INFO  org.apache.hadoop.mapred.ClientServiceDelegate - Application state is completed. FinalApplicationStatus=SUCCEEDED. Redirecting to job history server\n",
            "2024-04-09 04:40:04,990 [MainThread] INFO  org.apache.hadoop.yarn.client.RMProxy - Connecting to ResourceManager at /0.0.0.0:8032\n",
            "2024-04-09 04:40:05,000 [MainThread] INFO  org.apache.hadoop.mapred.ClientServiceDelegate - Application state is completed. FinalApplicationStatus=SUCCEEDED. Redirecting to job history server\n",
            "2024-04-09 04:40:05,093 [MainThread] INFO  org.apache.hadoop.yarn.client.RMProxy - Connecting to ResourceManager at /0.0.0.0:8032\n",
            "2024-04-09 04:40:05,100 [MainThread] INFO  org.apache.hadoop.mapred.ClientServiceDelegate - Application state is completed. FinalApplicationStatus=SUCCEEDED. Redirecting to job history server\n",
            "2024-04-09 04:40:05,241 [MainThread] INFO  org.apache.pig.tools.pigstats.mapreduce.MRScriptState - Pig script settings are added to the job\n",
            "2024-04-09 04:40:05,242 [MainThread] INFO  org.apache.pig.backend.hadoop.executionengine.mapReduceLayer.JobControlCompiler - mapred.job.reduce.markreset.buffer.percent is not set, set to default 0.3\n",
            "2024-04-09 04:40:05,250 [MainThread] INFO  org.apache.pig.backend.hadoop.executionengine.mapReduceLayer.JobControlCompiler - Reduce phase detected, estimating # of required reducers.\n",
            "2024-04-09 04:40:05,253 [MainThread] INFO  org.apache.pig.backend.hadoop.executionengine.mapReduceLayer.JobControlCompiler - Using reducer estimator: org.apache.pig.backend.hadoop.executionengine.mapReduceLayer.InputSizeReducerEstimator\n",
            "2024-04-09 04:40:05,270 [MainThread] INFO  org.apache.pig.backend.hadoop.executionengine.mapReduceLayer.InputSizeReducerEstimator - BytesPerReducer=1000000000 maxReducers=999 totalInputFileSize=4431838\n",
            "2024-04-09 04:40:05,274 [MainThread] INFO  org.apache.pig.backend.hadoop.executionengine.mapReduceLayer.JobControlCompiler - Setting Parallelism to 1\n",
            "2024-04-09 04:40:05,274 [MainThread] INFO  org.apache.pig.backend.hadoop.executionengine.mapReduceLayer.JobControlCompiler - This job cannot be converted run in-process\n",
            "2024-04-09 04:40:06,453 [MainThread] INFO  org.apache.pig.backend.hadoop.executionengine.mapReduceLayer.JobControlCompiler - Added jar file:/content/pig-0.17.0/lib/jython-standalone-2.7.0.jar to DistributedCache through /tmp/temp117478455/tmp1322707372/jython-standalone-2.7.0.jar\n",
            "2024-04-09 04:40:06,547 [MainThread] INFO  org.apache.pig.backend.hadoop.executionengine.mapReduceLayer.JobControlCompiler - Added jar file:/content/pig-0.17.0/pig-0.17.0-core-h2.jar to DistributedCache through /tmp/temp117478455/tmp-1362229952/pig-0.17.0-core-h2.jar\n",
            "2024-04-09 04:40:06,601 [MainThread] INFO  org.apache.pig.backend.hadoop.executionengine.mapReduceLayer.JobControlCompiler - Added jar file:/content/pig-0.17.0/lib/automaton-1.11-8.jar to DistributedCache through /tmp/temp117478455/tmp497786473/automaton-1.11-8.jar\n",
            "2024-04-09 04:40:06,643 [MainThread] INFO  org.apache.pig.backend.hadoop.executionengine.mapReduceLayer.JobControlCompiler - Added jar file:/content/pig-0.17.0/lib/antlr-runtime-3.4.jar to DistributedCache through /tmp/temp117478455/tmp-219930075/antlr-runtime-3.4.jar\n",
            "2024-04-09 04:40:06,707 [MainThread] INFO  org.apache.pig.backend.hadoop.executionengine.mapReduceLayer.JobControlCompiler - Added jar file:/content/pig-0.17.0/lib/joda-time-2.9.3.jar to DistributedCache through /tmp/temp117478455/tmp1312731632/joda-time-2.9.3.jar\n",
            "2024-04-09 04:40:07,162 [MainThread] INFO  org.apache.pig.backend.hadoop.executionengine.mapReduceLayer.JobControlCompiler - Added jar file:/tmp/PigScriptUDF-6720865e24fcd5b73362fd1378cc9a22.jar to DistributedCache through /tmp/temp117478455/tmp1740772694/PigScriptUDF-6720865e24fcd5b73362fd1378cc9a22.jar\n",
            "2024-04-09 04:40:07,166 [MainThread] INFO  org.apache.pig.backend.hadoop.executionengine.mapReduceLayer.JobControlCompiler - Setting up single store job\n",
            "2024-04-09 04:40:07,168 [MainThread] INFO  org.apache.pig.data.SchemaTupleFrontend - Key [pig.schematuple] is false, will not generate code.\n",
            "2024-04-09 04:40:07,168 [MainThread] INFO  org.apache.pig.data.SchemaTupleFrontend - Starting process to move generated code to distributed cacche\n",
            "2024-04-09 04:40:07,168 [MainThread] INFO  org.apache.pig.data.SchemaTupleFrontend - Setting key [pig.schematuple.classes] with classes to deserialize []\n",
            "2024-04-09 04:40:07,273 [MainThread] INFO  org.apache.pig.backend.hadoop.executionengine.mapReduceLayer.MapReduceLauncher - 1 map-reduce job(s) waiting for submission.\n",
            "2024-04-09 04:40:07,298 [JobControl] INFO  org.apache.hadoop.yarn.client.RMProxy - Connecting to ResourceManager at /0.0.0.0:8032\n",
            "2024-04-09 04:40:07,321 [JobControl] INFO  org.apache.hadoop.conf.Configuration.deprecation - yarn.resourcemanager.system-metrics-publisher.enabled is deprecated. Instead, use yarn.system-metrics-publisher.enabled\n",
            "2024-04-09 04:40:07,347 [JobControl] WARN  org.apache.hadoop.mapreduce.JobResourceUploader - No job jar file set.  User classes may not be found. See Job or Job#setJar(String).\n",
            "2024-04-09 04:40:07,409 [JobControl] INFO  org.apache.hadoop.mapreduce.lib.input.FileInputFormat - Total input files to process : 3\n",
            "2024-04-09 04:40:07,416 [JobControl] INFO  org.apache.pig.backend.hadoop.executionengine.util.MapRedUtil - Total input paths to process : 3\n",
            "2024-04-09 04:40:07,417 [JobControl] INFO  org.apache.pig.backend.hadoop.executionengine.util.MapRedUtil - Total input paths (combined) to process : 1\n",
            "2024-04-09 04:40:07,953 [JobControl] INFO  org.apache.hadoop.mapreduce.JobSubmitter - number of splits:1\n",
            "2024-04-09 04:40:08,451 [JobControl] INFO  org.apache.hadoop.mapreduce.JobSubmitter - Submitting tokens for job: job_1712636677341_0002\n",
            "2024-04-09 04:40:08,457 [JobControl] INFO  org.apache.hadoop.mapred.YARNRunner - Job jar is not present. Not adding any jar to the list of resources.\n",
            "2024-04-09 04:40:08,584 [JobControl] INFO  org.apache.hadoop.yarn.client.api.impl.YarnClientImpl - Submitted application application_1712636677341_0002\n",
            "2024-04-09 04:40:08,593 [JobControl] INFO  org.apache.hadoop.mapreduce.Job - The url to track the job: http://49bab7c0f679:8088/proxy/application_1712636677341_0002/\n",
            "2024-04-09 04:40:08,593 [MainThread] INFO  org.apache.pig.backend.hadoop.executionengine.mapReduceLayer.MapReduceLauncher - HadoopJobId: job_1712636677341_0002\n",
            "2024-04-09 04:40:08,593 [MainThread] INFO  org.apache.pig.backend.hadoop.executionengine.mapReduceLayer.MapReduceLauncher - Processing aliases ordered_data\n",
            "2024-04-09 04:40:08,593 [MainThread] INFO  org.apache.pig.backend.hadoop.executionengine.mapReduceLayer.MapReduceLauncher - detailed locations: M: ordered_data[9,15] C:  R: \n",
            "2024-04-09 04:40:27,795 [MainThread] INFO  org.apache.pig.backend.hadoop.executionengine.mapReduceLayer.MapReduceLauncher - 37% complete\n",
            "2024-04-09 04:40:27,795 [MainThread] INFO  org.apache.pig.backend.hadoop.executionengine.mapReduceLayer.MapReduceLauncher - Running jobs are [job_1712636677341_0002]\n",
            "2024-04-09 04:40:37,818 [MainThread] INFO  org.apache.pig.backend.hadoop.executionengine.mapReduceLayer.MapReduceLauncher - 50% complete\n",
            "2024-04-09 04:40:37,819 [MainThread] INFO  org.apache.pig.backend.hadoop.executionengine.mapReduceLayer.MapReduceLauncher - Running jobs are [job_1712636677341_0002]\n",
            "2024-04-09 04:40:43,833 [MainThread] INFO  org.apache.hadoop.yarn.client.RMProxy - Connecting to ResourceManager at /0.0.0.0:8032\n",
            "2024-04-09 04:40:43,867 [MainThread] INFO  org.apache.hadoop.mapred.ClientServiceDelegate - Application state is completed. FinalApplicationStatus=SUCCEEDED. Redirecting to job history server\n",
            "2024-04-09 04:40:44,161 [MainThread] INFO  org.apache.hadoop.yarn.client.RMProxy - Connecting to ResourceManager at /0.0.0.0:8032\n",
            "2024-04-09 04:40:44,184 [MainThread] INFO  org.apache.hadoop.mapred.ClientServiceDelegate - Application state is completed. FinalApplicationStatus=SUCCEEDED. Redirecting to job history server\n",
            "2024-04-09 04:40:44,250 [MainThread] INFO  org.apache.hadoop.yarn.client.RMProxy - Connecting to ResourceManager at /0.0.0.0:8032\n",
            "2024-04-09 04:40:44,294 [MainThread] INFO  org.apache.hadoop.mapred.ClientServiceDelegate - Application state is completed. FinalApplicationStatus=SUCCEEDED. Redirecting to job history server\n",
            "2024-04-09 04:40:44,403 [MainThread] INFO  org.apache.pig.tools.pigstats.mapreduce.MRScriptState - Pig script settings are added to the job\n",
            "2024-04-09 04:40:44,404 [MainThread] INFO  org.apache.pig.backend.hadoop.executionengine.mapReduceLayer.JobControlCompiler - mapred.job.reduce.markreset.buffer.percent is not set, set to default 0.3\n",
            "2024-04-09 04:40:44,414 [MainThread] INFO  org.apache.pig.backend.hadoop.executionengine.mapReduceLayer.JobControlCompiler - Reduce phase detected, estimating # of required reducers.\n",
            "2024-04-09 04:40:44,422 [MainThread] INFO  org.apache.pig.backend.hadoop.executionengine.mapReduceLayer.JobControlCompiler - Setting Parallelism to 1\n",
            "2024-04-09 04:40:44,422 [MainThread] INFO  org.apache.pig.backend.hadoop.executionengine.mapReduceLayer.JobControlCompiler - This job cannot be converted run in-process\n",
            "2024-04-09 04:40:44,660 [MainThread] INFO  org.apache.pig.backend.hadoop.executionengine.mapReduceLayer.JobControlCompiler - Added jar file:/content/pig-0.17.0/pig-0.17.0-core-h2.jar to DistributedCache through /tmp/temp117478455/tmp25483790/pig-0.17.0-core-h2.jar\n",
            "2024-04-09 04:40:45,669 [MainThread] INFO  org.apache.pig.backend.hadoop.executionengine.mapReduceLayer.JobControlCompiler - Added jar file:/content/pig-0.17.0/lib/jython-standalone-2.7.0.jar to DistributedCache through /tmp/temp117478455/tmp1506611806/jython-standalone-2.7.0.jar\n",
            "2024-04-09 04:40:45,729 [MainThread] INFO  org.apache.pig.backend.hadoop.executionengine.mapReduceLayer.JobControlCompiler - Added jar file:/content/pig-0.17.0/lib/automaton-1.11-8.jar to DistributedCache through /tmp/temp117478455/tmp154296125/automaton-1.11-8.jar\n",
            "2024-04-09 04:40:46,195 [MainThread] INFO  org.apache.pig.backend.hadoop.executionengine.mapReduceLayer.JobControlCompiler - Added jar file:/content/pig-0.17.0/lib/antlr-runtime-3.4.jar to DistributedCache through /tmp/temp117478455/tmp-233526786/antlr-runtime-3.4.jar\n",
            "2024-04-09 04:40:46,634 [MainThread] INFO  org.apache.pig.backend.hadoop.executionengine.mapReduceLayer.JobControlCompiler - Added jar file:/content/pig-0.17.0/lib/joda-time-2.9.3.jar to DistributedCache through /tmp/temp117478455/tmp-831988147/joda-time-2.9.3.jar\n",
            "2024-04-09 04:40:46,659 [MainThread] INFO  org.apache.pig.backend.hadoop.executionengine.mapReduceLayer.JobControlCompiler - Added jar file:/tmp/PigScriptUDF-6720865e24fcd5b73362fd1378cc9a22.jar to DistributedCache through /tmp/temp117478455/tmp-1231670768/PigScriptUDF-6720865e24fcd5b73362fd1378cc9a22.jar\n",
            "2024-04-09 04:40:46,660 [MainThread] INFO  org.apache.pig.backend.hadoop.executionengine.mapReduceLayer.JobControlCompiler - Setting up single store job\n",
            "2024-04-09 04:40:46,661 [MainThread] INFO  org.apache.pig.data.SchemaTupleFrontend - Key [pig.schematuple] is false, will not generate code.\n",
            "2024-04-09 04:40:46,661 [MainThread] INFO  org.apache.pig.data.SchemaTupleFrontend - Starting process to move generated code to distributed cacche\n",
            "2024-04-09 04:40:46,661 [MainThread] INFO  org.apache.pig.data.SchemaTupleFrontend - Setting key [pig.schematuple.classes] with classes to deserialize []\n",
            "2024-04-09 04:40:46,706 [MainThread] INFO  org.apache.pig.backend.hadoop.executionengine.mapReduceLayer.MapReduceLauncher - 1 map-reduce job(s) waiting for submission.\n",
            "2024-04-09 04:40:46,711 [JobControl] INFO  org.apache.hadoop.yarn.client.RMProxy - Connecting to ResourceManager at /0.0.0.0:8032\n",
            "2024-04-09 04:40:46,730 [JobControl] INFO  org.apache.hadoop.conf.Configuration.deprecation - yarn.resourcemanager.system-metrics-publisher.enabled is deprecated. Instead, use yarn.system-metrics-publisher.enabled\n",
            "2024-04-09 04:40:46,746 [JobControl] WARN  org.apache.hadoop.mapreduce.JobResourceUploader - No job jar file set.  User classes may not be found. See Job or Job#setJar(String).\n",
            "2024-04-09 04:40:46,772 [JobControl] INFO  org.apache.hadoop.mapreduce.lib.input.FileInputFormat - Total input files to process : 3\n",
            "2024-04-09 04:40:46,772 [JobControl] INFO  org.apache.pig.backend.hadoop.executionengine.util.MapRedUtil - Total input paths to process : 3\n",
            "2024-04-09 04:40:46,772 [JobControl] INFO  org.apache.pig.backend.hadoop.executionengine.util.MapRedUtil - Total input paths (combined) to process : 1\n",
            "2024-04-09 04:40:47,222 [JobControl] INFO  org.apache.hadoop.mapreduce.JobSubmitter - number of splits:1\n",
            "2024-04-09 04:40:47,304 [JobControl] INFO  org.apache.hadoop.mapreduce.JobSubmitter - Submitting tokens for job: job_1712636677341_0003\n",
            "2024-04-09 04:40:47,308 [JobControl] INFO  org.apache.hadoop.mapred.YARNRunner - Job jar is not present. Not adding any jar to the list of resources.\n",
            "2024-04-09 04:40:47,569 [JobControl] INFO  org.apache.hadoop.yarn.client.api.impl.YarnClientImpl - Submitted application application_1712636677341_0003\n",
            "2024-04-09 04:40:47,576 [JobControl] INFO  org.apache.hadoop.mapreduce.Job - The url to track the job: http://49bab7c0f679:8088/proxy/application_1712636677341_0003/\n",
            "2024-04-09 04:40:47,576 [MainThread] INFO  org.apache.pig.backend.hadoop.executionengine.mapReduceLayer.MapReduceLauncher - HadoopJobId: job_1712636677341_0003\n",
            "2024-04-09 04:40:47,576 [MainThread] INFO  org.apache.pig.backend.hadoop.executionengine.mapReduceLayer.MapReduceLauncher - Processing aliases ordered_data\n",
            "2024-04-09 04:40:47,576 [MainThread] INFO  org.apache.pig.backend.hadoop.executionengine.mapReduceLayer.MapReduceLauncher - detailed locations: M: ordered_data[9,15] C:  R: \n",
            "2024-04-09 04:41:11,852 [MainThread] INFO  org.apache.pig.backend.hadoop.executionengine.mapReduceLayer.MapReduceLauncher - 62% complete\n",
            "2024-04-09 04:41:11,852 [MainThread] INFO  org.apache.pig.backend.hadoop.executionengine.mapReduceLayer.MapReduceLauncher - Running jobs are [job_1712636677341_0003]\n",
            "2024-04-09 04:41:21,886 [MainThread] INFO  org.apache.pig.backend.hadoop.executionengine.mapReduceLayer.MapReduceLauncher - 75% complete\n",
            "2024-04-09 04:41:21,886 [MainThread] INFO  org.apache.pig.backend.hadoop.executionengine.mapReduceLayer.MapReduceLauncher - Running jobs are [job_1712636677341_0003]\n",
            "2024-04-09 04:41:27,905 [MainThread] INFO  org.apache.hadoop.yarn.client.RMProxy - Connecting to ResourceManager at /0.0.0.0:8032\n",
            "2024-04-09 04:41:27,917 [MainThread] INFO  org.apache.hadoop.mapred.ClientServiceDelegate - Application state is completed. FinalApplicationStatus=SUCCEEDED. Redirecting to job history server\n",
            "2024-04-09 04:41:28,031 [MainThread] INFO  org.apache.hadoop.yarn.client.RMProxy - Connecting to ResourceManager at /0.0.0.0:8032\n",
            "2024-04-09 04:41:28,048 [MainThread] INFO  org.apache.hadoop.mapred.ClientServiceDelegate - Application state is completed. FinalApplicationStatus=SUCCEEDED. Redirecting to job history server\n",
            "2024-04-09 04:41:28,074 [MainThread] INFO  org.apache.hadoop.yarn.client.RMProxy - Connecting to ResourceManager at /0.0.0.0:8032\n",
            "2024-04-09 04:41:28,079 [MainThread] INFO  org.apache.hadoop.mapred.ClientServiceDelegate - Application state is completed. FinalApplicationStatus=SUCCEEDED. Redirecting to job history server\n",
            "2024-04-09 04:41:28,100 [MainThread] INFO  org.apache.pig.tools.pigstats.mapreduce.MRScriptState - Pig script settings are added to the job\n",
            "2024-04-09 04:41:28,101 [MainThread] INFO  org.apache.pig.backend.hadoop.executionengine.mapReduceLayer.JobControlCompiler - mapred.job.reduce.markreset.buffer.percent is not set, set to default 0.3\n",
            "2024-04-09 04:41:28,102 [MainThread] INFO  org.apache.pig.backend.hadoop.executionengine.mapReduceLayer.JobControlCompiler - Reduce phase detected, estimating # of required reducers.\n",
            "2024-04-09 04:41:28,102 [MainThread] INFO  org.apache.pig.backend.hadoop.executionengine.mapReduceLayer.JobControlCompiler - Setting Parallelism to 1\n",
            "2024-04-09 04:41:28,103 [MainThread] INFO  org.apache.pig.backend.hadoop.executionengine.mapReduceLayer.JobControlCompiler - This job cannot be converted run in-process\n",
            "2024-04-09 04:41:28,160 [MainThread] INFO  org.apache.pig.backend.hadoop.executionengine.mapReduceLayer.JobControlCompiler - Added jar file:/content/pig-0.17.0/pig-0.17.0-core-h2.jar to DistributedCache through /tmp/temp117478455/tmp-933722604/pig-0.17.0-core-h2.jar\n",
            "2024-04-09 04:41:28,368 [MainThread] INFO  org.apache.pig.backend.hadoop.executionengine.mapReduceLayer.JobControlCompiler - Added jar file:/content/pig-0.17.0/lib/jython-standalone-2.7.0.jar to DistributedCache through /tmp/temp117478455/tmp-909294049/jython-standalone-2.7.0.jar\n",
            "2024-04-09 04:41:28,392 [MainThread] INFO  org.apache.pig.backend.hadoop.executionengine.mapReduceLayer.JobControlCompiler - Added jar file:/content/pig-0.17.0/lib/automaton-1.11-8.jar to DistributedCache through /tmp/temp117478455/tmp-478735909/automaton-1.11-8.jar\n",
            "2024-04-09 04:41:28,419 [MainThread] INFO  org.apache.pig.backend.hadoop.executionengine.mapReduceLayer.JobControlCompiler - Added jar file:/content/pig-0.17.0/lib/antlr-runtime-3.4.jar to DistributedCache through /tmp/temp117478455/tmp-46488085/antlr-runtime-3.4.jar\n",
            "2024-04-09 04:41:28,851 [MainThread] INFO  org.apache.pig.backend.hadoop.executionengine.mapReduceLayer.JobControlCompiler - Added jar file:/content/pig-0.17.0/lib/joda-time-2.9.3.jar to DistributedCache through /tmp/temp117478455/tmp-1117724002/joda-time-2.9.3.jar\n",
            "2024-04-09 04:41:28,901 [MainThread] INFO  org.apache.pig.backend.hadoop.executionengine.mapReduceLayer.JobControlCompiler - Added jar file:/tmp/PigScriptUDF-6720865e24fcd5b73362fd1378cc9a22.jar to DistributedCache through /tmp/temp117478455/tmp1929535276/PigScriptUDF-6720865e24fcd5b73362fd1378cc9a22.jar\n",
            "2024-04-09 04:41:28,903 [MainThread] INFO  org.apache.pig.backend.hadoop.executionengine.mapReduceLayer.JobControlCompiler - Setting up single store job\n",
            "2024-04-09 04:41:28,904 [MainThread] INFO  org.apache.pig.data.SchemaTupleFrontend - Key [pig.schematuple] is false, will not generate code.\n",
            "2024-04-09 04:41:28,904 [MainThread] INFO  org.apache.pig.data.SchemaTupleFrontend - Starting process to move generated code to distributed cacche\n",
            "2024-04-09 04:41:28,904 [MainThread] INFO  org.apache.pig.data.SchemaTupleFrontend - Setting key [pig.schematuple.classes] with classes to deserialize []\n",
            "2024-04-09 04:41:28,919 [MainThread] INFO  org.apache.pig.backend.hadoop.executionengine.mapReduceLayer.MapReduceLauncher - 1 map-reduce job(s) waiting for submission.\n",
            "2024-04-09 04:41:28,924 [JobControl] INFO  org.apache.hadoop.yarn.client.RMProxy - Connecting to ResourceManager at /0.0.0.0:8032\n",
            "2024-04-09 04:41:28,933 [JobControl] INFO  org.apache.hadoop.conf.Configuration.deprecation - yarn.resourcemanager.system-metrics-publisher.enabled is deprecated. Instead, use yarn.system-metrics-publisher.enabled\n",
            "2024-04-09 04:41:28,963 [JobControl] WARN  org.apache.hadoop.mapreduce.JobResourceUploader - No job jar file set.  User classes may not be found. See Job or Job#setJar(String).\n",
            "2024-04-09 04:41:28,988 [JobControl] INFO  org.apache.hadoop.mapreduce.lib.input.FileInputFormat - Total input files to process : 1\n",
            "2024-04-09 04:41:28,988 [JobControl] INFO  org.apache.pig.backend.hadoop.executionengine.util.MapRedUtil - Total input paths to process : 1\n",
            "2024-04-09 04:41:28,988 [JobControl] INFO  org.apache.pig.backend.hadoop.executionengine.util.MapRedUtil - Total input paths (combined) to process : 1\n",
            "2024-04-09 04:41:29,848 [JobControl] INFO  org.apache.hadoop.mapreduce.JobSubmitter - number of splits:1\n",
            "2024-04-09 04:41:29,887 [JobControl] INFO  org.apache.hadoop.mapreduce.JobSubmitter - Submitting tokens for job: job_1712636677341_0004\n",
            "2024-04-09 04:41:29,890 [JobControl] INFO  org.apache.hadoop.mapred.YARNRunner - Job jar is not present. Not adding any jar to the list of resources.\n",
            "2024-04-09 04:41:29,930 [JobControl] INFO  org.apache.hadoop.yarn.client.api.impl.YarnClientImpl - Submitted application application_1712636677341_0004\n",
            "2024-04-09 04:41:29,937 [JobControl] INFO  org.apache.hadoop.mapreduce.Job - The url to track the job: http://49bab7c0f679:8088/proxy/application_1712636677341_0004/\n",
            "2024-04-09 04:41:29,937 [MainThread] INFO  org.apache.pig.backend.hadoop.executionengine.mapReduceLayer.MapReduceLauncher - HadoopJobId: job_1712636677341_0004\n",
            "2024-04-09 04:41:29,937 [MainThread] INFO  org.apache.pig.backend.hadoop.executionengine.mapReduceLayer.MapReduceLauncher - Processing aliases ordered_data\n",
            "2024-04-09 04:41:29,937 [MainThread] INFO  org.apache.pig.backend.hadoop.executionengine.mapReduceLayer.MapReduceLauncher - detailed locations: M: ordered_data[9,15] C:  R: \n",
            "2024-04-09 04:41:50,440 [MainThread] INFO  org.apache.pig.backend.hadoop.executionengine.mapReduceLayer.MapReduceLauncher - 87% complete\n",
            "2024-04-09 04:41:50,441 [MainThread] INFO  org.apache.pig.backend.hadoop.executionengine.mapReduceLayer.MapReduceLauncher - Running jobs are [job_1712636677341_0004]\n",
            "2024-04-09 04:42:02,480 [MainThread] INFO  org.apache.pig.backend.hadoop.executionengine.mapReduceLayer.MapReduceLauncher - Running jobs are [job_1712636677341_0004]\n",
            "2024-04-09 04:42:05,502 [MainThread] INFO  org.apache.hadoop.yarn.client.RMProxy - Connecting to ResourceManager at /0.0.0.0:8032\n",
            "2024-04-09 04:42:05,533 [MainThread] INFO  org.apache.hadoop.mapred.ClientServiceDelegate - Application state is completed. FinalApplicationStatus=SUCCEEDED. Redirecting to job history server\n",
            "2024-04-09 04:42:05,772 [MainThread] INFO  org.apache.hadoop.yarn.client.RMProxy - Connecting to ResourceManager at /0.0.0.0:8032\n",
            "2024-04-09 04:42:05,805 [MainThread] INFO  org.apache.hadoop.mapred.ClientServiceDelegate - Application state is completed. FinalApplicationStatus=SUCCEEDED. Redirecting to job history server\n",
            "2024-04-09 04:42:05,882 [MainThread] INFO  org.apache.hadoop.yarn.client.RMProxy - Connecting to ResourceManager at /0.0.0.0:8032\n",
            "2024-04-09 04:42:05,892 [MainThread] INFO  org.apache.hadoop.mapred.ClientServiceDelegate - Application state is completed. FinalApplicationStatus=SUCCEEDED. Redirecting to job history server\n",
            "2024-04-09 04:42:05,943 [MainThread] INFO  org.apache.pig.backend.hadoop.executionengine.mapReduceLayer.MapReduceLauncher - 100% complete\n",
            "2024-04-09 04:42:05,987 [MainThread] INFO  org.apache.pig.tools.pigstats.mapreduce.SimplePigStats - Script Statistics: \n",
            "\n",
            "HadoopVersion\tPigVersion\tUserId\tStartedAt\tFinishedAt\tFeatures\n",
            "2.10.1\t0.17.0\troot\t2024-04-09 04:30:16\t2024-04-09 04:42:05\tGROUP_BY,ORDER_BY,LIMIT\n",
            "\n",
            "Success!\n",
            "\n",
            "Job Stats (time in seconds):\n",
            "JobId\tMaps\tReduces\tMaxMapTime\tMinMapTime\tAvgMapTime\tMedianMapTime\tMaxReduceTime\tMinReduceTime\tAvgReduceTime\tMedianReducetime\tAlias\tFeature\tOutputs\n",
            "job_1712636677341_0001\t19\t3\t163\t35\t123\t134\t401\t135\t265\t259\tartist_counts,data,grouped_data\tGROUP_BY,COMBINER\t\n",
            "job_1712636677341_0002\t1\t1\t6\t6\t6\t6\t7\t7\t7\t7\tordered_data\tSAMPLER\t\n",
            "job_1712636677341_0003\t1\t1\t12\t12\t12\t12\t8\t8\t8\t8\tordered_data\tORDER_BY,COMBINER\t\n",
            "job_1712636677341_0004\t1\t1\t7\t7\t7\t7\t8\t8\t8\t8\tordered_data\t\thdfs://localhost:9000/user/root/top_artists,\n",
            "\n",
            "Input(s):\n",
            "Successfully read 19150868 records (2529275341 bytes) from: \"hdfs://localhost:9000/user/root/user_timestamp\"\n",
            "\n",
            "Output(s):\n",
            "Successfully stored 10 records (180 bytes) in: \"hdfs://localhost:9000/user/root/top_artists\"\n",
            "\n",
            "Counters:\n",
            "Total records written : 10\n",
            "Total bytes written : 180\n",
            "Spillable Memory Manager spill count : 0\n",
            "Total bags proactively spilled: 0\n",
            "Total records proactively spilled: 0\n",
            "\n",
            "Job DAG:\n",
            "job_1712636677341_0001\t->\tjob_1712636677341_0002,\n",
            "job_1712636677341_0002\t->\tjob_1712636677341_0003,\n",
            "job_1712636677341_0003\t->\tjob_1712636677341_0004,\n",
            "job_1712636677341_0004\n",
            "\n",
            "\n",
            "2024-04-09 04:42:05,990 [MainThread] INFO  org.apache.hadoop.yarn.client.RMProxy - Connecting to ResourceManager at /0.0.0.0:8032\n",
            "2024-04-09 04:42:06,000 [MainThread] INFO  org.apache.hadoop.mapred.ClientServiceDelegate - Application state is completed. FinalApplicationStatus=SUCCEEDED. Redirecting to job history server\n",
            "2024-04-09 04:42:06,099 [MainThread] INFO  org.apache.hadoop.yarn.client.RMProxy - Connecting to ResourceManager at /0.0.0.0:8032\n",
            "2024-04-09 04:42:06,116 [MainThread] INFO  org.apache.hadoop.mapred.ClientServiceDelegate - Application state is completed. FinalApplicationStatus=SUCCEEDED. Redirecting to job history server\n",
            "2024-04-09 04:42:06,176 [MainThread] INFO  org.apache.hadoop.yarn.client.RMProxy - Connecting to ResourceManager at /0.0.0.0:8032\n",
            "2024-04-09 04:42:06,185 [MainThread] INFO  org.apache.hadoop.mapred.ClientServiceDelegate - Application state is completed. FinalApplicationStatus=SUCCEEDED. Redirecting to job history server\n",
            "2024-04-09 04:42:06,262 [MainThread] INFO  org.apache.hadoop.yarn.client.RMProxy - Connecting to ResourceManager at /0.0.0.0:8032\n",
            "2024-04-09 04:42:06,272 [MainThread] INFO  org.apache.hadoop.mapred.ClientServiceDelegate - Application state is completed. FinalApplicationStatus=SUCCEEDED. Redirecting to job history server\n",
            "2024-04-09 04:42:06,318 [MainThread] INFO  org.apache.hadoop.yarn.client.RMProxy - Connecting to ResourceManager at /0.0.0.0:8032\n",
            "2024-04-09 04:42:06,325 [MainThread] INFO  org.apache.hadoop.mapred.ClientServiceDelegate - Application state is completed. FinalApplicationStatus=SUCCEEDED. Redirecting to job history server\n",
            "2024-04-09 04:42:06,353 [MainThread] INFO  org.apache.hadoop.yarn.client.RMProxy - Connecting to ResourceManager at /0.0.0.0:8032\n",
            "2024-04-09 04:42:06,364 [MainThread] INFO  org.apache.hadoop.mapred.ClientServiceDelegate - Application state is completed. FinalApplicationStatus=SUCCEEDED. Redirecting to job history server\n",
            "2024-04-09 04:42:06,398 [MainThread] INFO  org.apache.hadoop.yarn.client.RMProxy - Connecting to ResourceManager at /0.0.0.0:8032\n",
            "2024-04-09 04:42:06,407 [MainThread] INFO  org.apache.hadoop.mapred.ClientServiceDelegate - Application state is completed. FinalApplicationStatus=SUCCEEDED. Redirecting to job history server\n",
            "2024-04-09 04:42:06,441 [MainThread] INFO  org.apache.hadoop.yarn.client.RMProxy - Connecting to ResourceManager at /0.0.0.0:8032\n",
            "2024-04-09 04:42:06,448 [MainThread] INFO  org.apache.hadoop.mapred.ClientServiceDelegate - Application state is completed. FinalApplicationStatus=SUCCEEDED. Redirecting to job history server\n",
            "2024-04-09 04:42:06,482 [MainThread] INFO  org.apache.hadoop.yarn.client.RMProxy - Connecting to ResourceManager at /0.0.0.0:8032\n",
            "2024-04-09 04:42:06,501 [MainThread] INFO  org.apache.hadoop.mapred.ClientServiceDelegate - Application state is completed. FinalApplicationStatus=SUCCEEDED. Redirecting to job history server\n",
            "2024-04-09 04:42:06,575 [MainThread] INFO  org.apache.hadoop.yarn.client.RMProxy - Connecting to ResourceManager at /0.0.0.0:8032\n",
            "2024-04-09 04:42:06,580 [MainThread] INFO  org.apache.hadoop.mapred.ClientServiceDelegate - Application state is completed. FinalApplicationStatus=SUCCEEDED. Redirecting to job history server\n",
            "2024-04-09 04:42:06,608 [MainThread] INFO  org.apache.hadoop.yarn.client.RMProxy - Connecting to ResourceManager at /0.0.0.0:8032\n",
            "2024-04-09 04:42:06,614 [MainThread] INFO  org.apache.hadoop.mapred.ClientServiceDelegate - Application state is completed. FinalApplicationStatus=SUCCEEDED. Redirecting to job history server\n",
            "2024-04-09 04:42:06,662 [MainThread] INFO  org.apache.hadoop.yarn.client.RMProxy - Connecting to ResourceManager at /0.0.0.0:8032\n",
            "2024-04-09 04:42:06,668 [MainThread] INFO  org.apache.hadoop.mapred.ClientServiceDelegate - Application state is completed. FinalApplicationStatus=SUCCEEDED. Redirecting to job history server\n",
            "2024-04-09 04:42:06,701 [MainThread] INFO  org.apache.pig.backend.hadoop.executionengine.mapReduceLayer.MapReduceLauncher - Success!\n",
            "2024-04-09 04:42:06,762 [MainThread] INFO  org.apache.pig.Main - Pig script completed in 12 minutes, 12 seconds and 234 milliseconds (732234 ms)\n"
          ]
        }
      ]
    },
    {
      "cell_type": "code",
      "source": [
        "!hdfs dfs -ls"
      ],
      "metadata": {
        "colab": {
          "base_uri": "https://localhost:8080/"
        },
        "id": "oPUXFlLaRRa9",
        "outputId": "96309ade-c426-4951-8c0d-d16f9dc94375"
      },
      "execution_count": null,
      "outputs": [
        {
          "output_type": "stream",
          "name": "stdout",
          "text": [
            "Found 3 items\n",
            "drwxr-xr-x   - root supergroup          0 2024-04-09 04:42 top_artists\n",
            "drwxr-xr-x   - root supergroup          0 2024-04-09 04:28 user_profile\n",
            "drwxr-xr-x   - root supergroup          0 2024-04-09 04:28 user_timestamp\n"
          ]
        }
      ]
    },
    {
      "cell_type": "code",
      "source": [
        "!hdfs dfs -ls top_artists"
      ],
      "metadata": {
        "colab": {
          "base_uri": "https://localhost:8080/"
        },
        "id": "EIU05TDrRau4",
        "outputId": "f69544ab-d81e-437d-c764-aa034eed6356"
      },
      "execution_count": null,
      "outputs": [
        {
          "output_type": "stream",
          "name": "stdout",
          "text": [
            "Found 2 items\n",
            "-rw-r--r--   1 root supergroup          0 2024-04-09 04:42 top_artists/_SUCCESS\n",
            "-rw-r--r--   1 root supergroup        180 2024-04-09 04:42 top_artists/part-r-00000\n"
          ]
        }
      ]
    },
    {
      "cell_type": "code",
      "source": [
        "!hdfs dfs -cat top_artists/part-r-00000"
      ],
      "metadata": {
        "colab": {
          "base_uri": "https://localhost:8080/"
        },
        "id": "eMhnlT9kSMtd",
        "outputId": "7745b95d-f2e6-4396-e21c-5f133c0e14b7"
      },
      "execution_count": null,
      "outputs": [
        {
          "output_type": "stream",
          "name": "stdout",
          "text": [
            "Radiohead\t115209\n",
            "The Beatles\t100338\n",
            "Nine Inch Nails\t84421\n",
            "Muse\t63351\n",
            "Coldplay\t62251\n",
            "Depeche Mode\t59910\n",
            "Pink Floyd\t58561\n",
            "Death Cab For Cutie\t58083\n",
            "Placebo\t53543\n",
            "Elliott Smith\t50278\n"
          ]
        }
      ]
    },
    {
      "cell_type": "markdown",
      "metadata": {
        "id": "NcwgNsv6YF26"
      },
      "source": [
        "Responda la siguiente pregunta:\n",
        "\n",
        "¿ Cuál es el artista más popular y el menos popular del ranking top-10 ?\n",
        "\n",
        "El artista mas popular es Radiohead, con 115209 escuchas, y el menos popular es Elliott Smith con 50278 escuchas.\n"
      ]
    },
    {
      "cell_type": "markdown",
      "metadata": {
        "id": "wVCPwqF0PDB2"
      },
      "source": [
        "## Actividad 2"
      ]
    },
    {
      "cell_type": "code",
      "metadata": {
        "id": "Isha-60GY6Ak",
        "colab": {
          "base_uri": "https://localhost:8080/"
        },
        "outputId": "f0a44703-79c3-4de3-a21e-2dbb960c39e4"
      },
      "source": [
        "# Inserte su código\n",
        "#Register permite cargar los udf creados recientemente, indicando el lenguaje a usar\n",
        "#user_data permite cargar los datos desde la ubicacion, senalando separador y tipo de dato\n",
        "#data permite cargar los datos de las reproducciones\n",
        "#joined_data une los datos de los usuario con los datoa de las reproducciones a traves de la variable data\n",
        "#filtered_data filtra por el artistas mas popular a traves de la variable joined_data\n",
        "#gender_count recorre gruped_data y genera nuevo grupo por genero y realiza conteo\n",
        "#grouped_data agrupa la variable filtered_data por genero\n",
        "#la consulta final se almacena en el directorio gender_counts\n",
        "%%writefile gender_counts.pig\n",
        "\n",
        "REGISTER 'my_pig_udfs.py' USING jython AS my_pig_udfs;\n",
        "\n",
        "user_data = LOAD 'user_profile' USING PigStorage('\\t') AS (userid:chararray, gender:chararray, age:int, country:chararray, signup:chararray);\n",
        "\n",
        "data = LOAD 'user_timestamp' USING PigStorage('\\t') AS (userid:chararray, ts:chararray, musicbrainz_artist_id:chararray, artist_name:chararray, musicbrainz_track_id:chararray, track_name:chararray);\n",
        "\n",
        "joined_data = JOIN data BY userid, user_data BY userid;\n",
        "\n",
        "filtered_data = FILTER joined_data BY artist_name == 'Radiohead';\n",
        "\n",
        "grouped_data = GROUP filtered_data BY gender;\n",
        "gender_counts = FOREACH grouped_data GENERATE group AS gender, COUNT(filtered_data) AS count;\n",
        "\n",
        "STORE gender_counts INTO 'gender_counts';\n",
        "\n",
        "\n"
      ],
      "execution_count": null,
      "outputs": [
        {
          "output_type": "stream",
          "name": "stdout",
          "text": [
            "Writing gender_counts.pig\n"
          ]
        }
      ]
    },
    {
      "cell_type": "code",
      "source": [
        "!pig -f gender_counts.pig\n"
      ],
      "metadata": {
        "id": "8VjlFCIepaT0",
        "colab": {
          "base_uri": "https://localhost:8080/"
        },
        "outputId": "36afe311-205c-402c-8c30-c210a9c9d8af"
      },
      "execution_count": null,
      "outputs": [
        {
          "output_type": "stream",
          "name": "stdout",
          "text": [
            "24/04/09 04:43:12 INFO pig.ExecTypeProvider: Trying ExecType : LOCAL\n",
            "24/04/09 04:43:12 INFO pig.ExecTypeProvider: Trying ExecType : MAPREDUCE\n",
            "24/04/09 04:43:12 INFO pig.ExecTypeProvider: Picked MAPREDUCE as the ExecType\n",
            "2024-04-09 04:43:12,448 [main] INFO  org.apache.pig.Main - Apache Pig version 0.17.0 (r1797386) compiled Jun 02 2017, 15:41:58\n",
            "2024-04-09 04:43:12,448 [main] INFO  org.apache.pig.Main - Logging error messages to: /content/pig_1712637792441.log\n",
            "2024-04-09 04:43:13,813 [main] INFO  org.apache.pig.impl.util.Utils - Default bootup file /root/.pigbootup not found\n",
            "2024-04-09 04:43:14,036 [main] INFO  org.apache.hadoop.conf.Configuration.deprecation - mapred.job.tracker is deprecated. Instead, use mapreduce.jobtracker.address\n",
            "2024-04-09 04:43:14,042 [main] INFO  org.apache.pig.backend.hadoop.executionengine.HExecutionEngine - Connecting to hadoop file system at: hdfs://localhost:9000\n",
            "2024-04-09 04:43:15,169 [main] INFO  org.apache.pig.PigServer - Pig Script ID for the session: PIG-gender_counts.pig-6eda5790-2cc5-46ab-a405-d2a785a20cfd\n",
            "2024-04-09 04:43:15,169 [main] WARN  org.apache.pig.PigServer - ATS is disabled since yarn.timeline-service.enabled set to false\n",
            "2024-04-09 04:43:15,356 [main] INFO  org.apache.pig.scripting.jython.JythonScriptEngine - created tmp python.cachedir=/tmp/pig_jython_4158849677123928891\n",
            "2024-04-09 04:43:21,604 [main] WARN  org.apache.pig.scripting.jython.JythonScriptEngine - pig.cmd.args.remainders is empty. This is not expected unless on testing.\n",
            "2024-04-09 04:43:22,306 [MainThread] INFO  org.apache.pig.scripting.jython.JythonScriptEngine - Register scripting UDF: my_pig_udfs.empty_detector\n",
            "2024-04-09 04:43:23,410 [MainThread] INFO  org.apache.hadoop.conf.Configuration.deprecation - mapred.textoutputformat.separator is deprecated. Instead, use mapreduce.output.textoutputformat.separator\n",
            "2024-04-09 04:43:23,444 [MainThread] INFO  org.apache.pig.tools.pigstats.ScriptState - Pig features used in the script: HASH_JOIN,GROUP_BY,FILTER\n",
            "2024-04-09 04:43:23,478 [MainThread] INFO  org.apache.pig.data.SchemaTupleBackend - Key [pig.schematuple] was not set... will not generate code.\n",
            "2024-04-09 04:43:23,517 [MainThread] INFO  org.apache.pig.newplan.logical.optimizer.LogicalPlanOptimizer - {RULES_ENABLED=[AddForEach, ColumnMapKeyPrune, ConstantCalculator, GroupByConstParallelSetter, LimitOptimizer, LoadTypeCastInserter, MergeFilter, MergeForEach, NestedLimitOptimizer, PartitionFilterOptimizer, PredicatePushdownOptimizer, PushDownForEachFlatten, PushUpFilter, SplitFilter, StreamTypeCastInserter]}\n",
            "2024-04-09 04:43:23,610 [MainThread] INFO  org.apache.pig.impl.util.SpillableMemoryManager - Selected heap (PS Old Gen) of size 699400192 to monitor. collectionUsageThreshold = 489580128, usageThreshold = 489580128\n",
            "2024-04-09 04:43:23,701 [MainThread] INFO  org.apache.pig.backend.hadoop.executionengine.mapReduceLayer.MRCompiler - File concatenation threshold: 100 optimistic? false\n",
            "2024-04-09 04:43:23,751 [MainThread] INFO  org.apache.pig.backend.hadoop.executionengine.util.CombinerOptimizerUtil - Choosing to move algebraic foreach to combiner\n",
            "2024-04-09 04:43:23,786 [MainThread] INFO  org.apache.pig.backend.hadoop.executionengine.mapReduceLayer.MRCompiler$LastInputStreamingOptimizer - Rewrite: POPackage->POForEach to POPackage(JoinPackager)\n",
            "2024-04-09 04:43:23,795 [MainThread] INFO  org.apache.pig.backend.hadoop.executionengine.mapReduceLayer.MultiQueryOptimizer - MR plan size before optimization: 2\n",
            "2024-04-09 04:43:23,795 [MainThread] INFO  org.apache.pig.backend.hadoop.executionengine.mapReduceLayer.MultiQueryOptimizer - MR plan size after optimization: 2\n",
            "2024-04-09 04:43:23,910 [MainThread] INFO  org.apache.hadoop.yarn.client.RMProxy - Connecting to ResourceManager at /0.0.0.0:8032\n",
            "2024-04-09 04:43:24,194 [MainThread] INFO  org.apache.hadoop.conf.Configuration.deprecation - yarn.resourcemanager.system-metrics-publisher.enabled is deprecated. Instead, use yarn.system-metrics-publisher.enabled\n",
            "2024-04-09 04:43:24,211 [MainThread] INFO  org.apache.pig.tools.pigstats.mapreduce.MRScriptState - Pig script settings are added to the job\n",
            "2024-04-09 04:43:24,218 [MainThread] INFO  org.apache.hadoop.conf.Configuration.deprecation - mapred.job.reduce.markreset.buffer.percent is deprecated. Instead, use mapreduce.reduce.markreset.buffer.percent\n",
            "2024-04-09 04:43:24,218 [MainThread] INFO  org.apache.pig.backend.hadoop.executionengine.mapReduceLayer.JobControlCompiler - mapred.job.reduce.markreset.buffer.percent is not set, set to default 0.3\n",
            "2024-04-09 04:43:24,221 [MainThread] INFO  org.apache.hadoop.conf.Configuration.deprecation - mapred.output.compress is deprecated. Instead, use mapreduce.output.fileoutputformat.compress\n",
            "2024-04-09 04:43:24,224 [MainThread] INFO  org.apache.pig.backend.hadoop.executionengine.mapReduceLayer.JobControlCompiler - Reduce phase detected, estimating # of required reducers.\n",
            "2024-04-09 04:43:24,225 [MainThread] INFO  org.apache.pig.backend.hadoop.executionengine.mapReduceLayer.JobControlCompiler - Using reducer estimator: org.apache.pig.backend.hadoop.executionengine.mapReduceLayer.InputSizeReducerEstimator\n",
            "2024-04-09 04:43:24,256 [MainThread] INFO  org.apache.pig.backend.hadoop.executionengine.mapReduceLayer.InputSizeReducerEstimator - BytesPerReducer=1000000000 maxReducers=999 totalInputFileSize=2529231437\n",
            "2024-04-09 04:43:24,259 [MainThread] INFO  org.apache.pig.backend.hadoop.executionengine.mapReduceLayer.JobControlCompiler - Setting Parallelism to 3\n",
            "2024-04-09 04:43:24,259 [MainThread] INFO  org.apache.hadoop.conf.Configuration.deprecation - mapred.reduce.tasks is deprecated. Instead, use mapreduce.job.reduces\n",
            "2024-04-09 04:43:24,259 [MainThread] INFO  org.apache.pig.backend.hadoop.executionengine.mapReduceLayer.JobControlCompiler - This job cannot be converted run in-process\n",
            "2024-04-09 04:43:24,274 [MainThread] INFO  org.apache.hadoop.conf.Configuration.deprecation - mapred.submit.replication is deprecated. Instead, use mapreduce.client.submit.file.replication\n",
            "2024-04-09 04:43:24,590 [MainThread] INFO  org.apache.pig.backend.hadoop.executionengine.mapReduceLayer.JobControlCompiler - Added jar file:/content/pig-0.17.0/pig-0.17.0-core-h2.jar to DistributedCache through /tmp/temp-2138140269/tmp-1846140813/pig-0.17.0-core-h2.jar\n",
            "2024-04-09 04:43:24,990 [MainThread] INFO  org.apache.pig.backend.hadoop.executionengine.mapReduceLayer.JobControlCompiler - Added jar file:/content/pig-0.17.0/lib/jython-standalone-2.7.0.jar to DistributedCache through /tmp/temp-2138140269/tmp-1757281867/jython-standalone-2.7.0.jar\n",
            "2024-04-09 04:43:25,028 [MainThread] INFO  org.apache.pig.backend.hadoop.executionengine.mapReduceLayer.JobControlCompiler - Added jar file:/content/pig-0.17.0/lib/automaton-1.11-8.jar to DistributedCache through /tmp/temp-2138140269/tmp-610752586/automaton-1.11-8.jar\n",
            "2024-04-09 04:43:25,067 [MainThread] INFO  org.apache.pig.backend.hadoop.executionengine.mapReduceLayer.JobControlCompiler - Added jar file:/content/pig-0.17.0/lib/antlr-runtime-3.4.jar to DistributedCache through /tmp/temp-2138140269/tmp-788673597/antlr-runtime-3.4.jar\n",
            "2024-04-09 04:43:25,120 [MainThread] INFO  org.apache.pig.backend.hadoop.executionengine.mapReduceLayer.JobControlCompiler - Added jar file:/content/pig-0.17.0/lib/joda-time-2.9.3.jar to DistributedCache through /tmp/temp-2138140269/tmp1625748804/joda-time-2.9.3.jar\n",
            "2024-04-09 04:43:25,175 [MainThread] INFO  org.apache.pig.backend.hadoop.executionengine.mapReduceLayer.JobControlCompiler - Added jar file:/tmp/PigScriptUDF-6720865e24fcd5b73362fd1378cc9a22.jar to DistributedCache through /tmp/temp-2138140269/tmp1717307569/PigScriptUDF-6720865e24fcd5b73362fd1378cc9a22.jar\n",
            "2024-04-09 04:43:25,193 [MainThread] INFO  org.apache.pig.backend.hadoop.executionengine.mapReduceLayer.JobControlCompiler - Setting up single store job\n",
            "2024-04-09 04:43:25,210 [MainThread] INFO  org.apache.pig.data.SchemaTupleFrontend - Key [pig.schematuple] is false, will not generate code.\n",
            "2024-04-09 04:43:25,210 [MainThread] INFO  org.apache.pig.data.SchemaTupleFrontend - Starting process to move generated code to distributed cacche\n",
            "2024-04-09 04:43:25,210 [MainThread] INFO  org.apache.pig.data.SchemaTupleFrontend - Setting key [pig.schematuple.classes] with classes to deserialize []\n",
            "2024-04-09 04:43:25,384 [MainThread] INFO  org.apache.pig.backend.hadoop.executionengine.mapReduceLayer.MapReduceLauncher - 1 map-reduce job(s) waiting for submission.\n",
            "2024-04-09 04:43:25,385 [MainThread] INFO  org.apache.hadoop.conf.Configuration.deprecation - mapred.job.tracker.http.address is deprecated. Instead, use mapreduce.jobtracker.http.address\n",
            "2024-04-09 04:43:25,398 [JobControl] INFO  org.apache.hadoop.yarn.client.RMProxy - Connecting to ResourceManager at /0.0.0.0:8032\n",
            "2024-04-09 04:43:25,431 [JobControl] INFO  org.apache.hadoop.conf.Configuration.deprecation - mapred.task.id is deprecated. Instead, use mapreduce.task.attempt.id\n",
            "2024-04-09 04:43:25,607 [JobControl] WARN  org.apache.hadoop.mapreduce.JobResourceUploader - No job jar file set.  User classes may not be found. See Job or Job#setJar(String).\n",
            "2024-04-09 04:43:25,643 [JobControl] INFO  org.apache.pig.builtin.PigStorage - Using PigTextInputFormat\n",
            "2024-04-09 04:43:25,672 [JobControl] INFO  org.apache.hadoop.mapreduce.lib.input.FileInputFormat - Total input files to process : 1\n",
            "2024-04-09 04:43:25,673 [JobControl] INFO  org.apache.pig.backend.hadoop.executionengine.util.MapRedUtil - Total input paths to process : 1\n",
            "2024-04-09 04:43:25,696 [JobControl] INFO  org.apache.pig.backend.hadoop.executionengine.util.MapRedUtil - Total input paths (combined) to process : 19\n",
            "2024-04-09 04:43:25,699 [JobControl] INFO  org.apache.pig.builtin.PigStorage - Using PigTextInputFormat\n",
            "2024-04-09 04:43:25,714 [JobControl] INFO  org.apache.hadoop.mapreduce.lib.input.FileInputFormat - Total input files to process : 1\n",
            "2024-04-09 04:43:25,714 [JobControl] INFO  org.apache.pig.backend.hadoop.executionengine.util.MapRedUtil - Total input paths to process : 1\n",
            "2024-04-09 04:43:25,714 [JobControl] INFO  org.apache.pig.backend.hadoop.executionengine.util.MapRedUtil - Total input paths (combined) to process : 1\n",
            "2024-04-09 04:43:25,806 [JobControl] INFO  org.apache.hadoop.mapreduce.JobSubmitter - number of splits:20\n",
            "2024-04-09 04:43:25,945 [JobControl] INFO  org.apache.hadoop.conf.Configuration.deprecation - yarn.resourcemanager.system-metrics-publisher.enabled is deprecated. Instead, use yarn.system-metrics-publisher.enabled\n",
            "2024-04-09 04:43:26,119 [JobControl] INFO  org.apache.hadoop.mapreduce.JobSubmitter - Submitting tokens for job: job_1712636677341_0005\n",
            "2024-04-09 04:43:26,312 [JobControl] INFO  org.apache.hadoop.mapred.YARNRunner - Job jar is not present. Not adding any jar to the list of resources.\n",
            "2024-04-09 04:43:26,404 [JobControl] INFO  org.apache.hadoop.conf.Configuration - resource-types.xml not found\n",
            "2024-04-09 04:43:26,404 [JobControl] INFO  org.apache.hadoop.yarn.util.resource.ResourceUtils - Unable to find 'resource-types.xml'.\n",
            "2024-04-09 04:43:26,418 [JobControl] INFO  org.apache.hadoop.yarn.util.resource.ResourceUtils - Adding resource type - name = memory-mb, units = Mi, type = COUNTABLE\n",
            "2024-04-09 04:43:26,418 [JobControl] INFO  org.apache.hadoop.yarn.util.resource.ResourceUtils - Adding resource type - name = vcores, units = , type = COUNTABLE\n",
            "2024-04-09 04:43:26,806 [JobControl] INFO  org.apache.hadoop.yarn.client.api.impl.YarnClientImpl - Submitted application application_1712636677341_0005\n",
            "2024-04-09 04:43:26,857 [JobControl] INFO  org.apache.hadoop.mapreduce.Job - The url to track the job: http://49bab7c0f679:8088/proxy/application_1712636677341_0005/\n",
            "2024-04-09 04:43:26,858 [MainThread] INFO  org.apache.pig.backend.hadoop.executionengine.mapReduceLayer.MapReduceLauncher - HadoopJobId: job_1712636677341_0005\n",
            "2024-04-09 04:43:26,858 [MainThread] INFO  org.apache.pig.backend.hadoop.executionengine.mapReduceLayer.MapReduceLauncher - Processing aliases data,filtered_data,joined_data,user_data\n",
            "2024-04-09 04:43:26,858 [MainThread] INFO  org.apache.pig.backend.hadoop.executionengine.mapReduceLayer.MapReduceLauncher - detailed locations: M: user_data[4,12],user_data[-1,-1],joined_data[8,14],data[6,7],data[-1,-1],filtered_data[10,16],joined_data[8,14] C:  R: \n",
            "2024-04-09 04:43:26,873 [MainThread] INFO  org.apache.pig.backend.hadoop.executionengine.mapReduceLayer.MapReduceLauncher - 0% complete\n",
            "2024-04-09 04:43:26,873 [MainThread] INFO  org.apache.pig.backend.hadoop.executionengine.mapReduceLayer.MapReduceLauncher - Running jobs are [job_1712636677341_0005]\n",
            "2024-04-09 04:45:06,352 [MainThread] INFO  org.apache.pig.backend.hadoop.executionengine.mapReduceLayer.MapReduceLauncher - 4% complete\n",
            "2024-04-09 04:45:06,352 [MainThread] INFO  org.apache.pig.backend.hadoop.executionengine.mapReduceLayer.MapReduceLauncher - Running jobs are [job_1712636677341_0005]\n",
            "2024-04-09 04:45:59,092 [MainThread] INFO  org.apache.pig.backend.hadoop.executionengine.mapReduceLayer.MapReduceLauncher - 8% complete\n",
            "2024-04-09 04:45:59,095 [MainThread] INFO  org.apache.pig.backend.hadoop.executionengine.mapReduceLayer.MapReduceLauncher - Running jobs are [job_1712636677341_0005]\n",
            "2024-04-09 04:46:41,330 [MainThread] INFO  org.apache.pig.backend.hadoop.executionengine.mapReduceLayer.MapReduceLauncher - 13% complete\n",
            "2024-04-09 04:46:41,330 [MainThread] INFO  org.apache.pig.backend.hadoop.executionengine.mapReduceLayer.MapReduceLauncher - Running jobs are [job_1712636677341_0005]\n",
            "2024-04-09 04:47:24,479 [MainThread] INFO  org.apache.pig.backend.hadoop.executionengine.mapReduceLayer.MapReduceLauncher - 18% complete\n",
            "2024-04-09 04:47:24,479 [MainThread] INFO  org.apache.pig.backend.hadoop.executionengine.mapReduceLayer.MapReduceLauncher - Running jobs are [job_1712636677341_0005]\n",
            "2024-04-09 04:47:49,531 [MainThread] INFO  org.apache.pig.backend.hadoop.executionengine.mapReduceLayer.MapReduceLauncher - 23% complete\n",
            "2024-04-09 04:47:49,531 [MainThread] INFO  org.apache.pig.backend.hadoop.executionengine.mapReduceLayer.MapReduceLauncher - Running jobs are [job_1712636677341_0005]\n",
            "2024-04-09 04:48:31,654 [MainThread] INFO  org.apache.pig.backend.hadoop.executionengine.mapReduceLayer.MapReduceLauncher - 27% complete\n",
            "2024-04-09 04:48:31,654 [MainThread] INFO  org.apache.pig.backend.hadoop.executionengine.mapReduceLayer.MapReduceLauncher - Running jobs are [job_1712636677341_0005]\n",
            "2024-04-09 04:49:07,740 [MainThread] INFO  org.apache.pig.backend.hadoop.executionengine.mapReduceLayer.MapReduceLauncher - 32% complete\n",
            "2024-04-09 04:49:07,741 [MainThread] INFO  org.apache.pig.backend.hadoop.executionengine.mapReduceLayer.MapReduceLauncher - Running jobs are [job_1712636677341_0005]\n",
            "2024-04-09 04:49:12,756 [MainThread] INFO  org.apache.pig.backend.hadoop.executionengine.mapReduceLayer.MapReduceLauncher - 38% complete\n",
            "2024-04-09 04:49:12,757 [MainThread] INFO  org.apache.pig.backend.hadoop.executionengine.mapReduceLayer.MapReduceLauncher - Running jobs are [job_1712636677341_0005]\n",
            "2024-04-09 04:49:19,765 [MainThread] INFO  org.apache.pig.backend.hadoop.executionengine.mapReduceLayer.MapReduceLauncher - 48% complete\n",
            "2024-04-09 04:49:19,768 [MainThread] INFO  org.apache.pig.backend.hadoop.executionengine.mapReduceLayer.MapReduceLauncher - Running jobs are [job_1712636677341_0005]\n",
            "2024-04-09 04:49:27,799 [MainThread] INFO  org.apache.hadoop.yarn.client.RMProxy - Connecting to ResourceManager at /0.0.0.0:8032\n",
            "2024-04-09 04:49:27,823 [MainThread] INFO  org.apache.hadoop.mapred.ClientServiceDelegate - Application state is completed. FinalApplicationStatus=SUCCEEDED. Redirecting to job history server\n",
            "2024-04-09 04:49:28,597 [MainThread] INFO  org.apache.hadoop.yarn.client.RMProxy - Connecting to ResourceManager at /0.0.0.0:8032\n",
            "2024-04-09 04:49:28,609 [MainThread] INFO  org.apache.hadoop.mapred.ClientServiceDelegate - Application state is completed. FinalApplicationStatus=SUCCEEDED. Redirecting to job history server\n",
            "2024-04-09 04:49:28,695 [MainThread] INFO  org.apache.hadoop.yarn.client.RMProxy - Connecting to ResourceManager at /0.0.0.0:8032\n",
            "2024-04-09 04:49:28,719 [MainThread] INFO  org.apache.hadoop.mapred.ClientServiceDelegate - Application state is completed. FinalApplicationStatus=SUCCEEDED. Redirecting to job history server\n",
            "2024-04-09 04:49:28,952 [MainThread] INFO  org.apache.pig.tools.pigstats.mapreduce.MRScriptState - Pig script settings are added to the job\n",
            "2024-04-09 04:49:28,964 [MainThread] INFO  org.apache.pig.backend.hadoop.executionengine.mapReduceLayer.JobControlCompiler - mapred.job.reduce.markreset.buffer.percent is not set, set to default 0.3\n",
            "2024-04-09 04:49:28,965 [MainThread] INFO  org.apache.pig.backend.hadoop.executionengine.mapReduceLayer.JobControlCompiler - Reduce phase detected, estimating # of required reducers.\n",
            "2024-04-09 04:49:28,965 [MainThread] INFO  org.apache.pig.backend.hadoop.executionengine.mapReduceLayer.JobControlCompiler - Using reducer estimator: org.apache.pig.backend.hadoop.executionengine.mapReduceLayer.InputSizeReducerEstimator\n",
            "2024-04-09 04:49:28,992 [MainThread] INFO  org.apache.pig.backend.hadoop.executionengine.mapReduceLayer.InputSizeReducerEstimator - BytesPerReducer=1000000000 maxReducers=999 totalInputFileSize=22539374\n",
            "2024-04-09 04:49:28,993 [MainThread] INFO  org.apache.pig.backend.hadoop.executionengine.mapReduceLayer.JobControlCompiler - Setting Parallelism to 1\n",
            "2024-04-09 04:49:28,993 [MainThread] INFO  org.apache.pig.backend.hadoop.executionengine.mapReduceLayer.JobControlCompiler - This job cannot be converted run in-process\n",
            "2024-04-09 04:49:29,558 [MainThread] INFO  org.apache.pig.backend.hadoop.executionengine.mapReduceLayer.JobControlCompiler - Added jar file:/content/pig-0.17.0/pig-0.17.0-core-h2.jar to DistributedCache through /tmp/temp-2138140269/tmp486688900/pig-0.17.0-core-h2.jar\n",
            "2024-04-09 04:49:30,743 [MainThread] INFO  org.apache.pig.backend.hadoop.executionengine.mapReduceLayer.JobControlCompiler - Added jar file:/content/pig-0.17.0/lib/jython-standalone-2.7.0.jar to DistributedCache through /tmp/temp-2138140269/tmp1862405886/jython-standalone-2.7.0.jar\n",
            "2024-04-09 04:49:31,182 [MainThread] INFO  org.apache.pig.backend.hadoop.executionengine.mapReduceLayer.JobControlCompiler - Added jar file:/content/pig-0.17.0/lib/automaton-1.11-8.jar to DistributedCache through /tmp/temp-2138140269/tmp-1259810164/automaton-1.11-8.jar\n",
            "2024-04-09 04:49:31,630 [MainThread] INFO  org.apache.pig.backend.hadoop.executionengine.mapReduceLayer.JobControlCompiler - Added jar file:/content/pig-0.17.0/lib/antlr-runtime-3.4.jar to DistributedCache through /tmp/temp-2138140269/tmp253931283/antlr-runtime-3.4.jar\n",
            "2024-04-09 04:49:32,076 [MainThread] INFO  org.apache.pig.backend.hadoop.executionengine.mapReduceLayer.JobControlCompiler - Added jar file:/content/pig-0.17.0/lib/joda-time-2.9.3.jar to DistributedCache through /tmp/temp-2138140269/tmp-1710997520/joda-time-2.9.3.jar\n",
            "2024-04-09 04:49:32,518 [MainThread] INFO  org.apache.pig.backend.hadoop.executionengine.mapReduceLayer.JobControlCompiler - Added jar file:/tmp/PigScriptUDF-6720865e24fcd5b73362fd1378cc9a22.jar to DistributedCache through /tmp/temp-2138140269/tmp-2035255498/PigScriptUDF-6720865e24fcd5b73362fd1378cc9a22.jar\n",
            "2024-04-09 04:49:32,520 [MainThread] INFO  org.apache.pig.backend.hadoop.executionengine.mapReduceLayer.JobControlCompiler - Setting up single store job\n",
            "2024-04-09 04:49:32,520 [MainThread] INFO  org.apache.pig.data.SchemaTupleFrontend - Key [pig.schematuple] is false, will not generate code.\n",
            "2024-04-09 04:49:32,520 [MainThread] INFO  org.apache.pig.data.SchemaTupleFrontend - Starting process to move generated code to distributed cacche\n",
            "2024-04-09 04:49:32,520 [MainThread] INFO  org.apache.pig.data.SchemaTupleFrontend - Setting key [pig.schematuple.classes] with classes to deserialize []\n",
            "2024-04-09 04:49:32,610 [MainThread] INFO  org.apache.pig.backend.hadoop.executionengine.mapReduceLayer.MapReduceLauncher - 1 map-reduce job(s) waiting for submission.\n",
            "2024-04-09 04:49:32,619 [JobControl] INFO  org.apache.hadoop.yarn.client.RMProxy - Connecting to ResourceManager at /0.0.0.0:8032\n",
            "2024-04-09 04:49:32,643 [JobControl] INFO  org.apache.hadoop.conf.Configuration.deprecation - yarn.resourcemanager.system-metrics-publisher.enabled is deprecated. Instead, use yarn.system-metrics-publisher.enabled\n",
            "2024-04-09 04:49:32,673 [JobControl] WARN  org.apache.hadoop.mapreduce.JobResourceUploader - No job jar file set.  User classes may not be found. See Job or Job#setJar(String).\n",
            "2024-04-09 04:49:32,721 [JobControl] INFO  org.apache.hadoop.mapreduce.lib.input.FileInputFormat - Total input files to process : 3\n",
            "2024-04-09 04:49:32,722 [JobControl] INFO  org.apache.pig.backend.hadoop.executionengine.util.MapRedUtil - Total input paths to process : 3\n",
            "2024-04-09 04:49:32,722 [JobControl] INFO  org.apache.pig.backend.hadoop.executionengine.util.MapRedUtil - Total input paths (combined) to process : 1\n",
            "2024-04-09 04:49:33,619 [JobControl] INFO  org.apache.hadoop.mapreduce.JobSubmitter - number of splits:1\n",
            "2024-04-09 04:49:33,671 [JobControl] INFO  org.apache.hadoop.mapreduce.JobSubmitter - Submitting tokens for job: job_1712636677341_0006\n",
            "2024-04-09 04:49:33,675 [JobControl] INFO  org.apache.hadoop.mapred.YARNRunner - Job jar is not present. Not adding any jar to the list of resources.\n",
            "2024-04-09 04:49:33,931 [JobControl] INFO  org.apache.hadoop.yarn.client.api.impl.YarnClientImpl - Submitted application application_1712636677341_0006\n",
            "2024-04-09 04:49:33,935 [JobControl] INFO  org.apache.hadoop.mapreduce.Job - The url to track the job: http://49bab7c0f679:8088/proxy/application_1712636677341_0006/\n",
            "2024-04-09 04:49:33,936 [MainThread] INFO  org.apache.pig.backend.hadoop.executionengine.mapReduceLayer.MapReduceLauncher - HadoopJobId: job_1712636677341_0006\n",
            "2024-04-09 04:49:33,936 [MainThread] INFO  org.apache.pig.backend.hadoop.executionengine.mapReduceLayer.MapReduceLauncher - Processing aliases gender_counts,grouped_data\n",
            "2024-04-09 04:49:33,936 [MainThread] INFO  org.apache.pig.backend.hadoop.executionengine.mapReduceLayer.MapReduceLauncher - detailed locations: M: gender_counts[13,16],grouped_data[12,15] C: gender_counts[13,16],grouped_data[12,15] R: gender_counts[13,16]\n",
            "2024-04-09 04:49:54,111 [MainThread] INFO  org.apache.pig.backend.hadoop.executionengine.mapReduceLayer.MapReduceLauncher - 75% complete\n",
            "2024-04-09 04:49:54,112 [MainThread] INFO  org.apache.pig.backend.hadoop.executionengine.mapReduceLayer.MapReduceLauncher - Running jobs are [job_1712636677341_0006]\n",
            "2024-04-09 04:50:06,171 [MainThread] INFO  org.apache.pig.backend.hadoop.executionengine.mapReduceLayer.MapReduceLauncher - Running jobs are [job_1712636677341_0006]\n",
            "2024-04-09 04:50:09,201 [MainThread] INFO  org.apache.hadoop.yarn.client.RMProxy - Connecting to ResourceManager at /0.0.0.0:8032\n",
            "2024-04-09 04:50:09,228 [MainThread] INFO  org.apache.hadoop.mapred.ClientServiceDelegate - Application state is completed. FinalApplicationStatus=SUCCEEDED. Redirecting to job history server\n",
            "2024-04-09 04:50:09,526 [MainThread] INFO  org.apache.hadoop.yarn.client.RMProxy - Connecting to ResourceManager at /0.0.0.0:8032\n",
            "2024-04-09 04:50:09,569 [MainThread] INFO  org.apache.hadoop.mapred.ClientServiceDelegate - Application state is completed. FinalApplicationStatus=SUCCEEDED. Redirecting to job history server\n",
            "2024-04-09 04:50:09,695 [MainThread] INFO  org.apache.hadoop.yarn.client.RMProxy - Connecting to ResourceManager at /0.0.0.0:8032\n",
            "2024-04-09 04:50:09,722 [MainThread] INFO  org.apache.hadoop.mapred.ClientServiceDelegate - Application state is completed. FinalApplicationStatus=SUCCEEDED. Redirecting to job history server\n",
            "2024-04-09 04:50:09,820 [MainThread] INFO  org.apache.pig.backend.hadoop.executionengine.mapReduceLayer.MapReduceLauncher - 100% complete\n",
            "2024-04-09 04:50:09,898 [MainThread] INFO  org.apache.pig.tools.pigstats.mapreduce.SimplePigStats - Script Statistics: \n",
            "\n",
            "HadoopVersion\tPigVersion\tUserId\tStartedAt\tFinishedAt\tFeatures\n",
            "2.10.1\t0.17.0\troot\t2024-04-09 04:43:24\t2024-04-09 04:50:09\tHASH_JOIN,GROUP_BY,FILTER\n",
            "\n",
            "Success!\n",
            "\n",
            "Job Stats (time in seconds):\n",
            "JobId\tMaps\tReduces\tMaxMapTime\tMinMapTime\tAvgMapTime\tMedianMapTime\tMaxReduceTime\tMinReduceTime\tAvgReduceTime\tMedianReducetime\tAlias\tFeature\tOutputs\n",
            "job_1712636677341_0005\t20\t3\t95\t26\t69\t85\t241\t150\t183\t159\tdata,filtered_data,joined_data,user_data\tHASH_JOIN\t\n",
            "job_1712636677341_0006\t1\t1\t10\t10\t10\t10\t8\t8\t8\t8\tgender_counts,grouped_data\tGROUP_BY,COMBINER\thdfs://localhost:9000/user/root/gender_counts,\n",
            "\n",
            "Input(s):\n",
            "Successfully read 19150868 records from: \"hdfs://localhost:9000/user/root/user_timestamp\"\n",
            "Successfully read 993 records from: \"hdfs://localhost:9000/user/root/user_profile\"\n",
            "\n",
            "Output(s):\n",
            "Successfully stored 3 records (22 bytes) in: \"hdfs://localhost:9000/user/root/gender_counts\"\n",
            "\n",
            "Counters:\n",
            "Total records written : 3\n",
            "Total bytes written : 22\n",
            "Spillable Memory Manager spill count : 0\n",
            "Total bags proactively spilled: 0\n",
            "Total records proactively spilled: 0\n",
            "\n",
            "Job DAG:\n",
            "job_1712636677341_0005\t->\tjob_1712636677341_0006,\n",
            "job_1712636677341_0006\n",
            "\n",
            "\n",
            "2024-04-09 04:50:09,904 [MainThread] INFO  org.apache.hadoop.yarn.client.RMProxy - Connecting to ResourceManager at /0.0.0.0:8032\n",
            "2024-04-09 04:50:09,931 [MainThread] INFO  org.apache.hadoop.mapred.ClientServiceDelegate - Application state is completed. FinalApplicationStatus=SUCCEEDED. Redirecting to job history server\n",
            "2024-04-09 04:50:10,217 [MainThread] INFO  org.apache.hadoop.yarn.client.RMProxy - Connecting to ResourceManager at /0.0.0.0:8032\n",
            "2024-04-09 04:50:10,238 [MainThread] INFO  org.apache.hadoop.mapred.ClientServiceDelegate - Application state is completed. FinalApplicationStatus=SUCCEEDED. Redirecting to job history server\n",
            "2024-04-09 04:50:10,337 [MainThread] INFO  org.apache.hadoop.yarn.client.RMProxy - Connecting to ResourceManager at /0.0.0.0:8032\n",
            "2024-04-09 04:50:10,356 [MainThread] INFO  org.apache.hadoop.mapred.ClientServiceDelegate - Application state is completed. FinalApplicationStatus=SUCCEEDED. Redirecting to job history server\n",
            "2024-04-09 04:50:10,452 [MainThread] INFO  org.apache.hadoop.yarn.client.RMProxy - Connecting to ResourceManager at /0.0.0.0:8032\n",
            "2024-04-09 04:50:10,484 [MainThread] INFO  org.apache.hadoop.mapred.ClientServiceDelegate - Application state is completed. FinalApplicationStatus=SUCCEEDED. Redirecting to job history server\n",
            "2024-04-09 04:50:10,577 [MainThread] INFO  org.apache.hadoop.yarn.client.RMProxy - Connecting to ResourceManager at /0.0.0.0:8032\n",
            "2024-04-09 04:50:10,601 [MainThread] INFO  org.apache.hadoop.mapred.ClientServiceDelegate - Application state is completed. FinalApplicationStatus=SUCCEEDED. Redirecting to job history server\n",
            "2024-04-09 04:50:10,686 [MainThread] INFO  org.apache.hadoop.yarn.client.RMProxy - Connecting to ResourceManager at /0.0.0.0:8032\n",
            "2024-04-09 04:50:10,726 [MainThread] INFO  org.apache.hadoop.mapred.ClientServiceDelegate - Application state is completed. FinalApplicationStatus=SUCCEEDED. Redirecting to job history server\n",
            "2024-04-09 04:50:10,844 [MainThread] WARN  org.apache.pig.backend.hadoop.executionengine.mapReduceLayer.MapReduceLauncher - Encountered Warning FIELD_DISCARDED_TYPE_CONVERSION_FAILED 1 time(s).\n",
            "2024-04-09 04:50:10,844 [MainThread] INFO  org.apache.pig.backend.hadoop.executionengine.mapReduceLayer.MapReduceLauncher - Success!\n",
            "2024-04-09 04:50:10,950 [MainThread] INFO  org.apache.pig.Main - Pig script completed in 6 minutes, 58 seconds and 969 milliseconds (418969 ms)\n"
          ]
        }
      ]
    },
    {
      "cell_type": "code",
      "source": [
        "!hdfs dfs -ls"
      ],
      "metadata": {
        "id": "lZ5dZf7fpdlJ",
        "colab": {
          "base_uri": "https://localhost:8080/"
        },
        "outputId": "490bba76-6c5e-4722-fd08-7343741d0fe5"
      },
      "execution_count": null,
      "outputs": [
        {
          "output_type": "stream",
          "name": "stdout",
          "text": [
            "Found 4 items\n",
            "drwxr-xr-x   - root supergroup          0 2024-04-09 04:50 gender_counts\n",
            "drwxr-xr-x   - root supergroup          0 2024-04-09 04:42 top_artists\n",
            "drwxr-xr-x   - root supergroup          0 2024-04-09 04:28 user_profile\n",
            "drwxr-xr-x   - root supergroup          0 2024-04-09 04:28 user_timestamp\n"
          ]
        }
      ]
    },
    {
      "cell_type": "code",
      "source": [
        "!hdfs dfs -ls gender_counts"
      ],
      "metadata": {
        "colab": {
          "base_uri": "https://localhost:8080/"
        },
        "id": "9bvIEDof2_dK",
        "outputId": "925e4509-1dfd-4a92-e2b6-de0c05b76403"
      },
      "execution_count": null,
      "outputs": [
        {
          "output_type": "stream",
          "name": "stdout",
          "text": [
            "Found 2 items\n",
            "-rw-r--r--   1 root supergroup          0 2024-04-09 04:50 gender_counts/_SUCCESS\n",
            "-rw-r--r--   1 root supergroup         22 2024-04-09 04:50 gender_counts/part-r-00000\n"
          ]
        }
      ]
    },
    {
      "cell_type": "code",
      "source": [
        "!hdfs dfs -cat gender_counts/part-r-00000"
      ],
      "metadata": {
        "colab": {
          "base_uri": "https://localhost:8080/"
        },
        "id": "EbebRztp3OHA",
        "outputId": "e7e476fc-54a3-4c73-ac4b-29bc67f27d32"
      },
      "execution_count": null,
      "outputs": [
        {
          "output_type": "stream",
          "name": "stdout",
          "text": [
            "f\t43748\n",
            "m\t63784\n",
            "\t7677\n"
          ]
        }
      ]
    },
    {
      "cell_type": "markdown",
      "metadata": {
        "id": "k30uw79HYY5P"
      },
      "source": [
        "Responda la siguiente pregunta:\n",
        "\n",
        "¿ Cuál es la cantidad de hombres y mujeres que han escuchado alguna canción del artista más popular ?\n",
        "\n",
        "La cantidad de hombres que han escuchado el artista mas popular son de 63784, y la cantidad de mujeres son de 43748"
      ]
    },
    {
      "cell_type": "markdown",
      "metadata": {
        "id": "H2WNAKzAPGBZ"
      },
      "source": [
        "## Actividad 3"
      ]
    },
    {
      "cell_type": "code",
      "metadata": {
        "id": "2YNCAechY7MI",
        "colab": {
          "base_uri": "https://localhost:8080/"
        },
        "outputId": "4f3e4685-1630-4330-af58-7eca89780e2d"
      },
      "source": [
        "# Inserte su código\n",
        "\n",
        "#Register permite cargar los udf creados recientemente, indicando el lenguaje a usar\n",
        "#user_data permite cargar los datos desde la ubicacion, senalando separador y tipo de dato\n",
        "#data permite cargar los datos de las reproducciones\n",
        "#joined_data une los datos de los usuario con los datoa de las reproducciones a traves de la variable data\n",
        "#filtered_data filtra por el artistas mas popular a traves de la variable joined_data\n",
        "#grouped_data agrupa la variable filtered_data por edad\n",
        "#age_counts recorre grouped_data generando nuevo grupo por edad, y contando por filtered_data\n",
        "#ordered_data ordena la variable age_counts por edad\n",
        "#la consulta final se almacena en el directorio gender_counts\n",
        "\n",
        "%%writefile age_counts.pig\n",
        "\n",
        "REGISTER 'my_pig_udfs.py' USING jython AS my_pig_udfs;\n",
        "\n",
        "user_data = LOAD 'user_profile' USING PigStorage('\\t') AS (userid:chararray, gender:chararray, age:int, country:chararray, signup:chararray);\n",
        "\n",
        "data = LOAD 'user_timestamp' USING PigStorage('\\t') AS (userid:chararray, ts:chararray, musicbrainz_artist_id:chararray, artist_name:chararray, musicbrainz_track_id:chararray, track_name:chararray);\n",
        "\n",
        "joined_data = JOIN data BY userid, user_data BY userid;\n",
        "\n",
        "filtered_data = FILTER joined_data BY artist_name == 'Radiohead' AND age IS NOT NULL;\n",
        "\n",
        "grouped_data = GROUP filtered_data BY age;\n",
        "\n",
        "age_counts = FOREACH grouped_data GENERATE group AS age, COUNT(filtered_data) AS count;\n",
        "\n",
        "ordered_data = ORDER age_counts BY age;\n",
        "\n",
        "STORE ordered_data INTO 'age_counts';\n",
        "\n"
      ],
      "execution_count": null,
      "outputs": [
        {
          "output_type": "stream",
          "name": "stdout",
          "text": [
            "Overwriting age_counts.pig\n"
          ]
        }
      ]
    },
    {
      "cell_type": "code",
      "source": [
        "!pig -f age_counts.pig\n"
      ],
      "metadata": {
        "id": "961V4zCQpwR0",
        "colab": {
          "base_uri": "https://localhost:8080/"
        },
        "outputId": "94145143-04b8-483d-fb45-3809ec0bceac"
      },
      "execution_count": null,
      "outputs": [
        {
          "output_type": "stream",
          "name": "stdout",
          "text": [
            "24/04/09 05:01:39 INFO pig.ExecTypeProvider: Trying ExecType : LOCAL\n",
            "24/04/09 05:01:39 INFO pig.ExecTypeProvider: Trying ExecType : MAPREDUCE\n",
            "24/04/09 05:01:39 INFO pig.ExecTypeProvider: Picked MAPREDUCE as the ExecType\n",
            "2024-04-09 05:01:39,334 [main] INFO  org.apache.pig.Main - Apache Pig version 0.17.0 (r1797386) compiled Jun 02 2017, 15:41:58\n",
            "2024-04-09 05:01:39,336 [main] INFO  org.apache.pig.Main - Logging error messages to: /content/pig_1712638899332.log\n",
            "2024-04-09 05:01:40,559 [main] INFO  org.apache.pig.impl.util.Utils - Default bootup file /root/.pigbootup not found\n",
            "2024-04-09 05:01:40,757 [main] INFO  org.apache.hadoop.conf.Configuration.deprecation - mapred.job.tracker is deprecated. Instead, use mapreduce.jobtracker.address\n",
            "2024-04-09 05:01:40,757 [main] INFO  org.apache.pig.backend.hadoop.executionengine.HExecutionEngine - Connecting to hadoop file system at: hdfs://localhost:9000\n",
            "2024-04-09 05:01:42,038 [main] INFO  org.apache.pig.PigServer - Pig Script ID for the session: PIG-age_counts.pig-5c8c42ba-1d47-4649-aeeb-b51749572fe2\n",
            "2024-04-09 05:01:42,038 [main] WARN  org.apache.pig.PigServer - ATS is disabled since yarn.timeline-service.enabled set to false\n",
            "2024-04-09 05:01:42,193 [main] INFO  org.apache.pig.scripting.jython.JythonScriptEngine - created tmp python.cachedir=/tmp/pig_jython_8601367997439339922\n",
            "2024-04-09 05:01:51,882 [main] WARN  org.apache.pig.scripting.jython.JythonScriptEngine - pig.cmd.args.remainders is empty. This is not expected unless on testing.\n",
            "2024-04-09 05:01:52,487 [MainThread] INFO  org.apache.pig.scripting.jython.JythonScriptEngine - Register scripting UDF: my_pig_udfs.empty_detector\n",
            "2024-04-09 05:01:53,547 [MainThread] INFO  org.apache.hadoop.conf.Configuration.deprecation - mapred.textoutputformat.separator is deprecated. Instead, use mapreduce.output.textoutputformat.separator\n",
            "2024-04-09 05:01:53,583 [MainThread] INFO  org.apache.pig.tools.pigstats.ScriptState - Pig features used in the script: HASH_JOIN,GROUP_BY,ORDER_BY,FILTER\n",
            "2024-04-09 05:01:53,615 [MainThread] INFO  org.apache.pig.data.SchemaTupleBackend - Key [pig.schematuple] was not set... will not generate code.\n",
            "2024-04-09 05:01:53,661 [MainThread] INFO  org.apache.pig.newplan.logical.optimizer.LogicalPlanOptimizer - {RULES_ENABLED=[AddForEach, ColumnMapKeyPrune, ConstantCalculator, GroupByConstParallelSetter, LimitOptimizer, LoadTypeCastInserter, MergeFilter, MergeForEach, NestedLimitOptimizer, PartitionFilterOptimizer, PredicatePushdownOptimizer, PushDownForEachFlatten, PushUpFilter, SplitFilter, StreamTypeCastInserter]}\n",
            "2024-04-09 05:01:53,747 [MainThread] INFO  org.apache.pig.impl.util.SpillableMemoryManager - Selected heap (PS Old Gen) of size 699400192 to monitor. collectionUsageThreshold = 489580128, usageThreshold = 489580128\n",
            "2024-04-09 05:01:53,829 [MainThread] INFO  org.apache.pig.backend.hadoop.executionengine.mapReduceLayer.MRCompiler - File concatenation threshold: 100 optimistic? false\n",
            "2024-04-09 05:01:53,898 [MainThread] INFO  org.apache.pig.backend.hadoop.executionengine.util.CombinerOptimizerUtil - Choosing to move algebraic foreach to combiner\n",
            "2024-04-09 05:01:53,929 [MainThread] INFO  org.apache.pig.backend.hadoop.executionengine.mapReduceLayer.SecondaryKeyOptimizerMR - Using Secondary Key Optimization for MapReduce node scope-78\n",
            "2024-04-09 05:01:53,935 [MainThread] INFO  org.apache.pig.backend.hadoop.executionengine.mapReduceLayer.MRCompiler$LastInputStreamingOptimizer - Rewrite: POPackage->POForEach to POPackage(JoinPackager)\n",
            "2024-04-09 05:01:53,945 [MainThread] INFO  org.apache.pig.backend.hadoop.executionengine.mapReduceLayer.MultiQueryOptimizer - MR plan size before optimization: 4\n",
            "2024-04-09 05:01:53,945 [MainThread] INFO  org.apache.pig.backend.hadoop.executionengine.mapReduceLayer.MultiQueryOptimizer - MR plan size after optimization: 4\n",
            "2024-04-09 05:01:54,067 [MainThread] INFO  org.apache.hadoop.yarn.client.RMProxy - Connecting to ResourceManager at /0.0.0.0:8032\n",
            "2024-04-09 05:01:54,368 [MainThread] INFO  org.apache.hadoop.conf.Configuration.deprecation - yarn.resourcemanager.system-metrics-publisher.enabled is deprecated. Instead, use yarn.system-metrics-publisher.enabled\n",
            "2024-04-09 05:01:54,386 [MainThread] INFO  org.apache.pig.tools.pigstats.mapreduce.MRScriptState - Pig script settings are added to the job\n",
            "2024-04-09 05:01:54,394 [MainThread] INFO  org.apache.hadoop.conf.Configuration.deprecation - mapred.job.reduce.markreset.buffer.percent is deprecated. Instead, use mapreduce.reduce.markreset.buffer.percent\n",
            "2024-04-09 05:01:54,394 [MainThread] INFO  org.apache.pig.backend.hadoop.executionengine.mapReduceLayer.JobControlCompiler - mapred.job.reduce.markreset.buffer.percent is not set, set to default 0.3\n",
            "2024-04-09 05:01:54,396 [MainThread] INFO  org.apache.hadoop.conf.Configuration.deprecation - mapred.output.compress is deprecated. Instead, use mapreduce.output.fileoutputformat.compress\n",
            "2024-04-09 05:01:54,399 [MainThread] INFO  org.apache.pig.backend.hadoop.executionengine.mapReduceLayer.JobControlCompiler - Reduce phase detected, estimating # of required reducers.\n",
            "2024-04-09 05:01:54,401 [MainThread] INFO  org.apache.pig.backend.hadoop.executionengine.mapReduceLayer.JobControlCompiler - Using reducer estimator: org.apache.pig.backend.hadoop.executionengine.mapReduceLayer.InputSizeReducerEstimator\n",
            "2024-04-09 05:01:54,428 [MainThread] INFO  org.apache.pig.backend.hadoop.executionengine.mapReduceLayer.InputSizeReducerEstimator - BytesPerReducer=1000000000 maxReducers=999 totalInputFileSize=2529231437\n",
            "2024-04-09 05:01:54,429 [MainThread] INFO  org.apache.pig.backend.hadoop.executionengine.mapReduceLayer.JobControlCompiler - Setting Parallelism to 3\n",
            "2024-04-09 05:01:54,429 [MainThread] INFO  org.apache.hadoop.conf.Configuration.deprecation - mapred.reduce.tasks is deprecated. Instead, use mapreduce.job.reduces\n",
            "2024-04-09 05:01:54,429 [MainThread] INFO  org.apache.pig.backend.hadoop.executionengine.mapReduceLayer.JobControlCompiler - This job cannot be converted run in-process\n",
            "2024-04-09 05:01:54,445 [MainThread] INFO  org.apache.hadoop.conf.Configuration.deprecation - mapred.submit.replication is deprecated. Instead, use mapreduce.client.submit.file.replication\n",
            "2024-04-09 05:01:54,819 [MainThread] INFO  org.apache.pig.backend.hadoop.executionengine.mapReduceLayer.JobControlCompiler - Added jar file:/content/pig-0.17.0/pig-0.17.0-core-h2.jar to DistributedCache through /tmp/temp884719507/tmp-1989657490/pig-0.17.0-core-h2.jar\n",
            "2024-04-09 05:01:55,736 [MainThread] INFO  org.apache.pig.backend.hadoop.executionengine.mapReduceLayer.JobControlCompiler - Added jar file:/content/pig-0.17.0/lib/jython-standalone-2.7.0.jar to DistributedCache through /tmp/temp884719507/tmp797072047/jython-standalone-2.7.0.jar\n",
            "2024-04-09 05:01:56,164 [MainThread] INFO  org.apache.pig.backend.hadoop.executionengine.mapReduceLayer.JobControlCompiler - Added jar file:/content/pig-0.17.0/lib/automaton-1.11-8.jar to DistributedCache through /tmp/temp884719507/tmp2067835242/automaton-1.11-8.jar\n",
            "2024-04-09 05:01:56,192 [MainThread] INFO  org.apache.pig.backend.hadoop.executionengine.mapReduceLayer.JobControlCompiler - Added jar file:/content/pig-0.17.0/lib/antlr-runtime-3.4.jar to DistributedCache through /tmp/temp884719507/tmp1376646825/antlr-runtime-3.4.jar\n",
            "2024-04-09 05:01:56,221 [MainThread] INFO  org.apache.pig.backend.hadoop.executionengine.mapReduceLayer.JobControlCompiler - Added jar file:/content/pig-0.17.0/lib/joda-time-2.9.3.jar to DistributedCache through /tmp/temp884719507/tmp198622585/joda-time-2.9.3.jar\n",
            "2024-04-09 05:01:56,250 [MainThread] INFO  org.apache.pig.backend.hadoop.executionengine.mapReduceLayer.JobControlCompiler - Added jar file:/tmp/PigScriptUDF-6720865e24fcd5b73362fd1378cc9a22.jar to DistributedCache through /tmp/temp884719507/tmp167517725/PigScriptUDF-6720865e24fcd5b73362fd1378cc9a22.jar\n",
            "2024-04-09 05:01:56,266 [MainThread] INFO  org.apache.pig.backend.hadoop.executionengine.mapReduceLayer.JobControlCompiler - Setting up single store job\n",
            "2024-04-09 05:01:56,270 [MainThread] INFO  org.apache.pig.data.SchemaTupleFrontend - Key [pig.schematuple] is false, will not generate code.\n",
            "2024-04-09 05:01:56,270 [MainThread] INFO  org.apache.pig.data.SchemaTupleFrontend - Starting process to move generated code to distributed cacche\n",
            "2024-04-09 05:01:56,270 [MainThread] INFO  org.apache.pig.data.SchemaTupleFrontend - Setting key [pig.schematuple.classes] with classes to deserialize []\n",
            "2024-04-09 05:01:56,397 [MainThread] INFO  org.apache.pig.backend.hadoop.executionengine.mapReduceLayer.MapReduceLauncher - 1 map-reduce job(s) waiting for submission.\n",
            "2024-04-09 05:01:56,398 [MainThread] INFO  org.apache.hadoop.conf.Configuration.deprecation - mapred.job.tracker.http.address is deprecated. Instead, use mapreduce.jobtracker.http.address\n",
            "2024-04-09 05:01:56,409 [JobControl] INFO  org.apache.hadoop.yarn.client.RMProxy - Connecting to ResourceManager at /0.0.0.0:8032\n",
            "2024-04-09 05:01:56,433 [JobControl] INFO  org.apache.hadoop.conf.Configuration.deprecation - mapred.task.id is deprecated. Instead, use mapreduce.task.attempt.id\n",
            "2024-04-09 05:01:56,586 [JobControl] WARN  org.apache.hadoop.mapreduce.JobResourceUploader - No job jar file set.  User classes may not be found. See Job or Job#setJar(String).\n",
            "2024-04-09 05:01:56,625 [JobControl] INFO  org.apache.pig.builtin.PigStorage - Using PigTextInputFormat\n",
            "2024-04-09 05:01:56,657 [JobControl] INFO  org.apache.hadoop.mapreduce.lib.input.FileInputFormat - Total input files to process : 1\n",
            "2024-04-09 05:01:56,657 [JobControl] INFO  org.apache.pig.backend.hadoop.executionengine.util.MapRedUtil - Total input paths to process : 1\n",
            "2024-04-09 05:01:56,675 [JobControl] INFO  org.apache.pig.backend.hadoop.executionengine.util.MapRedUtil - Total input paths (combined) to process : 1\n",
            "2024-04-09 05:01:56,679 [JobControl] INFO  org.apache.pig.builtin.PigStorage - Using PigTextInputFormat\n",
            "2024-04-09 05:01:56,693 [JobControl] INFO  org.apache.hadoop.mapreduce.lib.input.FileInputFormat - Total input files to process : 1\n",
            "2024-04-09 05:01:56,693 [JobControl] INFO  org.apache.pig.backend.hadoop.executionengine.util.MapRedUtil - Total input paths to process : 1\n",
            "2024-04-09 05:01:56,693 [JobControl] INFO  org.apache.pig.backend.hadoop.executionengine.util.MapRedUtil - Total input paths (combined) to process : 19\n",
            "2024-04-09 05:01:56,783 [JobControl] INFO  org.apache.hadoop.mapreduce.JobSubmitter - number of splits:20\n",
            "2024-04-09 05:01:56,926 [JobControl] INFO  org.apache.hadoop.conf.Configuration.deprecation - yarn.resourcemanager.system-metrics-publisher.enabled is deprecated. Instead, use yarn.system-metrics-publisher.enabled\n",
            "2024-04-09 05:01:57,109 [JobControl] INFO  org.apache.hadoop.mapreduce.JobSubmitter - Submitting tokens for job: job_1712636677341_0007\n",
            "2024-04-09 05:01:57,302 [JobControl] INFO  org.apache.hadoop.mapred.YARNRunner - Job jar is not present. Not adding any jar to the list of resources.\n",
            "2024-04-09 05:01:57,396 [JobControl] INFO  org.apache.hadoop.conf.Configuration - resource-types.xml not found\n",
            "2024-04-09 05:01:57,396 [JobControl] INFO  org.apache.hadoop.yarn.util.resource.ResourceUtils - Unable to find 'resource-types.xml'.\n",
            "2024-04-09 05:01:57,406 [JobControl] INFO  org.apache.hadoop.yarn.util.resource.ResourceUtils - Adding resource type - name = memory-mb, units = Mi, type = COUNTABLE\n",
            "2024-04-09 05:01:57,406 [JobControl] INFO  org.apache.hadoop.yarn.util.resource.ResourceUtils - Adding resource type - name = vcores, units = , type = COUNTABLE\n",
            "2024-04-09 05:01:57,833 [JobControl] INFO  org.apache.hadoop.yarn.client.api.impl.YarnClientImpl - Submitted application application_1712636677341_0007\n",
            "2024-04-09 05:01:57,898 [JobControl] INFO  org.apache.hadoop.mapreduce.Job - The url to track the job: http://49bab7c0f679:8088/proxy/application_1712636677341_0007/\n",
            "2024-04-09 05:01:57,899 [MainThread] INFO  org.apache.pig.backend.hadoop.executionengine.mapReduceLayer.MapReduceLauncher - HadoopJobId: job_1712636677341_0007\n",
            "2024-04-09 05:01:57,899 [MainThread] INFO  org.apache.pig.backend.hadoop.executionengine.mapReduceLayer.MapReduceLauncher - Processing aliases data,filtered_data,joined_data,user_data\n",
            "2024-04-09 05:01:57,899 [MainThread] INFO  org.apache.pig.backend.hadoop.executionengine.mapReduceLayer.MapReduceLauncher - detailed locations: M: user_data[4,12],user_data[-1,-1],null[-1,-1],joined_data[8,14],data[6,7],data[-1,-1],filtered_data[10,16],joined_data[8,14] C:  R: \n",
            "2024-04-09 05:01:57,926 [MainThread] INFO  org.apache.pig.backend.hadoop.executionengine.mapReduceLayer.MapReduceLauncher - 0% complete\n",
            "2024-04-09 05:01:57,926 [MainThread] INFO  org.apache.pig.backend.hadoop.executionengine.mapReduceLayer.MapReduceLauncher - Running jobs are [job_1712636677341_0007]\n",
            "2024-04-09 05:04:40,444 [MainThread] INFO  org.apache.pig.backend.hadoop.executionengine.mapReduceLayer.MapReduceLauncher - 4% complete\n",
            "2024-04-09 05:04:40,445 [MainThread] INFO  org.apache.pig.backend.hadoop.executionengine.mapReduceLayer.MapReduceLauncher - Running jobs are [job_1712636677341_0007]\n",
            "2024-04-09 05:05:50,686 [MainThread] INFO  org.apache.pig.backend.hadoop.executionengine.mapReduceLayer.MapReduceLauncher - 8% complete\n",
            "2024-04-09 05:05:50,686 [MainThread] INFO  org.apache.pig.backend.hadoop.executionengine.mapReduceLayer.MapReduceLauncher - Running jobs are [job_1712636677341_0007]\n",
            "2024-04-09 05:07:05,460 [MainThread] INFO  org.apache.pig.backend.hadoop.executionengine.mapReduceLayer.MapReduceLauncher - 12% complete\n",
            "2024-04-09 05:07:05,460 [MainThread] INFO  org.apache.pig.backend.hadoop.executionengine.mapReduceLayer.MapReduceLauncher - Running jobs are [job_1712636677341_0007]\n",
            "2024-04-09 05:07:50,682 [MainThread] INFO  org.apache.pig.backend.hadoop.executionengine.mapReduceLayer.MapReduceLauncher - 17% complete\n",
            "2024-04-09 05:07:50,684 [MainThread] INFO  org.apache.pig.backend.hadoop.executionengine.mapReduceLayer.MapReduceLauncher - Running jobs are [job_1712636677341_0007]\n",
            "2024-04-09 05:07:52,690 [MainThread] INFO  org.apache.pig.backend.hadoop.executionengine.mapReduceLayer.MapReduceLauncher - 22% complete\n",
            "2024-04-09 05:07:52,690 [MainThread] INFO  org.apache.pig.backend.hadoop.executionengine.mapReduceLayer.MapReduceLauncher - Running jobs are [job_1712636677341_0007]\n",
            "2024-04-09 05:07:58,701 [MainThread] INFO  org.apache.hadoop.yarn.client.RMProxy - Connecting to ResourceManager at /0.0.0.0:8032\n",
            "2024-04-09 05:07:58,717 [MainThread] INFO  org.apache.hadoop.mapred.ClientServiceDelegate - Application state is completed. FinalApplicationStatus=SUCCEEDED. Redirecting to job history server\n",
            "2024-04-09 05:07:59,024 [MainThread] INFO  org.apache.hadoop.yarn.client.RMProxy - Connecting to ResourceManager at /0.0.0.0:8032\n",
            "2024-04-09 05:07:59,035 [MainThread] INFO  org.apache.hadoop.mapred.ClientServiceDelegate - Application state is completed. FinalApplicationStatus=SUCCEEDED. Redirecting to job history server\n",
            "2024-04-09 05:07:59,071 [MainThread] INFO  org.apache.hadoop.yarn.client.RMProxy - Connecting to ResourceManager at /0.0.0.0:8032\n",
            "2024-04-09 05:07:59,076 [MainThread] INFO  org.apache.hadoop.mapred.ClientServiceDelegate - Application state is completed. FinalApplicationStatus=SUCCEEDED. Redirecting to job history server\n",
            "2024-04-09 05:07:59,166 [MainThread] INFO  org.apache.pig.tools.pigstats.mapreduce.MRScriptState - Pig script settings are added to the job\n",
            "2024-04-09 05:07:59,167 [MainThread] INFO  org.apache.pig.backend.hadoop.executionengine.mapReduceLayer.JobControlCompiler - mapred.job.reduce.markreset.buffer.percent is not set, set to default 0.3\n",
            "2024-04-09 05:07:59,168 [MainThread] INFO  org.apache.pig.backend.hadoop.executionengine.mapReduceLayer.JobControlCompiler - Reduce phase detected, estimating # of required reducers.\n",
            "2024-04-09 05:07:59,171 [MainThread] INFO  org.apache.pig.backend.hadoop.executionengine.mapReduceLayer.JobControlCompiler - Using reducer estimator: org.apache.pig.backend.hadoop.executionengine.mapReduceLayer.InputSizeReducerEstimator\n",
            "2024-04-09 05:07:59,176 [MainThread] INFO  org.apache.pig.backend.hadoop.executionengine.mapReduceLayer.InputSizeReducerEstimator - BytesPerReducer=1000000000 maxReducers=999 totalInputFileSize=7621600\n",
            "2024-04-09 05:07:59,176 [MainThread] INFO  org.apache.pig.backend.hadoop.executionengine.mapReduceLayer.JobControlCompiler - Setting Parallelism to 1\n",
            "2024-04-09 05:07:59,176 [MainThread] INFO  org.apache.pig.backend.hadoop.executionengine.mapReduceLayer.JobControlCompiler - This job cannot be converted run in-process\n",
            "2024-04-09 05:07:59,632 [MainThread] INFO  org.apache.pig.backend.hadoop.executionengine.mapReduceLayer.JobControlCompiler - Added jar file:/content/pig-0.17.0/pig-0.17.0-core-h2.jar to DistributedCache through /tmp/temp884719507/tmp-829569009/pig-0.17.0-core-h2.jar\n",
            "2024-04-09 05:08:00,294 [MainThread] INFO  org.apache.pig.backend.hadoop.executionengine.mapReduceLayer.JobControlCompiler - Added jar file:/content/pig-0.17.0/lib/jython-standalone-2.7.0.jar to DistributedCache through /tmp/temp884719507/tmp-956932435/jython-standalone-2.7.0.jar\n",
            "2024-04-09 05:08:00,343 [MainThread] INFO  org.apache.pig.backend.hadoop.executionengine.mapReduceLayer.JobControlCompiler - Added jar file:/content/pig-0.17.0/lib/automaton-1.11-8.jar to DistributedCache through /tmp/temp884719507/tmp466522560/automaton-1.11-8.jar\n",
            "2024-04-09 05:08:00,365 [MainThread] INFO  org.apache.pig.backend.hadoop.executionengine.mapReduceLayer.JobControlCompiler - Added jar file:/content/pig-0.17.0/lib/antlr-runtime-3.4.jar to DistributedCache through /tmp/temp884719507/tmp-2069561082/antlr-runtime-3.4.jar\n",
            "2024-04-09 05:08:00,388 [MainThread] INFO  org.apache.pig.backend.hadoop.executionengine.mapReduceLayer.JobControlCompiler - Added jar file:/content/pig-0.17.0/lib/joda-time-2.9.3.jar to DistributedCache through /tmp/temp884719507/tmp-2139923334/joda-time-2.9.3.jar\n",
            "2024-04-09 05:08:00,875 [MainThread] INFO  org.apache.pig.backend.hadoop.executionengine.mapReduceLayer.JobControlCompiler - Added jar file:/tmp/PigScriptUDF-6720865e24fcd5b73362fd1378cc9a22.jar to DistributedCache through /tmp/temp884719507/tmp-1017442936/PigScriptUDF-6720865e24fcd5b73362fd1378cc9a22.jar\n",
            "2024-04-09 05:08:00,877 [MainThread] INFO  org.apache.pig.backend.hadoop.executionengine.mapReduceLayer.JobControlCompiler - Setting up single store job\n",
            "2024-04-09 05:08:00,878 [MainThread] INFO  org.apache.pig.data.SchemaTupleFrontend - Key [pig.schematuple] is false, will not generate code.\n",
            "2024-04-09 05:08:00,878 [MainThread] INFO  org.apache.pig.data.SchemaTupleFrontend - Starting process to move generated code to distributed cacche\n",
            "2024-04-09 05:08:00,878 [MainThread] INFO  org.apache.pig.data.SchemaTupleFrontend - Setting key [pig.schematuple.classes] with classes to deserialize []\n",
            "2024-04-09 05:08:00,915 [MainThread] INFO  org.apache.pig.backend.hadoop.executionengine.mapReduceLayer.MapReduceLauncher - 1 map-reduce job(s) waiting for submission.\n",
            "2024-04-09 05:08:00,919 [JobControl] INFO  org.apache.hadoop.yarn.client.RMProxy - Connecting to ResourceManager at /0.0.0.0:8032\n",
            "2024-04-09 05:08:00,927 [JobControl] INFO  org.apache.hadoop.conf.Configuration.deprecation - yarn.resourcemanager.system-metrics-publisher.enabled is deprecated. Instead, use yarn.system-metrics-publisher.enabled\n",
            "2024-04-09 05:08:00,946 [JobControl] WARN  org.apache.hadoop.mapreduce.JobResourceUploader - No job jar file set.  User classes may not be found. See Job or Job#setJar(String).\n",
            "2024-04-09 05:08:00,980 [JobControl] INFO  org.apache.hadoop.mapreduce.lib.input.FileInputFormat - Total input files to process : 3\n",
            "2024-04-09 05:08:00,980 [JobControl] INFO  org.apache.pig.backend.hadoop.executionengine.util.MapRedUtil - Total input paths to process : 3\n",
            "2024-04-09 05:08:00,981 [JobControl] INFO  org.apache.pig.backend.hadoop.executionengine.util.MapRedUtil - Total input paths (combined) to process : 1\n",
            "2024-04-09 05:08:01,031 [JobControl] INFO  org.apache.hadoop.mapreduce.JobSubmitter - number of splits:1\n",
            "2024-04-09 05:08:01,085 [JobControl] INFO  org.apache.hadoop.mapreduce.JobSubmitter - Submitting tokens for job: job_1712636677341_0008\n",
            "2024-04-09 05:08:01,089 [JobControl] INFO  org.apache.hadoop.mapred.YARNRunner - Job jar is not present. Not adding any jar to the list of resources.\n",
            "2024-04-09 05:08:01,137 [JobControl] INFO  org.apache.hadoop.yarn.client.api.impl.YarnClientImpl - Submitted application application_1712636677341_0008\n",
            "2024-04-09 05:08:01,153 [JobControl] INFO  org.apache.hadoop.mapreduce.Job - The url to track the job: http://49bab7c0f679:8088/proxy/application_1712636677341_0008/\n",
            "2024-04-09 05:08:01,417 [MainThread] INFO  org.apache.pig.backend.hadoop.executionengine.mapReduceLayer.MapReduceLauncher - HadoopJobId: job_1712636677341_0008\n",
            "2024-04-09 05:08:01,417 [MainThread] INFO  org.apache.pig.backend.hadoop.executionengine.mapReduceLayer.MapReduceLauncher - Processing aliases age_counts,grouped_data\n",
            "2024-04-09 05:08:01,417 [MainThread] INFO  org.apache.pig.backend.hadoop.executionengine.mapReduceLayer.MapReduceLauncher - detailed locations: M: age_counts[14,13],grouped_data[12,15] C: age_counts[14,13],grouped_data[12,15] R: age_counts[14,13]\n",
            "2024-04-09 05:08:28,301 [MainThread] INFO  org.apache.pig.backend.hadoop.executionengine.mapReduceLayer.MapReduceLauncher - 37% complete\n",
            "2024-04-09 05:08:28,303 [MainThread] INFO  org.apache.pig.backend.hadoop.executionengine.mapReduceLayer.MapReduceLauncher - Running jobs are [job_1712636677341_0008]\n",
            "2024-04-09 05:08:35,316 [MainThread] INFO  org.apache.pig.backend.hadoop.executionengine.mapReduceLayer.MapReduceLauncher - 50% complete\n",
            "2024-04-09 05:08:35,316 [MainThread] INFO  org.apache.pig.backend.hadoop.executionengine.mapReduceLayer.MapReduceLauncher - Running jobs are [job_1712636677341_0008]\n",
            "2024-04-09 05:08:36,323 [MainThread] INFO  org.apache.hadoop.yarn.client.RMProxy - Connecting to ResourceManager at /0.0.0.0:8032\n",
            "2024-04-09 05:08:36,333 [MainThread] INFO  org.apache.hadoop.mapred.ClientServiceDelegate - Application state is completed. FinalApplicationStatus=SUCCEEDED. Redirecting to job history server\n",
            "2024-04-09 05:08:36,410 [MainThread] INFO  org.apache.hadoop.yarn.client.RMProxy - Connecting to ResourceManager at /0.0.0.0:8032\n",
            "2024-04-09 05:08:36,418 [MainThread] INFO  org.apache.hadoop.mapred.ClientServiceDelegate - Application state is completed. FinalApplicationStatus=SUCCEEDED. Redirecting to job history server\n",
            "2024-04-09 05:08:36,447 [MainThread] INFO  org.apache.hadoop.yarn.client.RMProxy - Connecting to ResourceManager at /0.0.0.0:8032\n",
            "2024-04-09 05:08:36,453 [MainThread] INFO  org.apache.hadoop.mapred.ClientServiceDelegate - Application state is completed. FinalApplicationStatus=SUCCEEDED. Redirecting to job history server\n",
            "2024-04-09 05:08:36,480 [MainThread] INFO  org.apache.pig.tools.pigstats.mapreduce.MRScriptState - Pig script settings are added to the job\n",
            "2024-04-09 05:08:36,480 [MainThread] INFO  org.apache.pig.backend.hadoop.executionengine.mapReduceLayer.JobControlCompiler - mapred.job.reduce.markreset.buffer.percent is not set, set to default 0.3\n",
            "2024-04-09 05:08:36,481 [MainThread] INFO  org.apache.pig.backend.hadoop.executionengine.mapReduceLayer.JobControlCompiler - Reduce phase detected, estimating # of required reducers.\n",
            "2024-04-09 05:08:36,481 [MainThread] INFO  org.apache.pig.backend.hadoop.executionengine.mapReduceLayer.JobControlCompiler - Using reducer estimator: org.apache.pig.backend.hadoop.executionengine.mapReduceLayer.InputSizeReducerEstimator\n",
            "2024-04-09 05:08:36,491 [MainThread] INFO  org.apache.pig.backend.hadoop.executionengine.mapReduceLayer.InputSizeReducerEstimator - BytesPerReducer=1000000000 maxReducers=999 totalInputFileSize=268\n",
            "2024-04-09 05:08:36,492 [MainThread] INFO  org.apache.pig.backend.hadoop.executionengine.mapReduceLayer.JobControlCompiler - Setting Parallelism to 1\n",
            "2024-04-09 05:08:36,492 [MainThread] INFO  org.apache.pig.backend.hadoop.executionengine.mapReduceLayer.JobControlCompiler - This job cannot be converted run in-process\n",
            "2024-04-09 05:08:36,712 [MainThread] INFO  org.apache.pig.backend.hadoop.executionengine.mapReduceLayer.JobControlCompiler - Added jar file:/content/pig-0.17.0/lib/jython-standalone-2.7.0.jar to DistributedCache through /tmp/temp884719507/tmp883043273/jython-standalone-2.7.0.jar\n",
            "2024-04-09 05:08:36,764 [MainThread] INFO  org.apache.pig.backend.hadoop.executionengine.mapReduceLayer.JobControlCompiler - Added jar file:/content/pig-0.17.0/pig-0.17.0-core-h2.jar to DistributedCache through /tmp/temp884719507/tmp1903078519/pig-0.17.0-core-h2.jar\n",
            "2024-04-09 05:08:36,797 [MainThread] INFO  org.apache.pig.backend.hadoop.executionengine.mapReduceLayer.JobControlCompiler - Added jar file:/content/pig-0.17.0/lib/automaton-1.11-8.jar to DistributedCache through /tmp/temp884719507/tmp378739825/automaton-1.11-8.jar\n",
            "2024-04-09 05:08:36,829 [MainThread] INFO  org.apache.pig.backend.hadoop.executionengine.mapReduceLayer.JobControlCompiler - Added jar file:/content/pig-0.17.0/lib/antlr-runtime-3.4.jar to DistributedCache through /tmp/temp884719507/tmp-298423466/antlr-runtime-3.4.jar\n",
            "2024-04-09 05:08:36,865 [MainThread] INFO  org.apache.pig.backend.hadoop.executionengine.mapReduceLayer.JobControlCompiler - Added jar file:/content/pig-0.17.0/lib/joda-time-2.9.3.jar to DistributedCache through /tmp/temp884719507/tmp2107791335/joda-time-2.9.3.jar\n",
            "2024-04-09 05:08:36,892 [MainThread] INFO  org.apache.pig.backend.hadoop.executionengine.mapReduceLayer.JobControlCompiler - Added jar file:/tmp/PigScriptUDF-6720865e24fcd5b73362fd1378cc9a22.jar to DistributedCache through /tmp/temp884719507/tmp1761373539/PigScriptUDF-6720865e24fcd5b73362fd1378cc9a22.jar\n",
            "2024-04-09 05:08:36,894 [MainThread] INFO  org.apache.pig.backend.hadoop.executionengine.mapReduceLayer.JobControlCompiler - Setting up single store job\n",
            "2024-04-09 05:08:36,898 [MainThread] INFO  org.apache.pig.data.SchemaTupleFrontend - Key [pig.schematuple] is false, will not generate code.\n",
            "2024-04-09 05:08:36,898 [MainThread] INFO  org.apache.pig.data.SchemaTupleFrontend - Starting process to move generated code to distributed cacche\n",
            "2024-04-09 05:08:36,898 [MainThread] INFO  org.apache.pig.data.SchemaTupleFrontend - Setting key [pig.schematuple.classes] with classes to deserialize []\n",
            "2024-04-09 05:08:36,924 [MainThread] INFO  org.apache.pig.backend.hadoop.executionengine.mapReduceLayer.MapReduceLauncher - 1 map-reduce job(s) waiting for submission.\n",
            "2024-04-09 05:08:36,928 [JobControl] INFO  org.apache.hadoop.yarn.client.RMProxy - Connecting to ResourceManager at /0.0.0.0:8032\n",
            "2024-04-09 05:08:36,940 [JobControl] INFO  org.apache.hadoop.conf.Configuration.deprecation - yarn.resourcemanager.system-metrics-publisher.enabled is deprecated. Instead, use yarn.system-metrics-publisher.enabled\n",
            "2024-04-09 05:08:36,956 [JobControl] WARN  org.apache.hadoop.mapreduce.JobResourceUploader - No job jar file set.  User classes may not be found. See Job or Job#setJar(String).\n",
            "2024-04-09 05:08:36,988 [JobControl] INFO  org.apache.hadoop.mapreduce.lib.input.FileInputFormat - Total input files to process : 1\n",
            "2024-04-09 05:08:36,988 [JobControl] INFO  org.apache.pig.backend.hadoop.executionengine.util.MapRedUtil - Total input paths to process : 1\n",
            "2024-04-09 05:08:36,989 [JobControl] INFO  org.apache.pig.backend.hadoop.executionengine.util.MapRedUtil - Total input paths (combined) to process : 1\n",
            "2024-04-09 05:08:37,041 [JobControl] INFO  org.apache.hadoop.mapreduce.JobSubmitter - number of splits:1\n",
            "2024-04-09 05:08:37,091 [JobControl] INFO  org.apache.hadoop.mapreduce.JobSubmitter - Submitting tokens for job: job_1712636677341_0009\n",
            "2024-04-09 05:08:37,094 [JobControl] INFO  org.apache.hadoop.mapred.YARNRunner - Job jar is not present. Not adding any jar to the list of resources.\n",
            "2024-04-09 05:08:37,339 [JobControl] INFO  org.apache.hadoop.yarn.client.api.impl.YarnClientImpl - Submitted application application_1712636677341_0009\n",
            "2024-04-09 05:08:37,348 [JobControl] INFO  org.apache.hadoop.mapreduce.Job - The url to track the job: http://49bab7c0f679:8088/proxy/application_1712636677341_0009/\n",
            "2024-04-09 05:08:37,425 [MainThread] INFO  org.apache.pig.backend.hadoop.executionengine.mapReduceLayer.MapReduceLauncher - HadoopJobId: job_1712636677341_0009\n",
            "2024-04-09 05:08:37,425 [MainThread] INFO  org.apache.pig.backend.hadoop.executionengine.mapReduceLayer.MapReduceLauncher - Processing aliases ordered_data\n",
            "2024-04-09 05:08:37,425 [MainThread] INFO  org.apache.pig.backend.hadoop.executionengine.mapReduceLayer.MapReduceLauncher - detailed locations: M: ordered_data[16,15] C:  R: \n",
            "2024-04-09 05:09:06,700 [MainThread] INFO  org.apache.pig.backend.hadoop.executionengine.mapReduceLayer.MapReduceLauncher - 62% complete\n",
            "2024-04-09 05:09:06,700 [MainThread] INFO  org.apache.pig.backend.hadoop.executionengine.mapReduceLayer.MapReduceLauncher - Running jobs are [job_1712636677341_0009]\n",
            "2024-04-09 05:09:12,208 [MainThread] INFO  org.apache.pig.backend.hadoop.executionengine.mapReduceLayer.MapReduceLauncher - 75% complete\n",
            "2024-04-09 05:09:12,209 [MainThread] INFO  org.apache.pig.backend.hadoop.executionengine.mapReduceLayer.MapReduceLauncher - Running jobs are [job_1712636677341_0009]\n",
            "2024-04-09 05:09:17,725 [MainThread] INFO  org.apache.hadoop.yarn.client.RMProxy - Connecting to ResourceManager at /0.0.0.0:8032\n",
            "2024-04-09 05:09:17,742 [MainThread] INFO  org.apache.hadoop.mapred.ClientServiceDelegate - Application state is completed. FinalApplicationStatus=SUCCEEDED. Redirecting to job history server\n",
            "2024-04-09 05:09:17,972 [MainThread] INFO  org.apache.hadoop.yarn.client.RMProxy - Connecting to ResourceManager at /0.0.0.0:8032\n",
            "2024-04-09 05:09:17,984 [MainThread] INFO  org.apache.hadoop.mapred.ClientServiceDelegate - Application state is completed. FinalApplicationStatus=SUCCEEDED. Redirecting to job history server\n",
            "2024-04-09 05:09:18,047 [MainThread] INFO  org.apache.hadoop.yarn.client.RMProxy - Connecting to ResourceManager at /0.0.0.0:8032\n",
            "2024-04-09 05:09:18,071 [MainThread] INFO  org.apache.hadoop.mapred.ClientServiceDelegate - Application state is completed. FinalApplicationStatus=SUCCEEDED. Redirecting to job history server\n",
            "2024-04-09 05:09:18,137 [MainThread] INFO  org.apache.pig.tools.pigstats.mapreduce.MRScriptState - Pig script settings are added to the job\n",
            "2024-04-09 05:09:18,137 [MainThread] INFO  org.apache.pig.backend.hadoop.executionengine.mapReduceLayer.JobControlCompiler - mapred.job.reduce.markreset.buffer.percent is not set, set to default 0.3\n",
            "2024-04-09 05:09:18,138 [MainThread] INFO  org.apache.pig.backend.hadoop.executionengine.mapReduceLayer.JobControlCompiler - Reduce phase detected, estimating # of required reducers.\n",
            "2024-04-09 05:09:18,138 [MainThread] INFO  org.apache.pig.backend.hadoop.executionengine.mapReduceLayer.JobControlCompiler - Setting Parallelism to 1\n",
            "2024-04-09 05:09:18,138 [MainThread] INFO  org.apache.pig.backend.hadoop.executionengine.mapReduceLayer.JobControlCompiler - This job cannot be converted run in-process\n",
            "2024-04-09 05:09:18,268 [MainThread] INFO  org.apache.pig.backend.hadoop.executionengine.mapReduceLayer.JobControlCompiler - Added jar file:/content/pig-0.17.0/pig-0.17.0-core-h2.jar to DistributedCache through /tmp/temp884719507/tmp-1889822869/pig-0.17.0-core-h2.jar\n",
            "2024-04-09 05:09:19,287 [MainThread] INFO  org.apache.pig.backend.hadoop.executionengine.mapReduceLayer.JobControlCompiler - Added jar file:/content/pig-0.17.0/lib/jython-standalone-2.7.0.jar to DistributedCache through /tmp/temp884719507/tmp1348338513/jython-standalone-2.7.0.jar\n",
            "2024-04-09 05:09:19,718 [MainThread] INFO  org.apache.pig.backend.hadoop.executionengine.mapReduceLayer.JobControlCompiler - Added jar file:/content/pig-0.17.0/lib/automaton-1.11-8.jar to DistributedCache through /tmp/temp884719507/tmp-2057436208/automaton-1.11-8.jar\n",
            "2024-04-09 05:09:20,164 [MainThread] INFO  org.apache.pig.backend.hadoop.executionengine.mapReduceLayer.JobControlCompiler - Added jar file:/content/pig-0.17.0/lib/antlr-runtime-3.4.jar to DistributedCache through /tmp/temp884719507/tmp646588070/antlr-runtime-3.4.jar\n",
            "2024-04-09 05:09:20,236 [MainThread] INFO  org.apache.pig.backend.hadoop.executionengine.mapReduceLayer.JobControlCompiler - Added jar file:/content/pig-0.17.0/lib/joda-time-2.9.3.jar to DistributedCache through /tmp/temp884719507/tmp-1803756993/joda-time-2.9.3.jar\n",
            "2024-04-09 05:09:20,673 [MainThread] INFO  org.apache.pig.backend.hadoop.executionengine.mapReduceLayer.JobControlCompiler - Added jar file:/tmp/PigScriptUDF-6720865e24fcd5b73362fd1378cc9a22.jar to DistributedCache through /tmp/temp884719507/tmp-1657802890/PigScriptUDF-6720865e24fcd5b73362fd1378cc9a22.jar\n",
            "2024-04-09 05:09:20,675 [MainThread] INFO  org.apache.pig.backend.hadoop.executionengine.mapReduceLayer.JobControlCompiler - Setting up single store job\n",
            "2024-04-09 05:09:20,675 [MainThread] INFO  org.apache.pig.data.SchemaTupleFrontend - Key [pig.schematuple] is false, will not generate code.\n",
            "2024-04-09 05:09:20,675 [MainThread] INFO  org.apache.pig.data.SchemaTupleFrontend - Starting process to move generated code to distributed cacche\n",
            "2024-04-09 05:09:20,675 [MainThread] INFO  org.apache.pig.data.SchemaTupleFrontend - Setting key [pig.schematuple.classes] with classes to deserialize []\n",
            "2024-04-09 05:09:20,753 [MainThread] INFO  org.apache.pig.backend.hadoop.executionengine.mapReduceLayer.MapReduceLauncher - 1 map-reduce job(s) waiting for submission.\n",
            "2024-04-09 05:09:20,776 [JobControl] INFO  org.apache.hadoop.yarn.client.RMProxy - Connecting to ResourceManager at /0.0.0.0:8032\n",
            "2024-04-09 05:09:20,855 [JobControl] INFO  org.apache.hadoop.conf.Configuration.deprecation - yarn.resourcemanager.system-metrics-publisher.enabled is deprecated. Instead, use yarn.system-metrics-publisher.enabled\n",
            "2024-04-09 05:09:20,886 [JobControl] WARN  org.apache.hadoop.mapreduce.JobResourceUploader - No job jar file set.  User classes may not be found. See Job or Job#setJar(String).\n",
            "2024-04-09 05:09:20,954 [JobControl] INFO  org.apache.hadoop.mapreduce.lib.input.FileInputFormat - Total input files to process : 1\n",
            "2024-04-09 05:09:20,954 [JobControl] INFO  org.apache.pig.backend.hadoop.executionengine.util.MapRedUtil - Total input paths to process : 1\n",
            "2024-04-09 05:09:20,954 [JobControl] INFO  org.apache.pig.backend.hadoop.executionengine.util.MapRedUtil - Total input paths (combined) to process : 1\n",
            "2024-04-09 05:09:21,054 [JobControl] INFO  org.apache.hadoop.mapreduce.JobSubmitter - number of splits:1\n",
            "2024-04-09 05:09:21,123 [JobControl] INFO  org.apache.hadoop.mapreduce.JobSubmitter - Submitting tokens for job: job_1712636677341_0010\n",
            "2024-04-09 05:09:21,135 [JobControl] INFO  org.apache.hadoop.mapred.YARNRunner - Job jar is not present. Not adding any jar to the list of resources.\n",
            "2024-04-09 05:09:21,220 [JobControl] INFO  org.apache.hadoop.yarn.client.api.impl.YarnClientImpl - Submitted application application_1712636677341_0010\n",
            "2024-04-09 05:09:21,225 [JobControl] INFO  org.apache.hadoop.mapreduce.Job - The url to track the job: http://49bab7c0f679:8088/proxy/application_1712636677341_0010/\n",
            "2024-04-09 05:09:21,263 [MainThread] INFO  org.apache.pig.backend.hadoop.executionengine.mapReduceLayer.MapReduceLauncher - HadoopJobId: job_1712636677341_0010\n",
            "2024-04-09 05:09:21,263 [MainThread] INFO  org.apache.pig.backend.hadoop.executionengine.mapReduceLayer.MapReduceLauncher - Processing aliases ordered_data\n",
            "2024-04-09 05:09:21,263 [MainThread] INFO  org.apache.pig.backend.hadoop.executionengine.mapReduceLayer.MapReduceLauncher - detailed locations: M: ordered_data[16,15] C:  R: \n",
            "2024-04-09 05:09:43,623 [MainThread] INFO  org.apache.pig.backend.hadoop.executionengine.mapReduceLayer.MapReduceLauncher - 87% complete\n",
            "2024-04-09 05:09:43,623 [MainThread] INFO  org.apache.pig.backend.hadoop.executionengine.mapReduceLayer.MapReduceLauncher - Running jobs are [job_1712636677341_0010]\n",
            "2024-04-09 05:09:48,632 [MainThread] INFO  org.apache.pig.backend.hadoop.executionengine.mapReduceLayer.MapReduceLauncher - Running jobs are [job_1712636677341_0010]\n",
            "2024-04-09 05:09:51,657 [MainThread] INFO  org.apache.hadoop.yarn.client.RMProxy - Connecting to ResourceManager at /0.0.0.0:8032\n",
            "2024-04-09 05:09:51,686 [MainThread] INFO  org.apache.hadoop.mapred.ClientServiceDelegate - Application state is completed. FinalApplicationStatus=SUCCEEDED. Redirecting to job history server\n",
            "2024-04-09 05:09:51,814 [MainThread] INFO  org.apache.hadoop.yarn.client.RMProxy - Connecting to ResourceManager at /0.0.0.0:8032\n",
            "2024-04-09 05:09:51,838 [MainThread] INFO  org.apache.hadoop.mapred.ClientServiceDelegate - Application state is completed. FinalApplicationStatus=SUCCEEDED. Redirecting to job history server\n",
            "2024-04-09 05:09:51,877 [MainThread] INFO  org.apache.hadoop.yarn.client.RMProxy - Connecting to ResourceManager at /0.0.0.0:8032\n",
            "2024-04-09 05:09:51,884 [MainThread] INFO  org.apache.hadoop.mapred.ClientServiceDelegate - Application state is completed. FinalApplicationStatus=SUCCEEDED. Redirecting to job history server\n",
            "2024-04-09 05:09:51,950 [MainThread] INFO  org.apache.pig.backend.hadoop.executionengine.mapReduceLayer.MapReduceLauncher - 100% complete\n",
            "2024-04-09 05:09:52,003 [MainThread] INFO  org.apache.pig.tools.pigstats.mapreduce.SimplePigStats - Script Statistics: \n",
            "\n",
            "HadoopVersion\tPigVersion\tUserId\tStartedAt\tFinishedAt\tFeatures\n",
            "2.10.1\t0.17.0\troot\t2024-04-09 05:01:54\t2024-04-09 05:09:51\tHASH_JOIN,GROUP_BY,ORDER_BY,FILTER\n",
            "\n",
            "Success!\n",
            "\n",
            "Job Stats (time in seconds):\n",
            "JobId\tMaps\tReduces\tMaxMapTime\tMinMapTime\tAvgMapTime\tMedianMapTime\tMaxReduceTime\tMinReduceTime\tAvgReduceTime\tMedianReducetime\tAlias\tFeature\tOutputs\n",
            "job_1712636677341_0007\t20\t3\t119\t19\t72\t70\t232\t149\t180\t161\tdata,filtered_data,joined_data,user_data\tHASH_JOIN\t\n",
            "job_1712636677341_0008\t1\t1\t10\t10\t10\t10\t3\t3\t3\t3\tage_counts,grouped_data\tGROUP_BY,COMBINER\t\n",
            "job_1712636677341_0009\t1\t1\t6\t6\t6\t6\t3\t3\t3\t3\tordered_data\tSAMPLER\t\n",
            "job_1712636677341_0010\t1\t1\t3\t3\t3\t3\t3\t3\t3\t3\tordered_data\tORDER_BY\thdfs://localhost:9000/user/root/age_counts,\n",
            "\n",
            "Input(s):\n",
            "Successfully read 993 records from: \"hdfs://localhost:9000/user/root/user_profile\"\n",
            "Successfully read 19150868 records from: \"hdfs://localhost:9000/user/root/user_timestamp\"\n",
            "\n",
            "Output(s):\n",
            "Successfully stored 31 records (216 bytes) in: \"hdfs://localhost:9000/user/root/age_counts\"\n",
            "\n",
            "Counters:\n",
            "Total records written : 31\n",
            "Total bytes written : 216\n",
            "Spillable Memory Manager spill count : 0\n",
            "Total bags proactively spilled: 0\n",
            "Total records proactively spilled: 0\n",
            "\n",
            "Job DAG:\n",
            "job_1712636677341_0007\t->\tjob_1712636677341_0008,\n",
            "job_1712636677341_0008\t->\tjob_1712636677341_0009,\n",
            "job_1712636677341_0009\t->\tjob_1712636677341_0010,\n",
            "job_1712636677341_0010\n",
            "\n",
            "\n",
            "2024-04-09 05:09:52,007 [MainThread] INFO  org.apache.hadoop.yarn.client.RMProxy - Connecting to ResourceManager at /0.0.0.0:8032\n",
            "2024-04-09 05:09:52,019 [MainThread] INFO  org.apache.hadoop.mapred.ClientServiceDelegate - Application state is completed. FinalApplicationStatus=SUCCEEDED. Redirecting to job history server\n",
            "2024-04-09 05:09:52,114 [MainThread] INFO  org.apache.hadoop.yarn.client.RMProxy - Connecting to ResourceManager at /0.0.0.0:8032\n",
            "2024-04-09 05:09:52,124 [MainThread] INFO  org.apache.hadoop.mapred.ClientServiceDelegate - Application state is completed. FinalApplicationStatus=SUCCEEDED. Redirecting to job history server\n",
            "2024-04-09 05:09:52,176 [MainThread] INFO  org.apache.hadoop.yarn.client.RMProxy - Connecting to ResourceManager at /0.0.0.0:8032\n",
            "2024-04-09 05:09:52,196 [MainThread] INFO  org.apache.hadoop.mapred.ClientServiceDelegate - Application state is completed. FinalApplicationStatus=SUCCEEDED. Redirecting to job history server\n",
            "2024-04-09 05:09:52,254 [MainThread] INFO  org.apache.hadoop.yarn.client.RMProxy - Connecting to ResourceManager at /0.0.0.0:8032\n",
            "2024-04-09 05:09:52,273 [MainThread] INFO  org.apache.hadoop.mapred.ClientServiceDelegate - Application state is completed. FinalApplicationStatus=SUCCEEDED. Redirecting to job history server\n",
            "2024-04-09 05:09:52,316 [MainThread] INFO  org.apache.hadoop.yarn.client.RMProxy - Connecting to ResourceManager at /0.0.0.0:8032\n",
            "2024-04-09 05:09:52,323 [MainThread] INFO  org.apache.hadoop.mapred.ClientServiceDelegate - Application state is completed. FinalApplicationStatus=SUCCEEDED. Redirecting to job history server\n",
            "2024-04-09 05:09:52,353 [MainThread] INFO  org.apache.hadoop.yarn.client.RMProxy - Connecting to ResourceManager at /0.0.0.0:8032\n",
            "2024-04-09 05:09:52,357 [MainThread] INFO  org.apache.hadoop.mapred.ClientServiceDelegate - Application state is completed. FinalApplicationStatus=SUCCEEDED. Redirecting to job history server\n",
            "2024-04-09 05:09:52,405 [MainThread] INFO  org.apache.hadoop.yarn.client.RMProxy - Connecting to ResourceManager at /0.0.0.0:8032\n",
            "2024-04-09 05:09:52,424 [MainThread] INFO  org.apache.hadoop.mapred.ClientServiceDelegate - Application state is completed. FinalApplicationStatus=SUCCEEDED. Redirecting to job history server\n",
            "2024-04-09 05:09:52,479 [MainThread] INFO  org.apache.hadoop.yarn.client.RMProxy - Connecting to ResourceManager at /0.0.0.0:8032\n",
            "2024-04-09 05:09:52,490 [MainThread] INFO  org.apache.hadoop.mapred.ClientServiceDelegate - Application state is completed. FinalApplicationStatus=SUCCEEDED. Redirecting to job history server\n",
            "2024-04-09 05:09:52,532 [MainThread] INFO  org.apache.hadoop.yarn.client.RMProxy - Connecting to ResourceManager at /0.0.0.0:8032\n",
            "2024-04-09 05:09:52,543 [MainThread] INFO  org.apache.hadoop.mapred.ClientServiceDelegate - Application state is completed. FinalApplicationStatus=SUCCEEDED. Redirecting to job history server\n",
            "2024-04-09 05:09:52,615 [MainThread] INFO  org.apache.hadoop.yarn.client.RMProxy - Connecting to ResourceManager at /0.0.0.0:8032\n",
            "2024-04-09 05:09:52,629 [MainThread] INFO  org.apache.hadoop.mapred.ClientServiceDelegate - Application state is completed. FinalApplicationStatus=SUCCEEDED. Redirecting to job history server\n",
            "2024-04-09 05:09:52,688 [MainThread] INFO  org.apache.hadoop.yarn.client.RMProxy - Connecting to ResourceManager at /0.0.0.0:8032\n",
            "2024-04-09 05:09:52,695 [MainThread] INFO  org.apache.hadoop.mapred.ClientServiceDelegate - Application state is completed. FinalApplicationStatus=SUCCEEDED. Redirecting to job history server\n",
            "2024-04-09 05:09:52,758 [MainThread] INFO  org.apache.hadoop.yarn.client.RMProxy - Connecting to ResourceManager at /0.0.0.0:8032\n",
            "2024-04-09 05:09:52,767 [MainThread] INFO  org.apache.hadoop.mapred.ClientServiceDelegate - Application state is completed. FinalApplicationStatus=SUCCEEDED. Redirecting to job history server\n",
            "2024-04-09 05:09:52,829 [MainThread] WARN  org.apache.pig.backend.hadoop.executionengine.mapReduceLayer.MapReduceLauncher - Encountered Warning FIELD_DISCARDED_TYPE_CONVERSION_FAILED 1 time(s).\n",
            "2024-04-09 05:09:52,835 [MainThread] INFO  org.apache.pig.backend.hadoop.executionengine.mapReduceLayer.MapReduceLauncher - Success!\n",
            "2024-04-09 05:09:52,904 [MainThread] INFO  org.apache.pig.Main - Pig script completed in 8 minutes, 14 seconds and 11 milliseconds (494011 ms)\n"
          ]
        }
      ]
    },
    {
      "cell_type": "code",
      "source": [
        "!hdfs dfs -ls"
      ],
      "metadata": {
        "id": "0PJvPPQUpySF",
        "colab": {
          "base_uri": "https://localhost:8080/"
        },
        "outputId": "1be3e961-66ea-41a6-b2e9-99c93d20a49b"
      },
      "execution_count": null,
      "outputs": [
        {
          "output_type": "stream",
          "name": "stdout",
          "text": [
            "Found 5 items\n",
            "drwxr-xr-x   - root supergroup          0 2024-04-09 05:09 age_counts\n",
            "drwxr-xr-x   - root supergroup          0 2024-04-09 04:50 gender_counts\n",
            "drwxr-xr-x   - root supergroup          0 2024-04-09 04:42 top_artists\n",
            "drwxr-xr-x   - root supergroup          0 2024-04-09 04:28 user_profile\n",
            "drwxr-xr-x   - root supergroup          0 2024-04-09 04:28 user_timestamp\n"
          ]
        }
      ]
    },
    {
      "cell_type": "code",
      "source": [
        "!hdfs dfs -ls age_counts"
      ],
      "metadata": {
        "colab": {
          "base_uri": "https://localhost:8080/"
        },
        "id": "U0rC9URH95rW",
        "outputId": "1fea9d96-3529-4e50-f7a2-88e13db5ee3c"
      },
      "execution_count": null,
      "outputs": [
        {
          "output_type": "stream",
          "name": "stdout",
          "text": [
            "Found 2 items\n",
            "-rw-r--r--   1 root supergroup          0 2024-04-09 05:09 age_counts/_SUCCESS\n",
            "-rw-r--r--   1 root supergroup        216 2024-04-09 05:09 age_counts/part-r-00000\n"
          ]
        }
      ]
    },
    {
      "cell_type": "code",
      "source": [
        "!hdfs dfs -cat age_counts/part-r-00000"
      ],
      "metadata": {
        "colab": {
          "base_uri": "https://localhost:8080/"
        },
        "id": "uoNPsvra-C6D",
        "outputId": "09fbac4e-86d4-4236-95ff-a196b8968ab1"
      },
      "execution_count": null,
      "outputs": [
        {
          "output_type": "stream",
          "name": "stdout",
          "text": [
            "3\t2\n",
            "4\t14\n",
            "7\t2\n",
            "15\t2\n",
            "16\t122\n",
            "17\t444\n",
            "18\t65\n",
            "19\t4514\n",
            "20\t5760\n",
            "21\t1589\n",
            "22\t7038\n",
            "23\t2552\n",
            "24\t1313\n",
            "25\t1289\n",
            "26\t2527\n",
            "27\t2360\n",
            "28\t1330\n",
            "29\t359\n",
            "30\t617\n",
            "31\t146\n",
            "32\t433\n",
            "33\t1441\n",
            "34\t404\n",
            "35\t1543\n",
            "36\t1962\n",
            "38\t422\n",
            "39\t213\n",
            "42\t13\n",
            "48\t35\n",
            "75\t109\n",
            "103\t1\n"
          ]
        }
      ]
    },
    {
      "cell_type": "markdown",
      "metadata": {
        "id": "Y1v36Ay1YnAB"
      },
      "source": [
        "Responda la siguiente pregunta:\n",
        "\n",
        "¿ Cuántos usuarios de 35 años han escuchado al artista más popular ?\n",
        "\n",
        "Dentro de los usuarios de 35 años, 1543 han escuchado al artista mas popular"
      ]
    }
  ]
}